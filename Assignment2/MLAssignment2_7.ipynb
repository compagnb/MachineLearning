{
 "cells": [
  {
   "cell_type": "code",
   "execution_count": 55,
   "metadata": {
    "collapsed": true
   },
   "outputs": [],
   "source": [
    "import numpy as np\n",
    "import pandas as pd\n",
    "import matplotlib.pyplot as plt\n",
    "%matplotlib inline"
   ]
  },
  {
   "cell_type": "code",
   "execution_count": 56,
   "metadata": {
    "collapsed": true
   },
   "outputs": [],
   "source": [
    "#Census dataset\n",
    "salData = pd.read_csv('salaryCensusMerge.csv')"
   ]
  },
  {
   "cell_type": "code",
   "execution_count": 57,
   "metadata": {
    "collapsed": false
   },
   "outputs": [
    {
     "data": {
      "text/html": [
       "<div>\n",
       "<table border=\"1\" class=\"dataframe\">\n",
       "  <thead>\n",
       "    <tr style=\"text-align: right;\">\n",
       "      <th></th>\n",
       "      <th>Unnamed: 0</th>\n",
       "      <th>zip</th>\n",
       "      <th>function.</th>\n",
       "      <th>sup1</th>\n",
       "      <th>sup2</th>\n",
       "      <th>sup3</th>\n",
       "      <th>sup4</th>\n",
       "      <th>sup5</th>\n",
       "      <th>salary</th>\n",
       "      <th>gender</th>\n",
       "      <th>...</th>\n",
       "      <th>Types.of.Health.Insurance.Coverage.by.Age..65.years.and.over..With.two.or.more.types.of.health.insurance.coverage.With.direct.purchase.and.Medicare.coverage</th>\n",
       "      <th>Types.of.Health.Insurance.Coverage.by.Age..65.years.and.over..With.two.or.more.types.of.health.insurance.coverage.With.Medicare.and.Medicaid.means.tested.public.coverage</th>\n",
       "      <th>Types.of.Health.Insurance.Coverage.by.Age..65.years.and.over..With.two.or.more.types.of.health.insurance.coverage.Other.private.only.combinations</th>\n",
       "      <th>Types.of.Health.Insurance.Coverage.by.Age..65.years.and.over..With.two.or.more.types.of.health.insurance.coverage.Other.public.only.combinations</th>\n",
       "      <th>Types.of.Health.Insurance.Coverage.by.Age..65.years.and.over..With.two.or.more.types.of.health.insurance.coverage.Other.coverage.combinations</th>\n",
       "      <th>Types.of.Health.Insurance.Coverage.by.Age..65.years.and.over..No.health.insurance.coverage</th>\n",
       "      <th>married</th>\n",
       "      <th>divorced</th>\n",
       "      <th>bad_english</th>\n",
       "      <th>poverty</th>\n",
       "    </tr>\n",
       "  </thead>\n",
       "  <tbody>\n",
       "    <tr>\n",
       "      <th>0</th>\n",
       "      <td>1</td>\n",
       "      <td>1003</td>\n",
       "      <td>position1</td>\n",
       "      <td>4</td>\n",
       "      <td>4</td>\n",
       "      <td>0</td>\n",
       "      <td>0</td>\n",
       "      <td>0</td>\n",
       "      <td>77308</td>\n",
       "      <td>M</td>\n",
       "      <td>...</td>\n",
       "      <td>16686</td>\n",
       "      <td>9442</td>\n",
       "      <td>0</td>\n",
       "      <td>1289</td>\n",
       "      <td>18508</td>\n",
       "      <td>194</td>\n",
       "      <td>42.023943</td>\n",
       "      <td>10.485747</td>\n",
       "      <td>7.930932</td>\n",
       "      <td>16.801532</td>\n",
       "    </tr>\n",
       "    <tr>\n",
       "      <th>1</th>\n",
       "      <td>2</td>\n",
       "      <td>1003</td>\n",
       "      <td>position15</td>\n",
       "      <td>0</td>\n",
       "      <td>2</td>\n",
       "      <td>0</td>\n",
       "      <td>60</td>\n",
       "      <td>0</td>\n",
       "      <td>38120</td>\n",
       "      <td>M</td>\n",
       "      <td>...</td>\n",
       "      <td>16686</td>\n",
       "      <td>9442</td>\n",
       "      <td>0</td>\n",
       "      <td>1289</td>\n",
       "      <td>18508</td>\n",
       "      <td>194</td>\n",
       "      <td>42.023943</td>\n",
       "      <td>10.485747</td>\n",
       "      <td>7.930932</td>\n",
       "      <td>16.801532</td>\n",
       "    </tr>\n",
       "    <tr>\n",
       "      <th>2</th>\n",
       "      <td>3</td>\n",
       "      <td>1003</td>\n",
       "      <td>position15</td>\n",
       "      <td>1</td>\n",
       "      <td>0</td>\n",
       "      <td>0</td>\n",
       "      <td>60</td>\n",
       "      <td>2</td>\n",
       "      <td>55335</td>\n",
       "      <td>W</td>\n",
       "      <td>...</td>\n",
       "      <td>16686</td>\n",
       "      <td>9442</td>\n",
       "      <td>0</td>\n",
       "      <td>1289</td>\n",
       "      <td>18508</td>\n",
       "      <td>194</td>\n",
       "      <td>42.023943</td>\n",
       "      <td>10.485747</td>\n",
       "      <td>7.930932</td>\n",
       "      <td>16.801532</td>\n",
       "    </tr>\n",
       "    <tr>\n",
       "      <th>3</th>\n",
       "      <td>4</td>\n",
       "      <td>1003</td>\n",
       "      <td>position4</td>\n",
       "      <td>1</td>\n",
       "      <td>0</td>\n",
       "      <td>0</td>\n",
       "      <td>35</td>\n",
       "      <td>1</td>\n",
       "      <td>70863</td>\n",
       "      <td>W</td>\n",
       "      <td>...</td>\n",
       "      <td>16686</td>\n",
       "      <td>9442</td>\n",
       "      <td>0</td>\n",
       "      <td>1289</td>\n",
       "      <td>18508</td>\n",
       "      <td>194</td>\n",
       "      <td>42.023943</td>\n",
       "      <td>10.485747</td>\n",
       "      <td>7.930932</td>\n",
       "      <td>16.801532</td>\n",
       "    </tr>\n",
       "    <tr>\n",
       "      <th>4</th>\n",
       "      <td>5</td>\n",
       "      <td>1003</td>\n",
       "      <td>position9</td>\n",
       "      <td>1</td>\n",
       "      <td>0</td>\n",
       "      <td>0</td>\n",
       "      <td>100</td>\n",
       "      <td>0</td>\n",
       "      <td>56557</td>\n",
       "      <td>M</td>\n",
       "      <td>...</td>\n",
       "      <td>16686</td>\n",
       "      <td>9442</td>\n",
       "      <td>0</td>\n",
       "      <td>1289</td>\n",
       "      <td>18508</td>\n",
       "      <td>194</td>\n",
       "      <td>42.023943</td>\n",
       "      <td>10.485747</td>\n",
       "      <td>7.930932</td>\n",
       "      <td>16.801532</td>\n",
       "    </tr>\n",
       "  </tbody>\n",
       "</table>\n",
       "<p>5 rows × 201 columns</p>\n",
       "</div>"
      ],
      "text/plain": [
       "   Unnamed: 0   zip   function.  sup1  sup2  sup3  sup4  sup5  salary gender  \\\n",
       "0           1  1003   position1     4     4     0     0     0   77308      M   \n",
       "1           2  1003  position15     0     2     0    60     0   38120      M   \n",
       "2           3  1003  position15     1     0     0    60     2   55335      W   \n",
       "3           4  1003   position4     1     0     0    35     1   70863      W   \n",
       "4           5  1003   position9     1     0     0   100     0   56557      M   \n",
       "\n",
       "     ...      \\\n",
       "0    ...       \n",
       "1    ...       \n",
       "2    ...       \n",
       "3    ...       \n",
       "4    ...       \n",
       "\n",
       "  Types.of.Health.Insurance.Coverage.by.Age..65.years.and.over..With.two.or.more.types.of.health.insurance.coverage.With.direct.purchase.and.Medicare.coverage  \\\n",
       "0                                              16686                                                                                                             \n",
       "1                                              16686                                                                                                             \n",
       "2                                              16686                                                                                                             \n",
       "3                                              16686                                                                                                             \n",
       "4                                              16686                                                                                                             \n",
       "\n",
       "  Types.of.Health.Insurance.Coverage.by.Age..65.years.and.over..With.two.or.more.types.of.health.insurance.coverage.With.Medicare.and.Medicaid.means.tested.public.coverage  \\\n",
       "0                                               9442                                                                                                                          \n",
       "1                                               9442                                                                                                                          \n",
       "2                                               9442                                                                                                                          \n",
       "3                                               9442                                                                                                                          \n",
       "4                                               9442                                                                                                                          \n",
       "\n",
       "   Types.of.Health.Insurance.Coverage.by.Age..65.years.and.over..With.two.or.more.types.of.health.insurance.coverage.Other.private.only.combinations  \\\n",
       "0                                                  0                                                                                                   \n",
       "1                                                  0                                                                                                   \n",
       "2                                                  0                                                                                                   \n",
       "3                                                  0                                                                                                   \n",
       "4                                                  0                                                                                                   \n",
       "\n",
       "   Types.of.Health.Insurance.Coverage.by.Age..65.years.and.over..With.two.or.more.types.of.health.insurance.coverage.Other.public.only.combinations  \\\n",
       "0                                               1289                                                                                                  \n",
       "1                                               1289                                                                                                  \n",
       "2                                               1289                                                                                                  \n",
       "3                                               1289                                                                                                  \n",
       "4                                               1289                                                                                                  \n",
       "\n",
       "   Types.of.Health.Insurance.Coverage.by.Age..65.years.and.over..With.two.or.more.types.of.health.insurance.coverage.Other.coverage.combinations  \\\n",
       "0                                              18508                                                                                               \n",
       "1                                              18508                                                                                               \n",
       "2                                              18508                                                                                               \n",
       "3                                              18508                                                                                               \n",
       "4                                              18508                                                                                               \n",
       "\n",
       "  Types.of.Health.Insurance.Coverage.by.Age..65.years.and.over..No.health.insurance.coverage  \\\n",
       "0                                                194                                           \n",
       "1                                                194                                           \n",
       "2                                                194                                           \n",
       "3                                                194                                           \n",
       "4                                                194                                           \n",
       "\n",
       "     married   divorced  bad_english    poverty  \n",
       "0  42.023943  10.485747     7.930932  16.801532  \n",
       "1  42.023943  10.485747     7.930932  16.801532  \n",
       "2  42.023943  10.485747     7.930932  16.801532  \n",
       "3  42.023943  10.485747     7.930932  16.801532  \n",
       "4  42.023943  10.485747     7.930932  16.801532  \n",
       "\n",
       "[5 rows x 201 columns]"
      ]
     },
     "execution_count": 57,
     "metadata": {},
     "output_type": "execute_result"
    }
   ],
   "source": [
    "salData.head(5)"
   ]
  },
  {
   "cell_type": "code",
   "execution_count": 59,
   "metadata": {
    "collapsed": false
   },
   "outputs": [],
   "source": [
    "# salData.mean()"
   ]
  },
  {
   "cell_type": "code",
   "execution_count": 60,
   "metadata": {
    "collapsed": false
   },
   "outputs": [
    {
     "data": {
      "text/html": [
       "<div>\n",
       "<table border=\"1\" class=\"dataframe\">\n",
       "  <thead>\n",
       "    <tr style=\"text-align: right;\">\n",
       "      <th></th>\n",
       "      <th>Zip Code Pop</th>\n",
       "      <th>2010 Census Population</th>\n",
       "      <th>zip</th>\n",
       "    </tr>\n",
       "  </thead>\n",
       "  <tbody>\n",
       "    <tr>\n",
       "      <th>0</th>\n",
       "      <td>1001</td>\n",
       "      <td>16769</td>\n",
       "      <td>1001</td>\n",
       "    </tr>\n",
       "    <tr>\n",
       "      <th>1</th>\n",
       "      <td>1002</td>\n",
       "      <td>29049</td>\n",
       "      <td>1002</td>\n",
       "    </tr>\n",
       "    <tr>\n",
       "      <th>2</th>\n",
       "      <td>1003</td>\n",
       "      <td>10372</td>\n",
       "      <td>1003</td>\n",
       "    </tr>\n",
       "    <tr>\n",
       "      <th>3</th>\n",
       "      <td>1005</td>\n",
       "      <td>5079</td>\n",
       "      <td>1005</td>\n",
       "    </tr>\n",
       "    <tr>\n",
       "      <th>4</th>\n",
       "      <td>1007</td>\n",
       "      <td>14649</td>\n",
       "      <td>1007</td>\n",
       "    </tr>\n",
       "  </tbody>\n",
       "</table>\n",
       "</div>"
      ],
      "text/plain": [
       "   Zip Code Pop  2010 Census Population   zip\n",
       "0          1001                   16769  1001\n",
       "1          1002                   29049  1002\n",
       "2          1003                   10372  1003\n",
       "3          1005                    5079  1005\n",
       "4          1007                   14649  1007"
      ]
     },
     "execution_count": 60,
     "metadata": {},
     "output_type": "execute_result"
    }
   ],
   "source": [
    "popData = pd.read_csv('population.csv')\n",
    "popData['zip'] = popData['Zip Code Pop']\n",
    "popData.head()"
   ]
  },
  {
   "cell_type": "code",
   "execution_count": 61,
   "metadata": {
    "collapsed": true
   },
   "outputs": [],
   "source": [
    "# eliminate rows with missing Y values (NaN)\n",
    "salData['missingSalary'] = pd.isnull(salData['salary'])\n",
    "salData2 = salData[(salData.missingSalary == False)]"
   ]
  },
  {
   "cell_type": "code",
   "execution_count": 62,
   "metadata": {
    "collapsed": false
   },
   "outputs": [
    {
     "data": {
      "text/html": [
       "<div>\n",
       "<table border=\"1\" class=\"dataframe\">\n",
       "  <thead>\n",
       "    <tr style=\"text-align: right;\">\n",
       "      <th></th>\n",
       "      <th>Unnamed: 0</th>\n",
       "      <th>zip</th>\n",
       "      <th>function.</th>\n",
       "      <th>sup1</th>\n",
       "      <th>sup2</th>\n",
       "      <th>sup3</th>\n",
       "      <th>sup4</th>\n",
       "      <th>sup5</th>\n",
       "      <th>salary</th>\n",
       "      <th>gender</th>\n",
       "      <th>...</th>\n",
       "      <th>Types.of.Health.Insurance.Coverage.by.Age..65.years.and.over..With.two.or.more.types.of.health.insurance.coverage.With.Medicare.and.Medicaid.means.tested.public.coverage</th>\n",
       "      <th>Types.of.Health.Insurance.Coverage.by.Age..65.years.and.over..With.two.or.more.types.of.health.insurance.coverage.Other.private.only.combinations</th>\n",
       "      <th>Types.of.Health.Insurance.Coverage.by.Age..65.years.and.over..With.two.or.more.types.of.health.insurance.coverage.Other.public.only.combinations</th>\n",
       "      <th>Types.of.Health.Insurance.Coverage.by.Age..65.years.and.over..With.two.or.more.types.of.health.insurance.coverage.Other.coverage.combinations</th>\n",
       "      <th>Types.of.Health.Insurance.Coverage.by.Age..65.years.and.over..No.health.insurance.coverage</th>\n",
       "      <th>married</th>\n",
       "      <th>divorced</th>\n",
       "      <th>bad_english</th>\n",
       "      <th>poverty</th>\n",
       "      <th>missingSalary</th>\n",
       "    </tr>\n",
       "  </thead>\n",
       "  <tbody>\n",
       "    <tr>\n",
       "      <th>0</th>\n",
       "      <td>1</td>\n",
       "      <td>1003</td>\n",
       "      <td>position1</td>\n",
       "      <td>4</td>\n",
       "      <td>4</td>\n",
       "      <td>0</td>\n",
       "      <td>0</td>\n",
       "      <td>0</td>\n",
       "      <td>77308</td>\n",
       "      <td>M</td>\n",
       "      <td>...</td>\n",
       "      <td>9442</td>\n",
       "      <td>0</td>\n",
       "      <td>1289</td>\n",
       "      <td>18508</td>\n",
       "      <td>194</td>\n",
       "      <td>42.023943</td>\n",
       "      <td>10.485747</td>\n",
       "      <td>7.930932</td>\n",
       "      <td>16.801532</td>\n",
       "      <td>False</td>\n",
       "    </tr>\n",
       "    <tr>\n",
       "      <th>1</th>\n",
       "      <td>2</td>\n",
       "      <td>1003</td>\n",
       "      <td>position15</td>\n",
       "      <td>0</td>\n",
       "      <td>2</td>\n",
       "      <td>0</td>\n",
       "      <td>60</td>\n",
       "      <td>0</td>\n",
       "      <td>38120</td>\n",
       "      <td>M</td>\n",
       "      <td>...</td>\n",
       "      <td>9442</td>\n",
       "      <td>0</td>\n",
       "      <td>1289</td>\n",
       "      <td>18508</td>\n",
       "      <td>194</td>\n",
       "      <td>42.023943</td>\n",
       "      <td>10.485747</td>\n",
       "      <td>7.930932</td>\n",
       "      <td>16.801532</td>\n",
       "      <td>False</td>\n",
       "    </tr>\n",
       "    <tr>\n",
       "      <th>2</th>\n",
       "      <td>3</td>\n",
       "      <td>1003</td>\n",
       "      <td>position15</td>\n",
       "      <td>1</td>\n",
       "      <td>0</td>\n",
       "      <td>0</td>\n",
       "      <td>60</td>\n",
       "      <td>2</td>\n",
       "      <td>55335</td>\n",
       "      <td>W</td>\n",
       "      <td>...</td>\n",
       "      <td>9442</td>\n",
       "      <td>0</td>\n",
       "      <td>1289</td>\n",
       "      <td>18508</td>\n",
       "      <td>194</td>\n",
       "      <td>42.023943</td>\n",
       "      <td>10.485747</td>\n",
       "      <td>7.930932</td>\n",
       "      <td>16.801532</td>\n",
       "      <td>False</td>\n",
       "    </tr>\n",
       "    <tr>\n",
       "      <th>3</th>\n",
       "      <td>4</td>\n",
       "      <td>1003</td>\n",
       "      <td>position4</td>\n",
       "      <td>1</td>\n",
       "      <td>0</td>\n",
       "      <td>0</td>\n",
       "      <td>35</td>\n",
       "      <td>1</td>\n",
       "      <td>70863</td>\n",
       "      <td>W</td>\n",
       "      <td>...</td>\n",
       "      <td>9442</td>\n",
       "      <td>0</td>\n",
       "      <td>1289</td>\n",
       "      <td>18508</td>\n",
       "      <td>194</td>\n",
       "      <td>42.023943</td>\n",
       "      <td>10.485747</td>\n",
       "      <td>7.930932</td>\n",
       "      <td>16.801532</td>\n",
       "      <td>False</td>\n",
       "    </tr>\n",
       "    <tr>\n",
       "      <th>4</th>\n",
       "      <td>5</td>\n",
       "      <td>1003</td>\n",
       "      <td>position9</td>\n",
       "      <td>1</td>\n",
       "      <td>0</td>\n",
       "      <td>0</td>\n",
       "      <td>100</td>\n",
       "      <td>0</td>\n",
       "      <td>56557</td>\n",
       "      <td>M</td>\n",
       "      <td>...</td>\n",
       "      <td>9442</td>\n",
       "      <td>0</td>\n",
       "      <td>1289</td>\n",
       "      <td>18508</td>\n",
       "      <td>194</td>\n",
       "      <td>42.023943</td>\n",
       "      <td>10.485747</td>\n",
       "      <td>7.930932</td>\n",
       "      <td>16.801532</td>\n",
       "      <td>False</td>\n",
       "    </tr>\n",
       "  </tbody>\n",
       "</table>\n",
       "<p>5 rows × 202 columns</p>\n",
       "</div>"
      ],
      "text/plain": [
       "   Unnamed: 0   zip   function.  sup1  sup2  sup3  sup4  sup5  salary gender  \\\n",
       "0           1  1003   position1     4     4     0     0     0   77308      M   \n",
       "1           2  1003  position15     0     2     0    60     0   38120      M   \n",
       "2           3  1003  position15     1     0     0    60     2   55335      W   \n",
       "3           4  1003   position4     1     0     0    35     1   70863      W   \n",
       "4           5  1003   position9     1     0     0   100     0   56557      M   \n",
       "\n",
       "       ...        \\\n",
       "0      ...         \n",
       "1      ...         \n",
       "2      ...         \n",
       "3      ...         \n",
       "4      ...         \n",
       "\n",
       "  Types.of.Health.Insurance.Coverage.by.Age..65.years.and.over..With.two.or.more.types.of.health.insurance.coverage.With.Medicare.and.Medicaid.means.tested.public.coverage  \\\n",
       "0                                               9442                                                                                                                          \n",
       "1                                               9442                                                                                                                          \n",
       "2                                               9442                                                                                                                          \n",
       "3                                               9442                                                                                                                          \n",
       "4                                               9442                                                                                                                          \n",
       "\n",
       "  Types.of.Health.Insurance.Coverage.by.Age..65.years.and.over..With.two.or.more.types.of.health.insurance.coverage.Other.private.only.combinations  \\\n",
       "0                                                  0                                                                                                  \n",
       "1                                                  0                                                                                                  \n",
       "2                                                  0                                                                                                  \n",
       "3                                                  0                                                                                                  \n",
       "4                                                  0                                                                                                  \n",
       "\n",
       "   Types.of.Health.Insurance.Coverage.by.Age..65.years.and.over..With.two.or.more.types.of.health.insurance.coverage.Other.public.only.combinations  \\\n",
       "0                                               1289                                                                                                  \n",
       "1                                               1289                                                                                                  \n",
       "2                                               1289                                                                                                  \n",
       "3                                               1289                                                                                                  \n",
       "4                                               1289                                                                                                  \n",
       "\n",
       "   Types.of.Health.Insurance.Coverage.by.Age..65.years.and.over..With.two.or.more.types.of.health.insurance.coverage.Other.coverage.combinations  \\\n",
       "0                                              18508                                                                                               \n",
       "1                                              18508                                                                                               \n",
       "2                                              18508                                                                                               \n",
       "3                                              18508                                                                                               \n",
       "4                                              18508                                                                                               \n",
       "\n",
       "   Types.of.Health.Insurance.Coverage.by.Age..65.years.and.over..No.health.insurance.coverage  \\\n",
       "0                                                194                                            \n",
       "1                                                194                                            \n",
       "2                                                194                                            \n",
       "3                                                194                                            \n",
       "4                                                194                                            \n",
       "\n",
       "     married   divorced bad_english    poverty  missingSalary  \n",
       "0  42.023943  10.485747    7.930932  16.801532          False  \n",
       "1  42.023943  10.485747    7.930932  16.801532          False  \n",
       "2  42.023943  10.485747    7.930932  16.801532          False  \n",
       "3  42.023943  10.485747    7.930932  16.801532          False  \n",
       "4  42.023943  10.485747    7.930932  16.801532          False  \n",
       "\n",
       "[5 rows x 202 columns]"
      ]
     },
     "execution_count": 62,
     "metadata": {},
     "output_type": "execute_result"
    }
   ],
   "source": [
    "salData2.head()"
   ]
  },
  {
   "cell_type": "code",
   "execution_count": 63,
   "metadata": {
    "collapsed": false
   },
   "outputs": [],
   "source": [
    "mergedData = pd.merge(salData2, popData, how='left', on = 'zip')"
   ]
  },
  {
   "cell_type": "code",
   "execution_count": 64,
   "metadata": {
    "collapsed": false
   },
   "outputs": [
    {
     "data": {
      "text/plain": [
       "['Unnamed: 0',\n",
       " 'zip',\n",
       " 'function.',\n",
       " 'sup1',\n",
       " 'sup2',\n",
       " 'sup3',\n",
       " 'sup4',\n",
       " 'sup5',\n",
       " 'salary',\n",
       " 'gender',\n",
       " 'disabled',\n",
       " 'race',\n",
       " 'yearsinposition',\n",
       " 'yearsinprofession',\n",
       " 'age',\n",
       " 'cred1',\n",
       " 'cred2',\n",
       " 'highestdegree',\n",
       " 'inst1',\n",
       " 'inst2',\n",
       " 'inst3',\n",
       " 'inst4',\n",
       " 'inst5',\n",
       " 'instbudget',\n",
       " 'city',\n",
       " 'state',\n",
       " 'country',\n",
       " 'category',\n",
       " 'instsize',\n",
       " 'insttype',\n",
       " 'ZCTA5',\n",
       " 'cbsa',\n",
       " 'total_population',\n",
       " 'Median_Household_Income',\n",
       " 'no_male_hs',\n",
       " 'no_female_hs',\n",
       " 'no_hs',\n",
       " 'at_least_hs_male',\n",
       " 'at_least_hs_female',\n",
       " 'at_least_hs',\n",
       " 'hs_some_college_male',\n",
       " 'hs_some_college_female',\n",
       " 'hs_some_college',\n",
       " 'bachelors_male',\n",
       " 'bachelors_female',\n",
       " 'bachelors',\n",
       " 'at_least_bach_male',\n",
       " 'at_least_bach_female',\n",
       " 'at_least_bach',\n",
       " 'graduate_male',\n",
       " 'graduate_female',\n",
       " 'graduate',\n",
       " 'hispanic',\n",
       " 'white',\n",
       " 'black',\n",
       " 'native_american',\n",
       " 'asian_api',\n",
       " 'two_race_or_more',\n",
       " 'asian_api_total',\n",
       " 'latino_total',\n",
       " 'white_total',\n",
       " 'native_american_total',\n",
       " 'two_race_or_more_total',\n",
       " 'male_unemployment',\n",
       " 'female_unemployment',\n",
       " 'snap',\n",
       " 'renter',\n",
       " 'owner',\n",
       " 'median_rent',\n",
       " 'Sex.by.Age..Male.',\n",
       " 'Sex.by.Age..Male..Under.5.years',\n",
       " 'Sex.by.Age..Male..5.to.9.years',\n",
       " 'Sex.by.Age..Male..10.to.14.years',\n",
       " 'Sex.by.Age..Male..15.to.17.years',\n",
       " 'Sex.by.Age..Male..18.and.19.years',\n",
       " 'Sex.by.Age..Male..20.years',\n",
       " 'Sex.by.Age..Male..21.years',\n",
       " 'Sex.by.Age..Male..22.to.24.years',\n",
       " 'Sex.by.Age..Male..25.to.29.years',\n",
       " 'Sex.by.Age..Male..30.to.34.years',\n",
       " 'Sex.by.Age..Male..35.to.39.years',\n",
       " 'Sex.by.Age..Male..40.to.44.years',\n",
       " 'Sex.by.Age..Male..45.to.49.years',\n",
       " 'Sex.by.Age..Male..50.to.54.years',\n",
       " 'Sex.by.Age..Male..55.to.59.years',\n",
       " 'Sex.by.Age..Male..60.and.61.years',\n",
       " 'Sex.by.Age..Male..62.to.64.years',\n",
       " 'Sex.by.Age..Male..65.and.66.years',\n",
       " 'Sex.by.Age..Male..67.to.69.years',\n",
       " 'Sex.by.Age..Male..70.to.74.years',\n",
       " 'Sex.by.Age..Male..75.to.79.years',\n",
       " 'Sex.by.Age..Male..80.to.84.years',\n",
       " 'Sex.by.Age..Male..85.years.and.over',\n",
       " 'Sex.by.Age..Female.',\n",
       " 'Sex.by.Age..Female..Under.5.years',\n",
       " 'Sex.by.Age..Female..5.to.9.years',\n",
       " 'Sex.by.Age..Female..10.to.14.years',\n",
       " 'Sex.by.Age..Female..15.to.17.years',\n",
       " 'Sex.by.Age..Female..18.and.19.years',\n",
       " 'Sex.by.Age..Female..20.years',\n",
       " 'Sex.by.Age..Female..21.years',\n",
       " 'Sex.by.Age..Female..22.to.24.years',\n",
       " 'Sex.by.Age..Female..25.to.29.years',\n",
       " 'Sex.by.Age..Female..30.to.34.years',\n",
       " 'Sex.by.Age..Female..35.to.39.years',\n",
       " 'Sex.by.Age..Female..40.to.44.years',\n",
       " 'Sex.by.Age..Female..45.to.49.years',\n",
       " 'Sex.by.Age..Female..50.to.54.years',\n",
       " 'Sex.by.Age..Female..55.to.59.years',\n",
       " 'Sex.by.Age..Female..60.and.61.years',\n",
       " 'Sex.by.Age..Female..62.to.64.years',\n",
       " 'Sex.by.Age..Female..65.and.66.years',\n",
       " 'Sex.by.Age..Female..67.to.69.years',\n",
       " 'Sex.by.Age..Female..70.to.74.years',\n",
       " 'Sex.by.Age..Female..75.to.79.years',\n",
       " 'Sex.by.Age..Female..80.to.84.years',\n",
       " 'Sex.by.Age..Female..85.years.and.over',\n",
       " 'under_18',\n",
       " 'over_65',\n",
       " 'commute_over_60',\n",
       " 'full_time',\n",
       " 'part_time',\n",
       " 'high_rent_burden',\n",
       " 'extreme_rent_burden',\n",
       " 'foreign_born',\n",
       " 'US_born',\n",
       " 'adults_same_home',\n",
       " 'child_same_home',\n",
       " 'gini',\n",
       " 'child_medicaid',\n",
       " 'adult_medicaid',\n",
       " 'Types.of.Health.Insurance.Coverage.by.Age..Total.',\n",
       " 'Types.of.Health.Insurance.Coverage.by.Age..Under.18.years.',\n",
       " 'Types.of.Health.Insurance.Coverage.by.Age..Under.18.years..With.one.type.of.health.insurance.coverage.',\n",
       " 'Types.of.Health.Insurance.Coverage.by.Age..Under.18.years..With.one.type.of.health.insurance.coverage..With.employer.based.health.insurance.only',\n",
       " 'Types.of.Health.Insurance.Coverage.by.Age..Under.18.years..With.one.type.of.health.insurance.coverage..With.direct.purchase.health.insurance.only',\n",
       " 'Types.of.Health.Insurance.Coverage.by.Age..Under.18.years..With.one.type.of.health.insurance.coverage..With.Medicare.coverage.only',\n",
       " 'Types.of.Health.Insurance.Coverage.by.Age..Under.18.years..With.one.type.of.health.insurance.coverage..With.Medicaid.means.tested.public.coverage.only',\n",
       " 'Types.of.Health.Insurance.Coverage.by.Age..Under.18.years..With.one.type.of.health.insurance.coverage..With.TRICARE.military.health.coverage.only',\n",
       " 'Types.of.Health.Insurance.Coverage.by.Age..Under.18.years..With.one.type.of.health.insurance.coverage..With.VA.Health.Care.only',\n",
       " 'Types.of.Health.Insurance.Coverage.by.Age..Under.18.years..With.two.or.more.types.of.health.insurance.coverage.',\n",
       " 'Types.of.Health.Insurance.Coverage.by.Age..Under.18.years..With.two.or.more.types.of.health.insurance.coverage..With.employer.based.and.direct.purchase.coverage',\n",
       " 'Types.of.Health.Insurance.Coverage.by.Age..Under.18.years..With.two.or.more.types.of.health.insurance.coverage..With.employer.based.and.Medicare.coverage',\n",
       " 'Types.of.Health.Insurance.Coverage.by.Age..Under.18.years..With.two.or.more.types.of.health.insurance.coverage..With.Medicare.and.Medicaid.means.tested.public.coverage',\n",
       " 'Types.of.Health.Insurance.Coverage.by.Age..Under.18.years..With.two.or.more.types.of.health.insurance.coverage..Other.private.only.combinations',\n",
       " 'Types.of.Health.Insurance.Coverage.by.Age..Under.18.years..With.two.or.more.types.of.health.insurance.coverage..Other.public.only.combinations',\n",
       " 'Types.of.Health.Insurance.Coverage.by.Age..Under.18.years..With.two.or.more.types.of.health.insurance.coverage..Other.coverage.combinations',\n",
       " 'Types.of.Health.Insurance.Coverage.by.Age..Under.18.years..No.health.insurance.coverage',\n",
       " 'Types.of.Health.Insurance.Coverage.by.Age..18.to.34.years.',\n",
       " 'Types.of.Health.Insurance.Coverage.by.Age..18.to.34.years..With.one.type.of.health.insurance.coverage.',\n",
       " 'Types.of.Health.Insurance.Coverage.by.Age..18.to.34.years..With.one.type.of.health.insurance.coverage..With.employer.based.health.insurance.only',\n",
       " 'Types.of.Health.Insurance.Coverage.by.Age..18.to.34.years..With.one.type.of.health.insurance.coverage..With.direct.purchase.health.insurance.only',\n",
       " 'Types.of.Health.Insurance.Coverage.by.Age..18.to.34.years..With.one.type.of.health.insurance.coverage..With.Medicare.coverage.only',\n",
       " 'Types.of.Health.Insurance.Coverage.by.Age..18.to.34.years..With.one.type.of.health.insurance.coverage..With.Medicaid.means.tested.public.coverage.only',\n",
       " 'Types.of.Health.Insurance.Coverage.by.Age..18.to.34.years..With.one.type.of.health.insurance.coverage..With.TRICARE.military.health.coverage.only',\n",
       " 'Types.of.Health.Insurance.Coverage.by.Age..18.to.34.years..With.one.type.of.health.insurance.coverage..With.VA.Health.Care.only',\n",
       " 'Types.of.Health.Insurance.Coverage.by.Age..18.to.34.years..With.two.or.more.types.of.health.insurance.coverage.',\n",
       " 'Types.of.Health.Insurance.Coverage.by.Age..18.to.34.years..With.two.or.more.types.of.health.insurance.coverage..With.employer.based.and.direct.purchase.coverage',\n",
       " 'Types.of.Health.Insurance.Coverage.by.Age..18.to.34.years..With.two.or.more.types.of.health.insurance.coverage..With.employer.based.and.Medicare.coverage',\n",
       " 'Types.of.Health.Insurance.Coverage.by.Age..18.to.34.years..With.two.or.more.types.of.health.insurance.coverage..With.Medicare.and.Medicaid.means.tested.public.coverage',\n",
       " 'Types.of.Health.Insurance.Coverage.by.Age..18.to.34.years..With.two.or.more.types.of.health.insurance.coverage..Other.private.only.combinations',\n",
       " 'Types.of.Health.Insurance.Coverage.by.Age..18.to.34.years..With.two.or.more.types.of.health.insurance.coverage..Other.public.only.combinations',\n",
       " 'Types.of.Health.Insurance.Coverage.by.Age..18.to.34.years..With.two.or.more.types.of.health.insurance.coverage..Other.coverage.combinations',\n",
       " 'Types.of.Health.Insurance.Coverage.by.Age..18.to.34.years..No.health.insurance.coverage',\n",
       " 'Types.of.Health.Insurance.Coverage.by.Age..35.to.64.years.',\n",
       " 'Types.of.Health.Insurance.Coverage.by.Age..35.to.64.years..With.one.type.of.health.insurance.coverage.',\n",
       " 'Types.of.Health.Insurance.Coverage.by.Age..35.to.64.years..With.one.type.of.health.insurance.coverage..With.employer.based.health.insurance.only',\n",
       " 'Types.of.Health.Insurance.Coverage.by.Age..35.to.64.years..With.one.type.of.health.insurance.coverage..With.direct.purchase.health.insurance.only',\n",
       " 'Types.of.Health.Insurance.Coverage.by.Age..35.to.64.years..With.one.type.of.health.insurance.coverage..With.Medicare.coverage.only',\n",
       " 'Types.of.Health.Insurance.Coverage.by.Age..35.to.64.years..With.one.type.of.health.insurance.coverage..With.Medicaid.means.tested.public.coverage.only',\n",
       " 'Types.of.Health.Insurance.Coverage.by.Age..35.to.64.years..With.one.type.of.health.insurance.coverage..With.TRICARE.military.health.coverage.only',\n",
       " 'Types.of.Health.Insurance.Coverage.by.Age..35.to.64.years..With.one.type.of.health.insurance.coverage..With.VA.Health.Care.only',\n",
       " 'Types.of.Health.Insurance.Coverage.by.Age..35.to.64.years..With.two.or.more.types.of.health.insurance.coverage.',\n",
       " 'Types.of.Health.Insurance.Coverage.by.Age..35.to.64.years..With.two.or.more.types.of.health.insurance.coverage..With.employer.based.and.direct.purchase.coverage',\n",
       " 'Types.of.Health.Insurance.Coverage.by.Age..35.to.64.years..With.two.or.more.types.of.health.insurance.coverage..With.employer.based.and.Medicare.coverage',\n",
       " 'Types.of.Health.Insurance.Coverage.by.Age..35.to.64.years..With.two.or.more.types.of.health.insurance.coverage..With.direct.purchase.and.Medicare.coverage',\n",
       " 'Types.of.Health.Insurance.Coverage.by.Age..35.to.64.years..With.two.or.more.types.of.health.insurance.coverage..With.Medicare.and.Medicaid.means.tested.public.coverage',\n",
       " 'Types.of.Health.Insurance.Coverage.by.Age..35.to.64.years..With.two.or.more.types.of.health.insurance.coverage..Other.private.only.combinations',\n",
       " 'Types.of.Health.Insurance.Coverage.by.Age..35.to.64.years..With.two.or.more.types.of.health.insurance.coverage..Other.public.only.combinations',\n",
       " 'Types.of.Health.Insurance.Coverage.by.Age..35.to.64.years..With.two.or.more.types.of.health.insurance.coverage..Other.coverage.combinations',\n",
       " 'Types.of.Health.Insurance.Coverage.by.Age..35.to.64.years..No.health.insurance.coverage',\n",
       " 'Types.of.Health.Insurance.Coverage.by.Age..65.years.and.over.',\n",
       " 'Types.of.Health.Insurance.Coverage.by.Age..65.years.and.over..With.one.type.of.health.insurance.coverage.',\n",
       " 'Types.of.Health.Insurance.Coverage.by.Age..65.years.and.over..With.one.type.of.health.insurance.coverage..With.employer.based.health.insurance.only',\n",
       " 'Types.of.Health.Insurance.Coverage.by.Age..65.years.and.over..With.one.type.of.health.insurance.coverage..With.direct.purchase.health.insurance.only',\n",
       " 'Types.of.Health.Insurance.Coverage.by.Age..65.years.and.over..With.one.type.of.health.insurance.coverage..With.Medicare.coverage.only',\n",
       " 'Types.of.Health.Insurance.Coverage.by.Age..65.years.and.over..With.one.type.of.health.insurance.coverage..With.TRICARE.military.health.coverage.only',\n",
       " 'Types.of.Health.Insurance.Coverage.by.Age..65.years.and.over..With.one.type.of.health.insurance.coverage..With.VA.Health.Care.only',\n",
       " 'Types.of.Health.Insurance.Coverage.by.Age..65.years.and.over..With.two.or.more.types.of.health.insurance.coverage',\n",
       " 'Types.of.Health.Insurance.Coverage.by.Age..65.years.and.over..With.two.or.more.types.of.health.insurance.coverage.With.employer.based.and.direct.purchase.coverage',\n",
       " 'Types.of.Health.Insurance.Coverage.by.Age..65.years.and.over..With.two.or.more.types.of.health.insurance.coverage.With.employer.based.and.Medicare.coverage',\n",
       " 'Types.of.Health.Insurance.Coverage.by.Age..65.years.and.over..With.two.or.more.types.of.health.insurance.coverage.With.direct.purchase.and.Medicare.coverage',\n",
       " 'Types.of.Health.Insurance.Coverage.by.Age..65.years.and.over..With.two.or.more.types.of.health.insurance.coverage.With.Medicare.and.Medicaid.means.tested.public.coverage',\n",
       " 'Types.of.Health.Insurance.Coverage.by.Age..65.years.and.over..With.two.or.more.types.of.health.insurance.coverage.Other.private.only.combinations',\n",
       " 'Types.of.Health.Insurance.Coverage.by.Age..65.years.and.over..With.two.or.more.types.of.health.insurance.coverage.Other.public.only.combinations',\n",
       " 'Types.of.Health.Insurance.Coverage.by.Age..65.years.and.over..With.two.or.more.types.of.health.insurance.coverage.Other.coverage.combinations',\n",
       " 'Types.of.Health.Insurance.Coverage.by.Age..65.years.and.over..No.health.insurance.coverage',\n",
       " 'married',\n",
       " 'divorced',\n",
       " 'bad_english',\n",
       " 'poverty',\n",
       " 'missingSalary',\n",
       " 'Zip Code Pop',\n",
       " '2010 Census Population']"
      ]
     },
     "execution_count": 64,
     "metadata": {},
     "output_type": "execute_result"
    }
   ],
   "source": [
    "list(mergedData.columns.values)"
   ]
  },
  {
   "cell_type": "code",
   "execution_count": 66,
   "metadata": {
    "collapsed": false
   },
   "outputs": [],
   "source": [
    "# list of X vars to include\n",
    "#put features in a list to deal with them programatically\n",
    "X_numeric_features = [\n",
    "    'sup1',\n",
    " 'sup2',\n",
    " 'sup3',\n",
    " 'sup4',\n",
    " 'sup5',\n",
    " 'gender',\n",
    " 'disabled',\n",
    " 'race',\n",
    " 'yearsinposition',\n",
    " 'yearsinprofession',\n",
    " 'age',\n",
    " 'cred1',\n",
    " 'cred2',\n",
    " 'highestdegree',\n",
    " 'inst1',\n",
    " 'inst2',\n",
    " 'inst3',\n",
    " 'inst4',\n",
    " 'inst5',\n",
    " 'instbudget',\n",
    " 'city',\n",
    " 'state',\n",
    " 'country',\n",
    " 'category',\n",
    " 'instsize',\n",
    " 'insttype',\n",
    " 'ZCTA5',\n",
    " 'cbsa',\n",
    " 'total_population',\n",
    " 'Median_Household_Income',\n",
    " 'no_male_hs',\n",
    " 'no_female_hs',\n",
    " 'no_hs',\n",
    " 'at_least_hs_male',\n",
    " 'at_least_hs_female',\n",
    " 'at_least_hs',\n",
    " 'hs_some_college_male',\n",
    " 'hs_some_college_female',\n",
    " 'hs_some_college',\n",
    " 'bachelors_male',\n",
    " 'bachelors_female',\n",
    " 'bachelors',\n",
    " 'at_least_bach_male',\n",
    " 'at_least_bach_female',\n",
    " 'at_least_bach',\n",
    " 'graduate_male',\n",
    " 'graduate_female',\n",
    " 'graduate',\n",
    " 'hispanic',\n",
    " 'white',\n",
    " 'black',\n",
    " 'native_american',\n",
    " 'asian_api',\n",
    " 'two_race_or_more',\n",
    " 'asian_api_total',\n",
    " 'latino_total',\n",
    " 'white_total',\n",
    " 'native_american_total',\n",
    " 'two_race_or_more_total',\n",
    " 'male_unemployment',\n",
    " 'female_unemployment',\n",
    " 'snap',\n",
    " 'renter',\n",
    " 'owner',\n",
    " 'median_rent',\n",
    " 'Sex.by.Age..Male.',\n",
    " 'Sex.by.Age..Male..Under.5.years',\n",
    " 'Sex.by.Age..Male..5.to.9.years',\n",
    " 'Sex.by.Age..Male..10.to.14.years',\n",
    " 'Sex.by.Age..Male..15.to.17.years',\n",
    " 'Sex.by.Age..Male..18.and.19.years',\n",
    " 'Sex.by.Age..Male..20.years',\n",
    " 'Sex.by.Age..Male..21.years',\n",
    " 'Sex.by.Age..Male..22.to.24.years',\n",
    " 'Sex.by.Age..Male..25.to.29.years',\n",
    " 'Sex.by.Age..Male..30.to.34.years',\n",
    " 'Sex.by.Age..Male..35.to.39.years',\n",
    " 'Sex.by.Age..Male..40.to.44.years',\n",
    " 'Sex.by.Age..Male..45.to.49.years',\n",
    " 'Sex.by.Age..Male..50.to.54.years',\n",
    " 'Sex.by.Age..Male..55.to.59.years',\n",
    " 'Sex.by.Age..Male..60.and.61.years',\n",
    " 'Sex.by.Age..Male..62.to.64.years',\n",
    " 'Sex.by.Age..Male..65.and.66.years',\n",
    " 'Sex.by.Age..Male..67.to.69.years',\n",
    " 'Sex.by.Age..Male..70.to.74.years',\n",
    " 'Sex.by.Age..Male..75.to.79.years',\n",
    " 'Sex.by.Age..Male..80.to.84.years',\n",
    " 'Sex.by.Age..Male..85.years.and.over',\n",
    " 'Sex.by.Age..Female.',\n",
    " 'Sex.by.Age..Female..Under.5.years',\n",
    " 'Sex.by.Age..Female..5.to.9.years',\n",
    " 'Sex.by.Age..Female..10.to.14.years',\n",
    " 'Sex.by.Age..Female..15.to.17.years',\n",
    " 'Sex.by.Age..Female..18.and.19.years',\n",
    " 'Sex.by.Age..Female..20.years',\n",
    " 'Sex.by.Age..Female..21.years',\n",
    " 'Sex.by.Age..Female..22.to.24.years',\n",
    " 'Sex.by.Age..Female..25.to.29.years',\n",
    " 'Sex.by.Age..Female..30.to.34.years',\n",
    " 'Sex.by.Age..Female..35.to.39.years',\n",
    " 'Sex.by.Age..Female..40.to.44.years',\n",
    " 'Sex.by.Age..Female..45.to.49.years',\n",
    " 'Sex.by.Age..Female..50.to.54.years',\n",
    " 'Sex.by.Age..Female..55.to.59.years',\n",
    " 'Sex.by.Age..Female..60.and.61.years',\n",
    " 'Sex.by.Age..Female..62.to.64.years',\n",
    " 'Sex.by.Age..Female..65.and.66.years',\n",
    " 'Sex.by.Age..Female..67.to.69.years',\n",
    " 'Sex.by.Age..Female..70.to.74.years',\n",
    " 'Sex.by.Age..Female..75.to.79.years',\n",
    " 'Sex.by.Age..Female..80.to.84.years',\n",
    " 'Sex.by.Age..Female..85.years.and.over',\n",
    " 'under_18',\n",
    " 'over_65',\n",
    " 'commute_over_60',\n",
    " 'full_time',\n",
    " 'part_time',\n",
    " 'high_rent_burden',\n",
    " 'extreme_rent_burden',\n",
    " 'foreign_born',\n",
    " 'US_born',\n",
    " 'adults_same_home',\n",
    " 'child_same_home',\n",
    " 'gini',\n",
    " 'child_medicaid',\n",
    " 'adult_medicaid',\n",
    " 'Types.of.Health.Insurance.Coverage.by.Age..Total.',\n",
    " 'Types.of.Health.Insurance.Coverage.by.Age..Under.18.years.',\n",
    " 'Types.of.Health.Insurance.Coverage.by.Age..Under.18.years..With.one.type.of.health.insurance.coverage.',\n",
    " 'Types.of.Health.Insurance.Coverage.by.Age..Under.18.years..With.one.type.of.health.insurance.coverage..With.employer.based.health.insurance.only',\n",
    " 'Types.of.Health.Insurance.Coverage.by.Age..Under.18.years..With.one.type.of.health.insurance.coverage..With.direct.purchase.health.insurance.only',\n",
    " 'Types.of.Health.Insurance.Coverage.by.Age..Under.18.years..With.one.type.of.health.insurance.coverage..With.Medicare.coverage.only',\n",
    " 'Types.of.Health.Insurance.Coverage.by.Age..Under.18.years..With.one.type.of.health.insurance.coverage..With.Medicaid.means.tested.public.coverage.only',\n",
    " 'Types.of.Health.Insurance.Coverage.by.Age..Under.18.years..With.one.type.of.health.insurance.coverage..With.TRICARE.military.health.coverage.only',\n",
    " 'Types.of.Health.Insurance.Coverage.by.Age..Under.18.years..With.one.type.of.health.insurance.coverage..With.VA.Health.Care.only',\n",
    " 'Types.of.Health.Insurance.Coverage.by.Age..Under.18.years..With.two.or.more.types.of.health.insurance.coverage.',\n",
    " 'Types.of.Health.Insurance.Coverage.by.Age..Under.18.years..With.two.or.more.types.of.health.insurance.coverage..With.employer.based.and.direct.purchase.coverage',\n",
    " 'Types.of.Health.Insurance.Coverage.by.Age..Under.18.years..With.two.or.more.types.of.health.insurance.coverage..With.employer.based.and.Medicare.coverage',\n",
    " 'Types.of.Health.Insurance.Coverage.by.Age..Under.18.years..With.two.or.more.types.of.health.insurance.coverage..With.Medicare.and.Medicaid.means.tested.public.coverage',\n",
    " 'Types.of.Health.Insurance.Coverage.by.Age..Under.18.years..With.two.or.more.types.of.health.insurance.coverage..Other.private.only.combinations',\n",
    " 'Types.of.Health.Insurance.Coverage.by.Age..Under.18.years..With.two.or.more.types.of.health.insurance.coverage..Other.public.only.combinations',\n",
    " 'Types.of.Health.Insurance.Coverage.by.Age..Under.18.years..With.two.or.more.types.of.health.insurance.coverage..Other.coverage.combinations',\n",
    " 'Types.of.Health.Insurance.Coverage.by.Age..Under.18.years..No.health.insurance.coverage',\n",
    " 'Types.of.Health.Insurance.Coverage.by.Age..18.to.34.years.',\n",
    " 'Types.of.Health.Insurance.Coverage.by.Age..18.to.34.years..With.one.type.of.health.insurance.coverage.',\n",
    " 'Types.of.Health.Insurance.Coverage.by.Age..18.to.34.years..With.one.type.of.health.insurance.coverage..With.employer.based.health.insurance.only',\n",
    " 'Types.of.Health.Insurance.Coverage.by.Age..18.to.34.years..With.one.type.of.health.insurance.coverage..With.direct.purchase.health.insurance.only',\n",
    " 'Types.of.Health.Insurance.Coverage.by.Age..18.to.34.years..With.one.type.of.health.insurance.coverage..With.Medicare.coverage.only',\n",
    " 'Types.of.Health.Insurance.Coverage.by.Age..18.to.34.years..With.one.type.of.health.insurance.coverage..With.Medicaid.means.tested.public.coverage.only',\n",
    " 'Types.of.Health.Insurance.Coverage.by.Age..18.to.34.years..With.one.type.of.health.insurance.coverage..With.TRICARE.military.health.coverage.only',\n",
    " 'Types.of.Health.Insurance.Coverage.by.Age..18.to.34.years..With.one.type.of.health.insurance.coverage..With.VA.Health.Care.only',\n",
    " 'Types.of.Health.Insurance.Coverage.by.Age..18.to.34.years..With.two.or.more.types.of.health.insurance.coverage.',\n",
    " 'Types.of.Health.Insurance.Coverage.by.Age..18.to.34.years..With.two.or.more.types.of.health.insurance.coverage..With.employer.based.and.direct.purchase.coverage',\n",
    " 'Types.of.Health.Insurance.Coverage.by.Age..18.to.34.years..With.two.or.more.types.of.health.insurance.coverage..With.employer.based.and.Medicare.coverage',\n",
    " 'Types.of.Health.Insurance.Coverage.by.Age..18.to.34.years..With.two.or.more.types.of.health.insurance.coverage..With.Medicare.and.Medicaid.means.tested.public.coverage',\n",
    " 'Types.of.Health.Insurance.Coverage.by.Age..18.to.34.years..With.two.or.more.types.of.health.insurance.coverage..Other.private.only.combinations',\n",
    " 'Types.of.Health.Insurance.Coverage.by.Age..18.to.34.years..With.two.or.more.types.of.health.insurance.coverage..Other.public.only.combinations',\n",
    " 'Types.of.Health.Insurance.Coverage.by.Age..18.to.34.years..With.two.or.more.types.of.health.insurance.coverage..Other.coverage.combinations',\n",
    " 'Types.of.Health.Insurance.Coverage.by.Age..18.to.34.years..No.health.insurance.coverage',\n",
    " 'Types.of.Health.Insurance.Coverage.by.Age..35.to.64.years.',\n",
    " 'Types.of.Health.Insurance.Coverage.by.Age..35.to.64.years..With.one.type.of.health.insurance.coverage.',\n",
    " 'Types.of.Health.Insurance.Coverage.by.Age..35.to.64.years..With.one.type.of.health.insurance.coverage..With.employer.based.health.insurance.only',\n",
    " 'Types.of.Health.Insurance.Coverage.by.Age..35.to.64.years..With.one.type.of.health.insurance.coverage..With.direct.purchase.health.insurance.only',\n",
    " 'Types.of.Health.Insurance.Coverage.by.Age..35.to.64.years..With.one.type.of.health.insurance.coverage..With.Medicare.coverage.only',\n",
    " 'Types.of.Health.Insurance.Coverage.by.Age..35.to.64.years..With.one.type.of.health.insurance.coverage..With.Medicaid.means.tested.public.coverage.only',\n",
    " 'Types.of.Health.Insurance.Coverage.by.Age..35.to.64.years..With.one.type.of.health.insurance.coverage..With.TRICARE.military.health.coverage.only',\n",
    " 'Types.of.Health.Insurance.Coverage.by.Age..35.to.64.years..With.one.type.of.health.insurance.coverage..With.VA.Health.Care.only',\n",
    " 'Types.of.Health.Insurance.Coverage.by.Age..35.to.64.years..With.two.or.more.types.of.health.insurance.coverage.',\n",
    " 'Types.of.Health.Insurance.Coverage.by.Age..35.to.64.years..With.two.or.more.types.of.health.insurance.coverage..With.employer.based.and.direct.purchase.coverage',\n",
    " 'Types.of.Health.Insurance.Coverage.by.Age..35.to.64.years..With.two.or.more.types.of.health.insurance.coverage..With.employer.based.and.Medicare.coverage',\n",
    " 'Types.of.Health.Insurance.Coverage.by.Age..35.to.64.years..With.two.or.more.types.of.health.insurance.coverage..With.direct.purchase.and.Medicare.coverage',\n",
    " 'Types.of.Health.Insurance.Coverage.by.Age..35.to.64.years..With.two.or.more.types.of.health.insurance.coverage..With.Medicare.and.Medicaid.means.tested.public.coverage',\n",
    " 'Types.of.Health.Insurance.Coverage.by.Age..35.to.64.years..With.two.or.more.types.of.health.insurance.coverage..Other.private.only.combinations',\n",
    " 'Types.of.Health.Insurance.Coverage.by.Age..35.to.64.years..With.two.or.more.types.of.health.insurance.coverage..Other.public.only.combinations',\n",
    " 'Types.of.Health.Insurance.Coverage.by.Age..35.to.64.years..With.two.or.more.types.of.health.insurance.coverage..Other.coverage.combinations',\n",
    " 'Types.of.Health.Insurance.Coverage.by.Age..35.to.64.years..No.health.insurance.coverage',\n",
    " 'Types.of.Health.Insurance.Coverage.by.Age..65.years.and.over.',\n",
    " 'Types.of.Health.Insurance.Coverage.by.Age..65.years.and.over..With.one.type.of.health.insurance.coverage.',\n",
    " 'Types.of.Health.Insurance.Coverage.by.Age..65.years.and.over..With.one.type.of.health.insurance.coverage..With.employer.based.health.insurance.only',\n",
    " 'Types.of.Health.Insurance.Coverage.by.Age..65.years.and.over..With.one.type.of.health.insurance.coverage..With.direct.purchase.health.insurance.only',\n",
    " 'Types.of.Health.Insurance.Coverage.by.Age..65.years.and.over..With.one.type.of.health.insurance.coverage..With.Medicare.coverage.only',\n",
    " 'Types.of.Health.Insurance.Coverage.by.Age..65.years.and.over..With.one.type.of.health.insurance.coverage..With.TRICARE.military.health.coverage.only',\n",
    " 'Types.of.Health.Insurance.Coverage.by.Age..65.years.and.over..With.one.type.of.health.insurance.coverage..With.VA.Health.Care.only',\n",
    " 'Types.of.Health.Insurance.Coverage.by.Age..65.years.and.over..With.two.or.more.types.of.health.insurance.coverage',\n",
    " 'Types.of.Health.Insurance.Coverage.by.Age..65.years.and.over..With.two.or.more.types.of.health.insurance.coverage.With.employer.based.and.direct.purchase.coverage',\n",
    " 'Types.of.Health.Insurance.Coverage.by.Age..65.years.and.over..With.two.or.more.types.of.health.insurance.coverage.With.employer.based.and.Medicare.coverage',\n",
    " 'Types.of.Health.Insurance.Coverage.by.Age..65.years.and.over..With.two.or.more.types.of.health.insurance.coverage.With.direct.purchase.and.Medicare.coverage',\n",
    " 'Types.of.Health.Insurance.Coverage.by.Age..65.years.and.over..With.two.or.more.types.of.health.insurance.coverage.With.Medicare.and.Medicaid.means.tested.public.coverage',\n",
    " 'Types.of.Health.Insurance.Coverage.by.Age..65.years.and.over..With.two.or.more.types.of.health.insurance.coverage.Other.private.only.combinations',\n",
    " 'Types.of.Health.Insurance.Coverage.by.Age..65.years.and.over..With.two.or.more.types.of.health.insurance.coverage.Other.public.only.combinations',\n",
    " 'Types.of.Health.Insurance.Coverage.by.Age..65.years.and.over..With.two.or.more.types.of.health.insurance.coverage.Other.coverage.combinations',\n",
    " 'Types.of.Health.Insurance.Coverage.by.Age..65.years.and.over..No.health.insurance.coverage',\n",
    " 'married',\n",
    " 'divorced',\n",
    " 'bad_english',\n",
    " 'poverty',\n",
    " '2010 Census Population']\n",
    "X_numeric = mergedData[X_numeric_features]\n",
    "X_categorical_features = ['function.', 'gender', 'race', 'highestdegree', 'category', 'insttype']\n",
    "X_categorical = mergedData[X_categorical_features]"
   ]
  },
  {
   "cell_type": "code",
   "execution_count": 67,
   "metadata": {
    "collapsed": false
   },
   "outputs": [
    {
     "data": {
      "image/png": "[encoded data removed]",
      "text/plain": [
       "<matplotlib.figure.Figure at 0x109f0c518>"
      ]
     },
     "metadata": {},
     "output_type": "display_data"
    }
   ],
   "source": [
    "#plt.plot(sal['instBudget'], sal['instSize'])\n",
    "plt.scatter(mergedData['instbudget'], mergedData['instsize'])\n",
    "plt.show()"
   ]
  },
  {
   "cell_type": "code",
   "execution_count": 69,
   "metadata": {
    "collapsed": false
   },
   "outputs": [],
   "source": [
    "# create dummy variables for each of the categorical features\n",
    "# DOC: http://pandas.pydata.org/pandas-docs/stable/generated/pandas.get_dummies.html\n",
    "\n",
    "Function_dummies = pd.get_dummies(X_categorical['function.'])\n",
    "gender_dummies = pd.get_dummies(X_categorical['gender'])\n",
    "race_dummies = pd.get_dummies(X_categorical['race'])\n",
    "highestDegree_dummies = pd.get_dummies(X_categorical['highestdegree'])\n",
    "Category_dummies = pd.get_dummies(X_categorical['category'])\n",
    "instType_dummies = pd.get_dummies(X_categorical['insttype'])\n",
    "\n",
    "X_dummy_features = pd.concat([Function_dummies, gender_dummies, race_dummies, highestDegree_dummies, Category_dummies, instType_dummies], axis=1)\n",
    "\n",
    "# convert to ndarray\n",
    "X_dummy_features = X_dummy_features.as_matrix()"
   ]
  },
  {
   "cell_type": "code",
   "execution_count": 72,
   "metadata": {
    "collapsed": false
   },
   "outputs": [],
   "source": [
    "# impute missing values in numerical features\n",
    "# DOC: http://scikit-learn.org/stable/modules/preprocessing.html\n",
    "\n",
    "from sklearn.preprocessing import Imputer\n",
    "imp = Imputer()\n",
    "imp.fit(X_dummy_features)\n",
    "X_numeric_imputed = imp.transform(X_dummy_features)"
   ]
  },
  {
   "cell_type": "code",
   "execution_count": 73,
   "metadata": {
    "collapsed": false
   },
   "outputs": [
    {
     "data": {
      "text/plain": [
       "(2185, 92)"
      ]
     },
     "execution_count": 73,
     "metadata": {},
     "output_type": "execute_result"
    }
   ],
   "source": [
    "X = np.concatenate((X_dummy_features, X_numeric_imputed), axis=1)\n",
    "X.shape"
   ]
  },
  {
   "cell_type": "code",
   "execution_count": 74,
   "metadata": {
    "collapsed": true
   },
   "outputs": [],
   "source": [
    "# y is salary\n",
    "y = mergedData.iloc[:, 7].values"
   ]
  },
  {
   "cell_type": "code",
   "execution_count": 75,
   "metadata": {
    "collapsed": false
   },
   "outputs": [],
   "source": [
    "# create training and test sets\n",
    "from sklearn.cross_validation import train_test_split\n",
    "\n",
    "X_train, X_test, y_train, y_test = train_test_split(X, y, test_size=0.3, random_state=0)"
   ]
  },
  {
   "cell_type": "code",
   "execution_count": 76,
   "metadata": {
    "collapsed": true
   },
   "outputs": [],
   "source": [
    "from sklearn.preprocessing import StandardScaler\n",
    "\n",
    "sc = StandardScaler()\n",
    "X_train_std = sc.fit_transform(X_train)\n",
    "X_test_std = sc.fit_transform(X_test)"
   ]
  },
  {
   "cell_type": "code",
   "execution_count": 77,
   "metadata": {
    "collapsed": false
   },
   "outputs": [
    {
     "name": "stdout",
     "output_type": "stream",
     "text": [
      "\n",
      "Eigenvalues \n",
      "[  4.88213267e+00 +0.00000000e+00j   4.77543412e+00 +0.00000000e+00j\n",
      "   4.14427242e+00 +0.00000000e+00j   3.96793382e+00 +0.00000000e+00j\n",
      "   3.51120690e+00 +0.00000000e+00j   2.85324795e+00 +0.00000000e+00j\n",
      "   9.67552707e-01 +0.00000000e+00j   2.55594399e+00 +0.00000000e+00j\n",
      "   1.32544396e+00 +0.00000000e+00j   9.20543100e-02 +0.00000000e+00j\n",
      "   5.21286082e-02 +0.00000000e+00j   4.87418198e-02 +0.00000000e+00j\n",
      "   1.58312321e+00 +0.00000000e+00j   1.21022358e-02 +0.00000000e+00j\n",
      "   2.39288605e+00 +0.00000000e+00j   1.66783296e+00 +0.00000000e+00j\n",
      "   2.34858350e+00 +0.00000000e+00j   1.72583770e+00 +0.00000000e+00j\n",
      "   2.30924938e+00 +0.00000000e+00j   1.76601743e+00 +0.00000000e+00j\n",
      "   2.28575440e+00 +0.00000000e+00j   8.99125624e-03 +0.00000000e+00j\n",
      "   2.24027990e+00 +0.00000000e+00j   1.81346012e+00 +0.00000000e+00j\n",
      "   1.84784713e+00 +0.00000000e+00j   2.19227931e+00 +0.00000000e+00j\n",
      "   1.88606220e+00 +0.00000000e+00j   2.16606220e+00 +0.00000000e+00j\n",
      "   1.91706386e+00 +0.00000000e+00j   2.13687030e+00 +0.00000000e+00j\n",
      "   1.95657218e+00 +0.00000000e+00j   1.98060345e+00 +0.00000000e+00j\n",
      "   2.11577344e+00 +0.00000000e+00j   2.09438462e+00 +0.00000000e+00j\n",
      "   2.10107856e+00 +0.00000000e+00j   2.06123880e+00 +0.00000000e+00j\n",
      "   2.05081487e+00 +0.00000000e+00j   2.06743644e+00 +0.00000000e+00j\n",
      "   2.01657218e+00 +0.00000000e+00j   2.00410135e+00 +0.00000000e+00j\n",
      "   2.00571390e+00 +0.00000000e+00j   2.03745247e+00 +0.00000000e+00j\n",
      "   2.03291009e+00 +0.00000000e+00j   2.02817731e+00 +0.00000000e+00j\n",
      "   2.03098334e+00 +0.00000000e+00j  -9.11530963e-16 +0.00000000e+00j\n",
      "  -7.20387557e-16 +0.00000000e+00j   7.94822007e-16 +3.39629548e-17j\n",
      "   7.94822007e-16 -3.39629548e-17j  -5.18327654e-16 +2.80987937e-16j\n",
      "  -5.18327654e-16 -2.80987937e-16j   4.91870577e-16 +2.40510120e-16j\n",
      "   4.91870577e-16 -2.40510120e-16j   5.92613495e-16 +0.00000000e+00j\n",
      "   5.38869662e-16 +3.17674533e-17j   5.38869662e-16 -3.17674533e-17j\n",
      "  -5.28020359e-16 +6.49312307e-17j  -5.28020359e-16 -6.49312307e-17j\n",
      "   3.65880159e-16 +2.59015112e-16j   3.65880159e-16 -2.59015112e-16j\n",
      "  -3.14317885e-16 +3.25223166e-16j  -3.14317885e-16 -3.25223166e-16j\n",
      "  -3.14954587e-17 +3.52982296e-16j  -3.14954587e-17 -3.52982296e-16j\n",
      "  -3.93794924e-16 +0.00000000e+00j  -3.69752690e-16 +1.11573340e-16j\n",
      "  -3.69752690e-16 -1.11573340e-16j  -3.43084915e-16 +1.78438394e-16j\n",
      "  -3.43084915e-16 -1.78438394e-16j   3.00378896e-16 +0.00000000e+00j\n",
      "  -1.75841437e-16 +2.60562597e-16j  -1.75841437e-16 -2.60562597e-16j\n",
      "   2.53630894e-16 +1.13225418e-16j   2.53630894e-16 -1.13225418e-16j\n",
      "   2.19468249e-16 +1.63187944e-16j   2.19468249e-16 -1.63187944e-16j\n",
      "  -2.27944073e-16 +1.94557778e-16j  -2.27944073e-16 -1.94557778e-16j\n",
      "   4.59142134e-17 +2.14775423e-16j   4.59142134e-17 -2.14775423e-16j\n",
      "  -1.08507962e-16 +1.89497419e-16j  -1.08507962e-16 -1.89497419e-16j\n",
      "  -2.52683211e-16 +0.00000000e+00j   1.94646911e-16 +0.00000000e+00j\n",
      "   2.90528473e-17 +1.35491103e-16j   2.90528473e-17 -1.35491103e-16j\n",
      "   7.54311203e-17 +1.26490978e-16j   7.54311203e-17 -1.26490978e-16j\n",
      "  -9.93284699e-17 +1.16758691e-16j  -9.93284699e-17 -1.16758691e-16j\n",
      "   7.37189434e-17 +0.00000000e+00j  -3.95759022e-18 +0.00000000e+00j]\n",
      "(92,)\n"
     ]
    }
   ],
   "source": [
    "cov_mat = np.cov(X_train_std.T)\n",
    "eigen_vals, eigen_vecs = np.linalg.eig(cov_mat)\n",
    "\n",
    "print('\\nEigenvalues \\n%s' % eigen_vals)\n",
    "print(eigen_vals.shape)"
   ]
  },
  {
   "cell_type": "code",
   "execution_count": 78,
   "metadata": {
    "collapsed": true
   },
   "outputs": [],
   "source": [
    "np.savetxt('cov.csv', cov_mat, delimiter=',')"
   ]
  },
  {
   "cell_type": "code",
   "execution_count": 79,
   "metadata": {
    "collapsed": true
   },
   "outputs": [],
   "source": [
    "tot = sum(eigen_vals)\n",
    "var_exp = [(i / tot) for i in sorted(eigen_vals, reverse=True)]\n",
    "cum_var_exp = np.cumsum(var_exp)"
   ]
  },
  {
   "cell_type": "code",
   "execution_count": 80,
   "metadata": {
    "collapsed": false
   },
   "outputs": [
    {
     "name": "stderr",
     "output_type": "stream",
     "text": [
      "/Library/Frameworks/Python.framework/Versions/3.5/lib/python3.5/site-packages/matplotlib/patches.py:644: ComplexWarning: Casting complex values to real discards the imaginary part\n",
      "  self._height = float(height)\n",
      "/Library/Frameworks/Python.framework/Versions/3.5/lib/python3.5/site-packages/matplotlib/patches.py:642: ComplexWarning: Casting complex values to real discards the imaginary part\n",
      "  self._y = float(xy[1])\n",
      "/Library/Frameworks/Python.framework/Versions/3.5/lib/python3.5/site-packages/numpy/core/numeric.py:474: ComplexWarning: Casting complex values to real discards the imaginary part\n",
      "  return array(a, dtype, copy=False, order=order)\n"
     ]
    },
    {
     "data": {
      "image/png": "[encoded data removed]",
      "text/plain": [
       "<matplotlib.figure.Figure at 0x109f3d198>"
      ]
     },
     "metadata": {},
     "output_type": "display_data"
    }
   ],
   "source": [
    "plt.bar(range(1, len(var_exp)+1), var_exp, alpha=0.5, align='center', label='individual explained variance')\n",
    "plt.step(range(1, len(var_exp)+1), cum_var_exp, where='mid', label='cumulative explained variance')\n",
    "plt.ylabel('Explained variance ratio')\n",
    "plt.xlabel('Principal components')\n",
    "plt.legend(loc='best')\n",
    "plt.tight_layout()\n",
    "# plt.savefig('./figures/pca1.png', dpi=300)\n",
    "plt.show()"
   ]
  },
  {
   "cell_type": "code",
   "execution_count": 81,
   "metadata": {
    "collapsed": false
   },
   "outputs": [
    {
     "name": "stdout",
     "output_type": "stream",
     "text": [
      "[ 0.05303195  0.05187294  0.04501698  0.04310151  0.03814033  0.03099328\n",
      "  0.02776383  0.02599262]\n",
      "8\n"
     ]
    }
   ],
   "source": [
    "# http://scikit-learn.org/stable/modules/generated/sklearn.decomposition.PCA.html\n",
    "from sklearn.decomposition import PCA\n",
    "pca = PCA(n_components=8)\n",
    "X_train_pca = pca.fit_transform(X_train_std)\n",
    "X_test_pca = pca.transform(X_test_std)\n",
    "print(pca.explained_variance_ratio_)\n",
    "print(len(pca.explained_variance_ratio_))"
   ]
  },
  {
   "cell_type": "code",
   "execution_count": 82,
   "metadata": {
    "collapsed": false
   },
   "outputs": [
    {
     "data": {
      "image/png": "[encoded data removed]",
      "text/plain": [
       "<matplotlib.figure.Figure at 0x10475af98>"
      ]
     },
     "metadata": {},
     "output_type": "display_data"
    }
   ],
   "source": [
    "plt.bar(range(1, len(pca.explained_variance_ratio_)+1), pca.explained_variance_ratio_, alpha=0.5, align='center')\n",
    "plt.step(range(1, len(pca.explained_variance_ratio_)+1), np.cumsum(pca.explained_variance_ratio_), where='mid')\n",
    "plt.ylabel('Explained variance ratio')\n",
    "plt.xlabel('Principal components')\n",
    "plt.show()"
   ]
  },
  {
   "cell_type": "code",
   "execution_count": 83,
   "metadata": {
    "collapsed": true
   },
   "outputs": [],
   "source": [
    "# keep track of variance on test data, to graph\n",
    "var_to_graph = {}\n",
    "# bring residual sum of squares from regression1.ipynb\n",
    "var_to_graph['simpReg'] = 265376883.08"
   ]
  },
  {
   "cell_type": "code",
   "execution_count": 84,
   "metadata": {
    "collapsed": true
   },
   "outputs": [],
   "source": [
    "from sklearn import datasets, linear_model\n",
    "# DOC: http://scikit-learn.org/stable/modules/generated/sklearn.linear_model.LinearRegression.html"
   ]
  },
  {
   "cell_type": "code",
   "execution_count": 86,
   "metadata": {
    "collapsed": false
   },
   "outputs": [
    {
     "name": "stdout",
     "output_type": "stream",
     "text": [
      "Intercept: \n",
      " 3.36638190408e+12\n",
      "Coefficients: \n",
      " [ -1.54067325e+13  -4.85577166e+13   3.91080156e+14  -1.31104767e+14\n",
      "   1.35598100e+14  -1.53075238e+13   2.37939535e+12   2.02065617e+11\n",
      "   7.52643789e+13  -3.99283075e+14   2.30024722e+12   2.70982907e+13\n",
      "  -2.30077617e+13   8.71504508e+12  -1.76501407e+13  -1.22373889e+13\n",
      "  -5.71182255e+12   7.46515627e+13  -2.67788903e+11  -8.40021060e+11\n",
      "  -6.38595545e+11   5.31364988e+14  -6.91303827e+12  -3.67682667e+14\n",
      "  -2.10323769e+13   3.02296022e+13   1.84114137e+12   9.69693233e+11\n",
      "  -1.44762984e+14   1.40266910e+12  -2.90219728e+12   2.55360468e+12\n",
      "   3.91376654e+11  -1.15972565e+14  -3.82717826e+11  -6.39619538e+11\n",
      "   1.71953039e+12   1.89750077e+13  -7.27202266e+13   1.52202324e+12\n",
      "  -2.01233783e+14   4.19699123e+11  -2.08377581e+12  -1.19523578e+13\n",
      "   5.84672916e+13   1.10989667e+14   1.54067325e+13   4.85577166e+13\n",
      "  -3.91080156e+14   1.31104767e+14  -1.35598100e+14   1.53075238e+13\n",
      "  -2.37939535e+12  -2.02065617e+11  -7.52643789e+13   3.99283075e+14\n",
      "  -2.30024722e+12  -2.70982907e+13   2.30077617e+13  -8.71504508e+12\n",
      "   1.76501407e+13   1.22373889e+13   5.71182255e+12  -7.46515627e+13\n",
      "   2.67788903e+11   8.40021060e+11   6.38595545e+11  -5.31364988e+14\n",
      "   6.91303827e+12   3.67682667e+14   2.10323769e+13  -3.02296022e+13\n",
      "  -1.84114137e+12  -9.69693233e+11   1.44762984e+14  -1.40266910e+12\n",
      "   2.90219728e+12  -2.55360468e+12  -3.91376654e+11   1.15972565e+14\n",
      "   3.82717826e+11   6.39619538e+11  -1.71953039e+12  -1.89750077e+13\n",
      "   7.27202266e+13  -1.52202324e+12   2.01233783e+14  -4.19699123e+11\n",
      "  -1.28260610e+12   8.58597588e+12  -5.84672916e+13  -1.10989667e+14]\n",
      "Residual sum of squares, training data: 173.34\n",
      "Residual sum of squares, test data: 308.56\n",
      "Variance score, training data: 0.14\n",
      "Variance score, test data: 0.03\n",
      "Distribution of prediction error on training data:\n"
     ]
    },
    {
     "data": {
      "image/png": "[encoded data removed]",
      "text/plain": [
       "<matplotlib.figure.Figure at 0x1046f87b8>"
      ]
     },
     "metadata": {},
     "output_type": "display_data"
    },
    {
     "name": "stdout",
     "output_type": "stream",
     "text": [
      "Distribution of prediction error on test data:\n"
     ]
    },
    {
     "data": {
      "image/png": "[encoded data removed]",
      "text/plain": [
       "<matplotlib.figure.Figure at 0x109efb278>"
      ]
     },
     "metadata": {},
     "output_type": "display_data"
    }
   ],
   "source": [
    "# Create linear regression object\n",
    "regr = linear_model.LinearRegression()\n",
    "\n",
    "# Train the model using the training sets\n",
    "X_train_no_intercept = X_train\n",
    "X_train = X_train.reshape(-1, X_train.shape[1])\n",
    "regr.fit(X_train, y_train)\n",
    "\n",
    "# The intercept\n",
    "print('Intercept: \\n', regr.intercept_)\n",
    "# The coefficients\n",
    "print('Coefficients: \\n', regr.coef_)\n",
    "# The mean square error\n",
    "print(\"Residual sum of squares, training data: %.2f\"\n",
    "      % np.mean((regr.predict(X_train) - y_train) ** 2))\n",
    "print(\"Residual sum of squares, test data: %.2f\"\n",
    "      % np.mean((regr.predict(X_test) - y_test) ** 2))\n",
    "var_to_graph['multReg_linear'] = np.mean((regr.predict(X_test) - y_test) ** 2)\n",
    "# Explained variance score: 1 is perfect prediction\n",
    "print('Variance score, training data: %.2f' % regr.score(X_train, y_train))\n",
    "print('Variance score, test data: %.2f' % regr.score(X_test, y_test))\n",
    "#vector of prediction error\n",
    "print('Distribution of prediction error on training data:')\n",
    "predError = regr.predict(X_train) - y_train\n",
    "plt.hist(predError)\n",
    "plt.show()\n",
    "\n",
    "print('Distribution of prediction error on test data:')\n",
    "predError = regr.predict(X_test) - y_test\n",
    "plt.hist(predError)\n",
    "plt.show()"
   ]
  },
  {
   "cell_type": "code",
   "execution_count": 87,
   "metadata": {
    "collapsed": true
   },
   "outputs": [],
   "source": [
    "from sklearn.preprocessing import PolynomialFeatures\n",
    "# DOC: http://scikit-learn.org/stable/modules/preprocessing.html\n",
    "\n",
    "poly = PolynomialFeatures(2)\n",
    "X_poly = poly.fit_transform(X)"
   ]
  },
  {
   "cell_type": "code",
   "execution_count": 88,
   "metadata": {
    "collapsed": false
   },
   "outputs": [],
   "source": [
    "# create training and test sets\n",
    "from sklearn.cross_validation import train_test_split\n",
    "\n",
    "X_train, X_test, y_train, y_test = train_test_split(\n",
    "         X_poly, y, test_size=0.3, random_state=0)"
   ]
  },
  {
   "cell_type": "code",
   "execution_count": 89,
   "metadata": {
    "collapsed": false
   },
   "outputs": [
    {
     "name": "stdout",
     "output_type": "stream",
     "text": [
      "Intercept: \n",
      " -1.84058138064e+15\n",
      "Coefficients: \n",
      " [ -4.46914890e+14   6.86462059e+13  -3.57239631e+14 ...,  -3.97446369e+13\n",
      "   0.00000000e+00  -3.25686821e+13]\n",
      "Residual sum of squares, training data: 176.60\n",
      "Residual sum of squares, test data: 172011693401520782382634893312.00\n",
      "Variance score, training data: 0.12\n",
      "Variance score, test data: -537991293548799796650704896.00\n",
      "Distribution of prediction error on training data:\n"
     ]
    },
    {
     "data": {
      "image/png": "[encoded data removed]",
      "text/plain": [
       "<matplotlib.figure.Figure at 0x109e6c080>"
      ]
     },
     "metadata": {},
     "output_type": "display_data"
    },
    {
     "name": "stdout",
     "output_type": "stream",
     "text": [
      "Distribution of prediction error on test data:\n"
     ]
    },
    {
     "data": {
      "image/png": "[encoded data removed]",
      "text/plain": [
       "<matplotlib.figure.Figure at 0x10a92f320>"
      ]
     },
     "metadata": {},
     "output_type": "display_data"
    }
   ],
   "source": [
    "## POLYNOMINAL \n",
    "# Create linear regression object\n",
    "poly = linear_model.LinearRegression(normalize=True)\n",
    "\n",
    "# Train the model using the training sets\n",
    "X_train_no_intercept = X_train\n",
    "X_train = X_train.reshape(-1, X_train.shape[1])\n",
    "poly.fit(X_train, y_train)\n",
    "\n",
    "# The intercept\n",
    "print('Intercept: \\n', poly.intercept_)\n",
    "# The coefficients\n",
    "print('Coefficients: \\n', poly.coef_)\n",
    "# The mean square error\n",
    "print(\"Residual sum of squares, training data: %.2f\"\n",
    "      % np.mean((poly.predict(X_train) - y_train) ** 2))\n",
    "print(\"Residual sum of squares, test data: %.2f\"\n",
    "      % np.mean((poly.predict(X_test) - y_test) ** 2))\n",
    "var_to_graph['multReg_poly'] = np.mean((poly.predict(X_test) - y_test) ** 2)\n",
    "# Explained variance score: 1 is perfect prediction\n",
    "print('Variance score, training data: %.2f' % poly.score(X_train, y_train))\n",
    "print('Variance score, test data: %.2f' % poly.score(X_test, y_test))\n",
    "#vector of prediction error\n",
    "print('Distribution of prediction error on training data:')\n",
    "predError = poly.predict(X_train) - y_train\n",
    "plt.hist(predError)\n",
    "plt.show()\n",
    "\n",
    "print('Distribution of prediction error on test data:')\n",
    "predError = poly.predict(X_test) - y_test\n",
    "plt.hist(predError)\n",
    "plt.show()"
   ]
  },
  {
   "cell_type": "code",
   "execution_count": null,
   "metadata": {
    "collapsed": true
   },
   "outputs": [],
   "source": []
  },
  {
   "cell_type": "code",
   "execution_count": 90,
   "metadata": {
    "collapsed": false
   },
   "outputs": [
    {
     "name": "stdout",
     "output_type": "stream",
     "text": [
      "Intercept: \n",
      " 1.52033202187\n",
      "Coefficients: \n",
      " [  2.71250634  -1.41199023  -0.02241504   5.391912     5.94283348\n",
      "  -1.46095477  -0.98855091  11.9292018   -1.09114012  -0.45438402\n",
      "  -1.33804022   8.6974843   -0.22873868  -1.27006426  -0.43481     -1.04294443\n",
      "  -0.50601429  -0.81470403  -0.97301062   1.43760828  -0.59431047\n",
      "   1.95707427  -0.35530969  -1.51916971   1.75184266  -0.95280005\n",
      "   2.3387129   -1.42745818  -2.02416173  -1.88495426  -0.94454632\n",
      "  -0.86017255  -1.54642907  -0.44637737  -0.37645715   3.47083225\n",
      "  -0.75584473   1.95417658   2.35876676   1.35832834   2.42992401\n",
      "   1.91937963  -0.33746259   0.33746259   3.97915005   1.00937739\n",
      "   2.71250634  -1.41199023  -0.02241504   5.391912     5.94283348\n",
      "  -1.46095477  -0.98855091  11.9292018   -1.09114012  -0.45438402\n",
      "  -1.33804022   8.6974843   -0.22873868  -1.27006426  -0.43481     -1.04294443\n",
      "  -0.50601429  -0.81470403  -0.97301062   1.43760828  -0.59431047\n",
      "   1.95707427  -0.35530969  -1.51916971   1.75184266  -0.95280005\n",
      "   2.3387129   -1.42745818  -2.02416173  -1.88495426  -0.94454632\n",
      "  -0.86017255  -1.54642907  -0.44637737  -0.37645715   3.47083225\n",
      "  -0.75584473   1.95417658   2.35876676   1.35832834   2.42992401\n",
      "   1.91937963  -0.33746259   0.33746259   3.97915005   1.00937739]\n",
      "Residual sum of squares, training data: 173.14\n",
      "Residual sum of squares, test data: 307.73\n",
      "Variance score, training data: 0.14\n",
      "Variance score, test data: 0.04\n",
      "Distribution of prediction error on training data:\n"
     ]
    },
    {
     "data": {
      "image/png": "[encoded data removed]",
      "text/plain": [
       "<matplotlib.figure.Figure at 0x104806940>"
      ]
     },
     "metadata": {},
     "output_type": "display_data"
    },
    {
     "name": "stdout",
     "output_type": "stream",
     "text": [
      "Distribution of prediction error on test data:\n"
     ]
    },
    {
     "data": {
      "image/png": "[encoded data removed]",
      "text/plain": [
       "<matplotlib.figure.Figure at 0x10c9b50f0>"
      ]
     },
     "metadata": {},
     "output_type": "display_data"
    }
   ],
   "source": [
    "## RIDGE REGRESSION\n",
    "# DOC: http://scikit-learn.org/stable/modules/generated/sklearn.linear_model.Ridge.html\n",
    "\n",
    "# create training and test sets\n",
    "from sklearn.cross_validation import train_test_split\n",
    "\n",
    "X_train, X_test, y_train, y_test = train_test_split(\n",
    "         X, y, test_size=0.3, random_state=0)\n",
    "\n",
    "# Create linear regression object\n",
    "regr = linear_model.Ridge()\n",
    "\n",
    "# Train the model using the training sets\n",
    "X_train_no_intercept = X_train\n",
    "X_train = X_train.reshape(-1, X_train.shape[1])\n",
    "regr.fit(X_train, y_train)\n",
    "\n",
    "# The intercept\n",
    "print('Intercept: \\n', regr.intercept_)\n",
    "# The coefficients\n",
    "print('Coefficients: \\n', regr.coef_)\n",
    "# The mean square error\n",
    "print(\"Residual sum of squares, training data: %.2f\"\n",
    "      % np.mean((regr.predict(X_train) - y_train) ** 2))\n",
    "print(\"Residual sum of squares, test data: %.2f\"\n",
    "      % np.mean((regr.predict(X_test) - y_test) ** 2))\n",
    "var_to_graph['multReg_ridge'] = np.mean((regr.predict(X_test) - y_test) ** 2)\n",
    "# Explained variance score: 1 is perfect prediction\n",
    "print('Variance score, training data: %.2f' % regr.score(X_train, y_train))\n",
    "print('Variance score, test data: %.2f' % regr.score(X_test, y_test))\n",
    "#vector of prediction error\n",
    "print('Distribution of prediction error on training data:')\n",
    "predError = regr.predict(X_train) - y_train\n",
    "plt.hist(predError)\n",
    "plt.show()\n",
    "\n",
    "print('Distribution of prediction error on test data:')\n",
    "predError = regr.predict(X_test) - y_test\n",
    "plt.hist(predError)\n",
    "plt.show()"
   ]
  },
  {
   "cell_type": "code",
   "execution_count": 91,
   "metadata": {
    "collapsed": false
   },
   "outputs": [
    {
     "name": "stdout",
     "output_type": "stream",
     "text": [
      "Intercept: \n",
      " 5.00682267599\n",
      "Residual sum of squares, training data: 176.14\n",
      "Residual sum of squares, test data: 305.40\n",
      "Variance score, training data: 0.12\n",
      "Variance score, test data: 0.04\n",
      "Distribution of prediction error on training data:\n"
     ]
    },
    {
     "data": {
      "image/png": "[encoded data removed]",
      "text/plain": [
       "<matplotlib.figure.Figure at 0x104703f60>"
      ]
     },
     "metadata": {},
     "output_type": "display_data"
    },
    {
     "name": "stdout",
     "output_type": "stream",
     "text": [
      "Distribution of prediction error on test data:\n"
     ]
    },
    {
     "data": {
      "image/png": "[encoded data removed]",
      "text/plain": [
       "<matplotlib.figure.Figure at 0x10a6052b0>"
      ]
     },
     "metadata": {},
     "output_type": "display_data"
    }
   ],
   "source": [
    "## RIDGE REGRESSION with normalization\n",
    "# DOC: http://scikit-learn.org/stable/modules/generated/sklearn.linear_model.Ridge.html\n",
    "\n",
    "# create training and test sets\n",
    "from sklearn.cross_validation import train_test_split\n",
    "\n",
    "X_train, X_test, y_train, y_test = train_test_split(\n",
    "         X, y, test_size=0.3, random_state=0)\n",
    "\n",
    "# Create linear regression object\n",
    "regr = linear_model.Ridge(normalize=True)\n",
    "\n",
    "# Train the model using the training sets\n",
    "X_train_no_intercept = X_train\n",
    "X_train = X_train.reshape(-1, X_train.shape[1])\n",
    "regr.fit(X_train, y_train)\n",
    "\n",
    "# The intercept\n",
    "print('Intercept: \\n', regr.intercept_)\n",
    "# The coefficients\n",
    "#print('Coefficients: \\n', regr.coef_)\n",
    "# The mean square error\n",
    "print(\"Residual sum of squares, training data: %.2f\"\n",
    "      % np.mean((regr.predict(X_train) - y_train) ** 2))\n",
    "print(\"Residual sum of squares, test data: %.2f\"\n",
    "      % np.mean((regr.predict(X_test) - y_test) ** 2))\n",
    "var_to_graph['multReg_ridge'] = np.mean((regr.predict(X_test) - y_test) ** 2)\n",
    "# Explained variance score: 1 is perfect prediction\n",
    "print('Variance score, training data: %.2f' % regr.score(X_train, y_train))\n",
    "print('Variance score, test data: %.2f' % regr.score(X_test, y_test))\n",
    "#vector of prediction error\n",
    "print('Distribution of prediction error on training data:')\n",
    "predError = regr.predict(X_train) - y_train\n",
    "plt.hist(predError)\n",
    "plt.show()\n",
    "\n",
    "print('Distribution of prediction error on test data:')\n",
    "predError = regr.predict(X_test) - y_test\n",
    "plt.hist(predError)\n",
    "plt.show()"
   ]
  },
  {
   "cell_type": "code",
   "execution_count": 92,
   "metadata": {
    "collapsed": false
   },
   "outputs": [
    {
     "data": {
      "image/png": "[encoded data removed]",
      "text/plain": [
       "<matplotlib.figure.Figure at 0x10dc5e278>"
      ]
     },
     "metadata": {},
     "output_type": "display_data"
    }
   ],
   "source": [
    "# bar graph of dict with Residual Sum of Squares on test datasets\n",
    "\n",
    "#var_to_graph['multReg_poly'] = 0\n",
    "plt.bar(range(len(var_to_graph)), var_to_graph.values(), align='center')\n",
    "plt.xticks(range(len(var_to_graph)), var_to_graph.keys())\n",
    "\n",
    "plt.show()"
   ]
  },
  {
   "cell_type": "code",
   "execution_count": null,
   "metadata": {
    "collapsed": true
   },
   "outputs": [],
   "source": []
  },
  {
   "cell_type": "code",
   "execution_count": null,
   "metadata": {
    "collapsed": true
   },
   "outputs": [],
   "source": []
  },
  {
   "cell_type": "code",
   "execution_count": null,
   "metadata": {
    "collapsed": true
   },
   "outputs": [],
   "source": []
  }
 ],
 "metadata": {
  "kernelspec": {
   "display_name": "Python 3",
   "language": "python",
   "name": "python3"
  },
  "language_info": {
   "codemirror_mode": {
    "name": "ipython",
    "version": 3
   },
   "file_extension": ".py",
   "mimetype": "text/x-python",
   "name": "python",
   "nbconvert_exporter": "python",
   "pygments_lexer": "ipython3",
   "version": "3.5.1"
  }
 },
 "nbformat": 4,
 "nbformat_minor": 0
}
