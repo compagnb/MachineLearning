{
 "cells": [
  {
   "cell_type": "code",
   "execution_count": 112,
   "metadata": {
    "collapsed": true
   },
   "outputs": [],
   "source": [
    "import numpy as np\n",
    "import pandas as pd\n",
    "import matplotlib.pyplot as plt\n",
    "%matplotlib inline"
   ]
  },
  {
   "cell_type": "code",
   "execution_count": 113,
   "metadata": {
    "collapsed": true
   },
   "outputs": [],
   "source": [
    "#Jaime's dataset\n",
    "salData = pd.read_csv('mergedSalaries.csv')"
   ]
  },
  {
   "cell_type": "code",
   "execution_count": 114,
   "metadata": {
    "collapsed": false
   },
   "outputs": [
    {
     "data": {
      "text/html": [
       "<div>\n",
       "<table border=\"1\" class=\"dataframe\">\n",
       "  <thead>\n",
       "    <tr style=\"text-align: right;\">\n",
       "      <th></th>\n",
       "      <th>Unnamed: 0</th>\n",
       "      <th>function</th>\n",
       "      <th>sup1</th>\n",
       "      <th>sup2</th>\n",
       "      <th>sup3</th>\n",
       "      <th>sup4</th>\n",
       "      <th>sup5</th>\n",
       "      <th>salary</th>\n",
       "      <th>gender</th>\n",
       "      <th>disabled</th>\n",
       "      <th>...</th>\n",
       "      <th>sex_by_age:__female:_67_to_69_years_</th>\n",
       "      <th>sex_by_age:__female:_70_to_74_years_</th>\n",
       "      <th>sex_by_age:__female:_75_to_79_years_</th>\n",
       "      <th>sex_by_age:__female:_80_to_84_years_</th>\n",
       "      <th>sex_by_age:__female:_85_years_and_over_</th>\n",
       "      <th>commute_over_60</th>\n",
       "      <th>full_time</th>\n",
       "      <th>part_time</th>\n",
       "      <th>high_rent_burden</th>\n",
       "      <th>extreme_rent_burden</th>\n",
       "    </tr>\n",
       "  </thead>\n",
       "  <tbody>\n",
       "    <tr>\n",
       "      <th>0</th>\n",
       "      <td>2211</td>\n",
       "      <td>position22</td>\n",
       "      <td>0</td>\n",
       "      <td>0</td>\n",
       "      <td>0</td>\n",
       "      <td>4</td>\n",
       "      <td>1</td>\n",
       "      <td>49088</td>\n",
       "      <td>Man</td>\n",
       "      <td>False</td>\n",
       "      <td>...</td>\n",
       "      <td>0</td>\n",
       "      <td>0</td>\n",
       "      <td>0</td>\n",
       "      <td>0</td>\n",
       "      <td>0</td>\n",
       "      <td>0</td>\n",
       "      <td>65.276074</td>\n",
       "      <td>34.723926</td>\n",
       "      <td>37.5</td>\n",
       "      <td>37.5</td>\n",
       "    </tr>\n",
       "    <tr>\n",
       "      <th>1</th>\n",
       "      <td>2212</td>\n",
       "      <td>position15</td>\n",
       "      <td>0</td>\n",
       "      <td>0</td>\n",
       "      <td>0</td>\n",
       "      <td>0</td>\n",
       "      <td>0</td>\n",
       "      <td>48131</td>\n",
       "      <td>Man</td>\n",
       "      <td>True</td>\n",
       "      <td>...</td>\n",
       "      <td>0</td>\n",
       "      <td>0</td>\n",
       "      <td>0</td>\n",
       "      <td>0</td>\n",
       "      <td>0</td>\n",
       "      <td>0</td>\n",
       "      <td>65.276074</td>\n",
       "      <td>34.723926</td>\n",
       "      <td>37.5</td>\n",
       "      <td>37.5</td>\n",
       "    </tr>\n",
       "    <tr>\n",
       "      <th>2</th>\n",
       "      <td>2216</td>\n",
       "      <td>position20</td>\n",
       "      <td>1</td>\n",
       "      <td>0</td>\n",
       "      <td>1</td>\n",
       "      <td>6</td>\n",
       "      <td>1</td>\n",
       "      <td>51625</td>\n",
       "      <td>Man</td>\n",
       "      <td>False</td>\n",
       "      <td>...</td>\n",
       "      <td>0</td>\n",
       "      <td>0</td>\n",
       "      <td>0</td>\n",
       "      <td>0</td>\n",
       "      <td>0</td>\n",
       "      <td>0</td>\n",
       "      <td>65.276074</td>\n",
       "      <td>34.723926</td>\n",
       "      <td>37.5</td>\n",
       "      <td>37.5</td>\n",
       "    </tr>\n",
       "    <tr>\n",
       "      <th>3</th>\n",
       "      <td>2217</td>\n",
       "      <td>position6</td>\n",
       "      <td>0</td>\n",
       "      <td>0</td>\n",
       "      <td>1</td>\n",
       "      <td>30</td>\n",
       "      <td>5</td>\n",
       "      <td>54225</td>\n",
       "      <td>Woman</td>\n",
       "      <td>False</td>\n",
       "      <td>...</td>\n",
       "      <td>0</td>\n",
       "      <td>0</td>\n",
       "      <td>0</td>\n",
       "      <td>0</td>\n",
       "      <td>0</td>\n",
       "      <td>0</td>\n",
       "      <td>65.276074</td>\n",
       "      <td>34.723926</td>\n",
       "      <td>37.5</td>\n",
       "      <td>37.5</td>\n",
       "    </tr>\n",
       "    <tr>\n",
       "      <th>4</th>\n",
       "      <td>2218</td>\n",
       "      <td>position10</td>\n",
       "      <td>0</td>\n",
       "      <td>0</td>\n",
       "      <td>0</td>\n",
       "      <td>7</td>\n",
       "      <td>0</td>\n",
       "      <td>67495</td>\n",
       "      <td>Woman</td>\n",
       "      <td>False</td>\n",
       "      <td>...</td>\n",
       "      <td>0</td>\n",
       "      <td>0</td>\n",
       "      <td>0</td>\n",
       "      <td>0</td>\n",
       "      <td>0</td>\n",
       "      <td>0</td>\n",
       "      <td>65.276074</td>\n",
       "      <td>34.723926</td>\n",
       "      <td>37.5</td>\n",
       "      <td>37.5</td>\n",
       "    </tr>\n",
       "  </tbody>\n",
       "</table>\n",
       "<p>5 rows × 124 columns</p>\n",
       "</div>"
      ],
      "text/plain": [
       "   Unnamed: 0    function  sup1  sup2  sup3  sup4  sup5  salary gender  \\\n",
       "0        2211  position22     0     0     0     4     1   49088    Man   \n",
       "1        2212  position15     0     0     0     0     0   48131    Man   \n",
       "2        2216  position20     1     0     1     6     1   51625    Man   \n",
       "3        2217   position6     0     0     1    30     5   54225  Woman   \n",
       "4        2218  position10     0     0     0     7     0   67495  Woman   \n",
       "\n",
       "  disabled         ...          sex_by_age:__female:_67_to_69_years_  \\\n",
       "0    False         ...                                             0   \n",
       "1     True         ...                                             0   \n",
       "2    False         ...                                             0   \n",
       "3    False         ...                                             0   \n",
       "4    False         ...                                             0   \n",
       "\n",
       "   sex_by_age:__female:_70_to_74_years_  sex_by_age:__female:_75_to_79_years_  \\\n",
       "0                                     0                                     0   \n",
       "1                                     0                                     0   \n",
       "2                                     0                                     0   \n",
       "3                                     0                                     0   \n",
       "4                                     0                                     0   \n",
       "\n",
       "   sex_by_age:__female:_80_to_84_years_  \\\n",
       "0                                     0   \n",
       "1                                     0   \n",
       "2                                     0   \n",
       "3                                     0   \n",
       "4                                     0   \n",
       "\n",
       "  sex_by_age:__female:_85_years_and_over_ commute_over_60  full_time  \\\n",
       "0                                       0               0  65.276074   \n",
       "1                                       0               0  65.276074   \n",
       "2                                       0               0  65.276074   \n",
       "3                                       0               0  65.276074   \n",
       "4                                       0               0  65.276074   \n",
       "\n",
       "   part_time  high_rent_burden  extreme_rent_burden  \n",
       "0  34.723926              37.5                 37.5  \n",
       "1  34.723926              37.5                 37.5  \n",
       "2  34.723926              37.5                 37.5  \n",
       "3  34.723926              37.5                 37.5  \n",
       "4  34.723926              37.5                 37.5  \n",
       "\n",
       "[5 rows x 124 columns]"
      ]
     },
     "execution_count": 114,
     "metadata": {},
     "output_type": "execute_result"
    }
   ],
   "source": [
    "salData.head(5)"
   ]
  },
  {
   "cell_type": "code",
   "execution_count": 115,
   "metadata": {
    "collapsed": false
   },
   "outputs": [
    {
     "data": {
      "text/plain": [
       "Unnamed: 0                                    1110.500000\n",
       "sup1                                             1.431593\n",
       "sup2                                             0.763726\n",
       "sup3                                             0.624212\n",
       "sup4                                            49.639514\n",
       "sup5                                             3.945995\n",
       "salary                                       48756.163901\n",
       "disabled                                         0.013051\n",
       "yearsinposition                                  5.689307\n",
       "yearsinprofession                                9.327103\n",
       "age                                             38.260094\n",
       "cred1                                            0.069307\n",
       "cred2                                            0.031503\n",
       "inst1                                           16.674617\n",
       "inst2                                            6.648965\n",
       "inst3                                            3.680468\n",
       "inst4                                          336.729523\n",
       "inst5                                           40.371737\n",
       "instbudget                                 4826742.328460\n",
       "zip                                          56712.063006\n",
       "instsize                                     25194.286552\n",
       "b19013_001                                   48670.322905\n",
       "no_male_hs_p                                     7.880182\n",
       "no_female_hs_p                                   8.354468\n",
       "at_least_hs_male_p                              92.119818\n",
       "at_least_hs_female_p                            91.645532\n",
       "at_least_bach_male_p                            47.259724\n",
       "at_least_bach_female_p                          48.690321\n",
       "male_unemployment                                6.188552\n",
       "female_unemployment                              6.154348\n",
       "                                                ...      \n",
       "sex_by_age:__male:_85_years_and_over_           92.784627\n",
       "sex_by_age:__female:_                        10111.229833\n",
       "sex_by_age:__female:_under_5_years_            477.404871\n",
       "sex_by_age:__female:_5_to_9_years_             428.936834\n",
       "sex_by_age:__female:_10_to_14_years_           411.923896\n",
       "sex_by_age:__female:_15_to_17_years_           294.162861\n",
       "sex_by_age:__female:_18_and_19_years_         1437.153729\n",
       "sex_by_age:__female:_20_years_                 549.543379\n",
       "sex_by_age:__female:_21_years_                 476.490107\n",
       "sex_by_age:__female:_22_to_24_years_           718.789954\n",
       "sex_by_age:__female:_25_to_29_years_           743.124810\n",
       "sex_by_age:__female:_30_to_34_years_           541.089802\n",
       "sex_by_age:__female:_35_to_39_years_           505.652207\n",
       "sex_by_age:__female:_40_to_44_years_           501.490107\n",
       "sex_by_age:__female:_45_to_49_years_           510.817352\n",
       "sex_by_age:__female:_50_to_54_years_           536.961187\n",
       "sex_by_age:__female:_55_to_59_years_           491.843988\n",
       "sex_by_age:__female:_60_and_61_years_          188.231355\n",
       "sex_by_age:__female:_62_to_64_years_           224.789193\n",
       "sex_by_age:__female:_65_and_66_years_          125.289954\n",
       "sex_by_age:__female:_67_to_69_years_           154.544901\n",
       "sex_by_age:__female:_70_to_74_years_           228.536530\n",
       "sex_by_age:__female:_75_to_79_years_           189.363014\n",
       "sex_by_age:__female:_80_to_84_years_           171.121766\n",
       "sex_by_age:__female:_85_years_and_over_        203.968037\n",
       "commute_over_60                                  4.083454\n",
       "full_time                                       46.706917\n",
       "part_time                                       53.293083\n",
       "high_rent_burden                                56.853816\n",
       "extreme_rent_burden                             37.304541\n",
       "dtype: float64"
      ]
     },
     "execution_count": 115,
     "metadata": {},
     "output_type": "execute_result"
    }
   ],
   "source": [
    "salData.mean()"
   ]
  },
  {
   "cell_type": "code",
   "execution_count": 116,
   "metadata": {
    "collapsed": false
   },
   "outputs": [
    {
     "data": {
      "text/html": [
       "<div>\n",
       "<table border=\"1\" class=\"dataframe\">\n",
       "  <thead>\n",
       "    <tr style=\"text-align: right;\">\n",
       "      <th></th>\n",
       "      <th>Zip Code Pop</th>\n",
       "      <th>2010 Census Population</th>\n",
       "      <th>zip</th>\n",
       "    </tr>\n",
       "  </thead>\n",
       "  <tbody>\n",
       "    <tr>\n",
       "      <th>0</th>\n",
       "      <td>1001</td>\n",
       "      <td>16769</td>\n",
       "      <td>1001</td>\n",
       "    </tr>\n",
       "    <tr>\n",
       "      <th>1</th>\n",
       "      <td>1002</td>\n",
       "      <td>29049</td>\n",
       "      <td>1002</td>\n",
       "    </tr>\n",
       "    <tr>\n",
       "      <th>2</th>\n",
       "      <td>1003</td>\n",
       "      <td>10372</td>\n",
       "      <td>1003</td>\n",
       "    </tr>\n",
       "    <tr>\n",
       "      <th>3</th>\n",
       "      <td>1005</td>\n",
       "      <td>5079</td>\n",
       "      <td>1005</td>\n",
       "    </tr>\n",
       "    <tr>\n",
       "      <th>4</th>\n",
       "      <td>1007</td>\n",
       "      <td>14649</td>\n",
       "      <td>1007</td>\n",
       "    </tr>\n",
       "  </tbody>\n",
       "</table>\n",
       "</div>"
      ],
      "text/plain": [
       "   Zip Code Pop  2010 Census Population   zip\n",
       "0          1001                   16769  1001\n",
       "1          1002                   29049  1002\n",
       "2          1003                   10372  1003\n",
       "3          1005                    5079  1005\n",
       "4          1007                   14649  1007"
      ]
     },
     "execution_count": 116,
     "metadata": {},
     "output_type": "execute_result"
    }
   ],
   "source": [
    "popData = pd.read_csv('population.csv')\n",
    "popData['zip'] = popData['Zip Code Pop']\n",
    "popData.head()"
   ]
  },
  {
   "cell_type": "code",
   "execution_count": 117,
   "metadata": {
    "collapsed": true
   },
   "outputs": [],
   "source": [
    "# eliminate rows with missing Y values (NaN)\n",
    "salData['missingSalary'] = pd.isnull(salData['salary'])\n",
    "salData2 = salData[(salData.missingSalary == False)]"
   ]
  },
  {
   "cell_type": "code",
   "execution_count": 118,
   "metadata": {
    "collapsed": false
   },
   "outputs": [
    {
     "data": {
      "text/html": [
       "<div>\n",
       "<table border=\"1\" class=\"dataframe\">\n",
       "  <thead>\n",
       "    <tr style=\"text-align: right;\">\n",
       "      <th></th>\n",
       "      <th>Unnamed: 0</th>\n",
       "      <th>function</th>\n",
       "      <th>sup1</th>\n",
       "      <th>sup2</th>\n",
       "      <th>sup3</th>\n",
       "      <th>sup4</th>\n",
       "      <th>sup5</th>\n",
       "      <th>salary</th>\n",
       "      <th>gender</th>\n",
       "      <th>disabled</th>\n",
       "      <th>...</th>\n",
       "      <th>sex_by_age:__female:_70_to_74_years_</th>\n",
       "      <th>sex_by_age:__female:_75_to_79_years_</th>\n",
       "      <th>sex_by_age:__female:_80_to_84_years_</th>\n",
       "      <th>sex_by_age:__female:_85_years_and_over_</th>\n",
       "      <th>commute_over_60</th>\n",
       "      <th>full_time</th>\n",
       "      <th>part_time</th>\n",
       "      <th>high_rent_burden</th>\n",
       "      <th>extreme_rent_burden</th>\n",
       "      <th>missingSalary</th>\n",
       "    </tr>\n",
       "  </thead>\n",
       "  <tbody>\n",
       "    <tr>\n",
       "      <th>0</th>\n",
       "      <td>2211</td>\n",
       "      <td>position22</td>\n",
       "      <td>0</td>\n",
       "      <td>0</td>\n",
       "      <td>0</td>\n",
       "      <td>4</td>\n",
       "      <td>1</td>\n",
       "      <td>49088</td>\n",
       "      <td>Man</td>\n",
       "      <td>False</td>\n",
       "      <td>...</td>\n",
       "      <td>0</td>\n",
       "      <td>0</td>\n",
       "      <td>0</td>\n",
       "      <td>0</td>\n",
       "      <td>0</td>\n",
       "      <td>65.276074</td>\n",
       "      <td>34.723926</td>\n",
       "      <td>37.5</td>\n",
       "      <td>37.5</td>\n",
       "      <td>False</td>\n",
       "    </tr>\n",
       "    <tr>\n",
       "      <th>1</th>\n",
       "      <td>2212</td>\n",
       "      <td>position15</td>\n",
       "      <td>0</td>\n",
       "      <td>0</td>\n",
       "      <td>0</td>\n",
       "      <td>0</td>\n",
       "      <td>0</td>\n",
       "      <td>48131</td>\n",
       "      <td>Man</td>\n",
       "      <td>True</td>\n",
       "      <td>...</td>\n",
       "      <td>0</td>\n",
       "      <td>0</td>\n",
       "      <td>0</td>\n",
       "      <td>0</td>\n",
       "      <td>0</td>\n",
       "      <td>65.276074</td>\n",
       "      <td>34.723926</td>\n",
       "      <td>37.5</td>\n",
       "      <td>37.5</td>\n",
       "      <td>False</td>\n",
       "    </tr>\n",
       "    <tr>\n",
       "      <th>2</th>\n",
       "      <td>2216</td>\n",
       "      <td>position20</td>\n",
       "      <td>1</td>\n",
       "      <td>0</td>\n",
       "      <td>1</td>\n",
       "      <td>6</td>\n",
       "      <td>1</td>\n",
       "      <td>51625</td>\n",
       "      <td>Man</td>\n",
       "      <td>False</td>\n",
       "      <td>...</td>\n",
       "      <td>0</td>\n",
       "      <td>0</td>\n",
       "      <td>0</td>\n",
       "      <td>0</td>\n",
       "      <td>0</td>\n",
       "      <td>65.276074</td>\n",
       "      <td>34.723926</td>\n",
       "      <td>37.5</td>\n",
       "      <td>37.5</td>\n",
       "      <td>False</td>\n",
       "    </tr>\n",
       "    <tr>\n",
       "      <th>3</th>\n",
       "      <td>2217</td>\n",
       "      <td>position6</td>\n",
       "      <td>0</td>\n",
       "      <td>0</td>\n",
       "      <td>1</td>\n",
       "      <td>30</td>\n",
       "      <td>5</td>\n",
       "      <td>54225</td>\n",
       "      <td>Woman</td>\n",
       "      <td>False</td>\n",
       "      <td>...</td>\n",
       "      <td>0</td>\n",
       "      <td>0</td>\n",
       "      <td>0</td>\n",
       "      <td>0</td>\n",
       "      <td>0</td>\n",
       "      <td>65.276074</td>\n",
       "      <td>34.723926</td>\n",
       "      <td>37.5</td>\n",
       "      <td>37.5</td>\n",
       "      <td>False</td>\n",
       "    </tr>\n",
       "    <tr>\n",
       "      <th>4</th>\n",
       "      <td>2218</td>\n",
       "      <td>position10</td>\n",
       "      <td>0</td>\n",
       "      <td>0</td>\n",
       "      <td>0</td>\n",
       "      <td>7</td>\n",
       "      <td>0</td>\n",
       "      <td>67495</td>\n",
       "      <td>Woman</td>\n",
       "      <td>False</td>\n",
       "      <td>...</td>\n",
       "      <td>0</td>\n",
       "      <td>0</td>\n",
       "      <td>0</td>\n",
       "      <td>0</td>\n",
       "      <td>0</td>\n",
       "      <td>65.276074</td>\n",
       "      <td>34.723926</td>\n",
       "      <td>37.5</td>\n",
       "      <td>37.5</td>\n",
       "      <td>False</td>\n",
       "    </tr>\n",
       "  </tbody>\n",
       "</table>\n",
       "<p>5 rows × 125 columns</p>\n",
       "</div>"
      ],
      "text/plain": [
       "   Unnamed: 0    function  sup1  sup2  sup3  sup4  sup5  salary gender  \\\n",
       "0        2211  position22     0     0     0     4     1   49088    Man   \n",
       "1        2212  position15     0     0     0     0     0   48131    Man   \n",
       "2        2216  position20     1     0     1     6     1   51625    Man   \n",
       "3        2217   position6     0     0     1    30     5   54225  Woman   \n",
       "4        2218  position10     0     0     0     7     0   67495  Woman   \n",
       "\n",
       "  disabled      ...       sex_by_age:__female:_70_to_74_years_  \\\n",
       "0    False      ...                                          0   \n",
       "1     True      ...                                          0   \n",
       "2    False      ...                                          0   \n",
       "3    False      ...                                          0   \n",
       "4    False      ...                                          0   \n",
       "\n",
       "   sex_by_age:__female:_75_to_79_years_  sex_by_age:__female:_80_to_84_years_  \\\n",
       "0                                     0                                     0   \n",
       "1                                     0                                     0   \n",
       "2                                     0                                     0   \n",
       "3                                     0                                     0   \n",
       "4                                     0                                     0   \n",
       "\n",
       "   sex_by_age:__female:_85_years_and_over_ commute_over_60  full_time  \\\n",
       "0                                        0               0  65.276074   \n",
       "1                                        0               0  65.276074   \n",
       "2                                        0               0  65.276074   \n",
       "3                                        0               0  65.276074   \n",
       "4                                        0               0  65.276074   \n",
       "\n",
       "   part_time  high_rent_burden  extreme_rent_burden  missingSalary  \n",
       "0  34.723926              37.5                 37.5          False  \n",
       "1  34.723926              37.5                 37.5          False  \n",
       "2  34.723926              37.5                 37.5          False  \n",
       "3  34.723926              37.5                 37.5          False  \n",
       "4  34.723926              37.5                 37.5          False  \n",
       "\n",
       "[5 rows x 125 columns]"
      ]
     },
     "execution_count": 118,
     "metadata": {},
     "output_type": "execute_result"
    }
   ],
   "source": [
    "salData2.head()"
   ]
  },
  {
   "cell_type": "code",
   "execution_count": 119,
   "metadata": {
    "collapsed": false
   },
   "outputs": [],
   "source": [
    "mergedData = pd.merge(salData2, popData, how='left', on = 'zip')"
   ]
  },
  {
   "cell_type": "code",
   "execution_count": 120,
   "metadata": {
    "collapsed": false
   },
   "outputs": [
    {
     "data": {
      "text/plain": [
       "['Unnamed: 0',\n",
       " 'function',\n",
       " 'sup1',\n",
       " 'sup2',\n",
       " 'sup3',\n",
       " 'sup4',\n",
       " 'sup5',\n",
       " 'salary',\n",
       " 'gender',\n",
       " 'disabled',\n",
       " 'race',\n",
       " 'yearsinposition',\n",
       " 'yearsinprofession',\n",
       " 'age',\n",
       " 'cred1',\n",
       " 'cred2',\n",
       " 'highestdegree',\n",
       " 'inst1',\n",
       " 'inst2',\n",
       " 'inst3',\n",
       " 'inst4',\n",
       " 'inst5',\n",
       " 'instbudget',\n",
       " 'city',\n",
       " 'state',\n",
       " 'zip',\n",
       " 'country',\n",
       " 'category',\n",
       " 'instsize',\n",
       " 'insttype',\n",
       " 'median',\n",
       " 'mean',\n",
       " 'pop',\n",
       " 'b19013_001',\n",
       " 'no_male_hs_p',\n",
       " 'no_female_hs_p',\n",
       " 'at_least_hs_male_p',\n",
       " 'at_least_hs_female_p',\n",
       " 'at_least_bach_male_p',\n",
       " 'at_least_bach_female_p',\n",
       " 'male_unemployment',\n",
       " 'female_unemployment',\n",
       " 'snap',\n",
       " 'renter',\n",
       " 'median_rent',\n",
       " 'foreign_born',\n",
       " 'value_for_owner-occupied_housing_units:__total:_',\n",
       " 'value_for_owner-occupied_housing_units:__less_than_$10,000_',\n",
       " 'value_for_owner-occupied_housing_units:__$10,000_to_$14,999_',\n",
       " 'value_for_owner-occupied_housing_units:__$15,000_to_$19,999_',\n",
       " 'value_for_owner-occupied_housing_units:__$20,000_to_$24,999_',\n",
       " 'value_for_owner-occupied_housing_units:__$25,000_to_$29,999_',\n",
       " 'value_for_owner-occupied_housing_units:__$30,000_to_$34,999_',\n",
       " 'value_for_owner-occupied_housing_units:__$35,000_to_$39,999_',\n",
       " 'value_for_owner-occupied_housing_units:__$40,000_to_$49,999_',\n",
       " 'value_for_owner-occupied_housing_units:__$50,000_to_$59,999_',\n",
       " 'value_for_owner-occupied_housing_units:__$60,000_to_$69,999_',\n",
       " 'value_for_owner-occupied_housing_units:__$70,000_to_$79,999_',\n",
       " 'value_for_owner-occupied_housing_units:__$80,000_to_$89,999_',\n",
       " 'value_for_owner-occupied_housing_units:__$90,000_to_$99,999_',\n",
       " 'value_for_owner-occupied_housing_units:__$100,000_to_$124,999_',\n",
       " 'value_for_owner-occupied_housing_units:__$125,000_to_$149,999_',\n",
       " 'value_for_owner-occupied_housing_units:__$150,000_to_$174,999_',\n",
       " 'value_for_owner-occupied_housing_units:__$175,000_to_$199,999_',\n",
       " 'value_for_owner-occupied_housing_units:__$200,000_to_$249,999_',\n",
       " 'value_for_owner-occupied_housing_units:__$250,000_to_$299,999_',\n",
       " 'value_for_owner-occupied_housing_units:__$300,000_to_$399,999_',\n",
       " 'value_for_owner-occupied_housing_units:__$400,000_to_$499,999_',\n",
       " 'value_for_owner-occupied_housing_units:__$500,000_to_$749,999_',\n",
       " 'value_for_owner-occupied_housing_units:__$750,000_to_$999,999_',\n",
       " 'value_for_owner-occupied_housing_units:__$1,000,000_or_more_',\n",
       " 'sex_by_age:__male:_',\n",
       " 'sex_by_age:__male:_under_5_years_',\n",
       " 'sex_by_age:__male:_5_to_9_years_',\n",
       " 'sex_by_age:__male:_10_to_14_years_',\n",
       " 'sex_by_age:__male:_15_to_17_years_',\n",
       " 'sex_by_age:__male:_18_and_19_years_',\n",
       " 'sex_by_age:__male:_20_years_',\n",
       " 'sex_by_age:__male:_21_years_',\n",
       " 'sex_by_age:__male:_22_to_24_years_',\n",
       " 'sex_by_age:__male:_25_to_29_years_',\n",
       " 'sex_by_age:__male:_30_to_34_years_',\n",
       " 'sex_by_age:__male:_35_to_39_years_',\n",
       " 'sex_by_age:__male:_40_to_44_years_',\n",
       " 'sex_by_age:__male:_45_to_49_years_',\n",
       " 'sex_by_age:__male:_50_to_54_years_',\n",
       " 'sex_by_age:__male:_55_to_59_years_',\n",
       " 'sex_by_age:__male:_60_and_61_years_',\n",
       " 'sex_by_age:__male:_62_to_64_years_',\n",
       " 'sex_by_age:__male:_65_and_66_years_',\n",
       " 'sex_by_age:__male:_67_to_69_years_',\n",
       " 'sex_by_age:__male:_70_to_74_years_',\n",
       " 'sex_by_age:__male:_75_to_79_years_',\n",
       " 'sex_by_age:__male:_80_to_84_years_',\n",
       " 'sex_by_age:__male:_85_years_and_over_',\n",
       " 'sex_by_age:__female:_',\n",
       " 'sex_by_age:__female:_under_5_years_',\n",
       " 'sex_by_age:__female:_5_to_9_years_',\n",
       " 'sex_by_age:__female:_10_to_14_years_',\n",
       " 'sex_by_age:__female:_15_to_17_years_',\n",
       " 'sex_by_age:__female:_18_and_19_years_',\n",
       " 'sex_by_age:__female:_20_years_',\n",
       " 'sex_by_age:__female:_21_years_',\n",
       " 'sex_by_age:__female:_22_to_24_years_',\n",
       " 'sex_by_age:__female:_25_to_29_years_',\n",
       " 'sex_by_age:__female:_30_to_34_years_',\n",
       " 'sex_by_age:__female:_35_to_39_years_',\n",
       " 'sex_by_age:__female:_40_to_44_years_',\n",
       " 'sex_by_age:__female:_45_to_49_years_',\n",
       " 'sex_by_age:__female:_50_to_54_years_',\n",
       " 'sex_by_age:__female:_55_to_59_years_',\n",
       " 'sex_by_age:__female:_60_and_61_years_',\n",
       " 'sex_by_age:__female:_62_to_64_years_',\n",
       " 'sex_by_age:__female:_65_and_66_years_',\n",
       " 'sex_by_age:__female:_67_to_69_years_',\n",
       " 'sex_by_age:__female:_70_to_74_years_',\n",
       " 'sex_by_age:__female:_75_to_79_years_',\n",
       " 'sex_by_age:__female:_80_to_84_years_',\n",
       " 'sex_by_age:__female:_85_years_and_over_',\n",
       " 'commute_over_60',\n",
       " 'full_time',\n",
       " 'part_time',\n",
       " 'high_rent_burden',\n",
       " 'extreme_rent_burden',\n",
       " 'missingSalary',\n",
       " 'Zip Code Pop',\n",
       " '2010 Census Population']"
      ]
     },
     "execution_count": 120,
     "metadata": {},
     "output_type": "execute_result"
    }
   ],
   "source": [
    "list(mergedData.columns.values)"
   ]
  },
  {
   "cell_type": "code",
   "execution_count": 121,
   "metadata": {
    "collapsed": false
   },
   "outputs": [],
   "source": [
    "# list of X vars to include\n",
    "#put features in a list to deal with them programatically\n",
    "X_numeric_features = [\n",
    "    'sup1', \n",
    "    'sup2', \n",
    "    'sup3', \n",
    "    'sup4', \n",
    "    'sup5', \n",
    "    'disabled', \n",
    "    'yearsinposition', \n",
    "    'yearsinprofession', \n",
    "    'age', \n",
    "    'cred1', \n",
    "    'cred2', \n",
    "    'inst1', \n",
    "    'inst2', \n",
    "    'inst3', \n",
    "    'inst4', \n",
    "    'inst5',\n",
    "    'instbudget', \n",
    "    'instsize',\n",
    "    'sex_by_age:__male:_',\n",
    "    'sex_by_age:__male:_under_5_years_',\n",
    "    'sex_by_age:__male:_5_to_9_years_',\n",
    "    'sex_by_age:__male:_10_to_14_years_',\n",
    "    'sex_by_age:__male:_15_to_17_years_',\n",
    "    'sex_by_age:__male:_18_and_19_years_',\n",
    "    'sex_by_age:__male:_20_years_',\n",
    "    'sex_by_age:__male:_21_years_',\n",
    "    'sex_by_age:__male:_22_to_24_years_',\n",
    "    'sex_by_age:__male:_25_to_29_years_',\n",
    "    'sex_by_age:__male:_30_to_34_years_',\n",
    "    'sex_by_age:__male:_35_to_39_years_',\n",
    "    'sex_by_age:__male:_40_to_44_years_',\n",
    "    'sex_by_age:__male:_45_to_49_years_',\n",
    "    'sex_by_age:__male:_50_to_54_years_',\n",
    "    'sex_by_age:__male:_55_to_59_years_',\n",
    "    'sex_by_age:__male:_60_and_61_years_',\n",
    "    'sex_by_age:__male:_62_to_64_years_',\n",
    "    'sex_by_age:__male:_65_and_66_years_',\n",
    "    'sex_by_age:__male:_67_to_69_years_',\n",
    "    'sex_by_age:__male:_70_to_74_years_',\n",
    "    'sex_by_age:__male:_75_to_79_years_',\n",
    "    'sex_by_age:__male:_80_to_84_years_',\n",
    "    'sex_by_age:__male:_85_years_and_over_',\n",
    "    'sex_by_age:__female:_',\n",
    "    'sex_by_age:__female:_under_5_years_',\n",
    "    'sex_by_age:__female:_5_to_9_years_',\n",
    "    'sex_by_age:__female:_10_to_14_years_',\n",
    "    'sex_by_age:__female:_15_to_17_years_',\n",
    "    'sex_by_age:__female:_18_and_19_years_',\n",
    "    'sex_by_age:__female:_20_years_',\n",
    "    'sex_by_age:__female:_21_years_',\n",
    "    'sex_by_age:__female:_22_to_24_years_',\n",
    "    'sex_by_age:__female:_25_to_29_years_',\n",
    "    'sex_by_age:__female:_30_to_34_years_',\n",
    "    'sex_by_age:__female:_35_to_39_years_',\n",
    "    'sex_by_age:__female:_40_to_44_years_',\n",
    "    'sex_by_age:__female:_45_to_49_years_',\n",
    "    'sex_by_age:__female:_50_to_54_years_',\n",
    "    'sex_by_age:__female:_55_to_59_years_',\n",
    "    'sex_by_age:__female:_60_and_61_years_',\n",
    "    'sex_by_age:__female:_62_to_64_years_',\n",
    "    'sex_by_age:__female:_65_and_66_years_',\n",
    "    'sex_by_age:__female:_67_to_69_years_',\n",
    "    'sex_by_age:__female:_70_to_74_years_',\n",
    "    'sex_by_age:__female:_75_to_79_years_',\n",
    "    'sex_by_age:__female:_80_to_84_years_',\n",
    "    'sex_by_age:__female:_85_years_and_over_',\n",
    "    'commute_over_60',\n",
    "    'full_time',\n",
    "    'part_time',\n",
    "    'high_rent_burden',\n",
    "    'extreme_rent_burden','2010 Census Population']\n",
    "X_numeric = mergedData[X_numeric_features]\n",
    "X_categorical_features = ['function', 'gender', 'race', 'highestdegree', 'category', 'insttype']\n",
    "X_categorical = mergedData[X_categorical_features]"
   ]
  },
  {
   "cell_type": "code",
   "execution_count": 122,
   "metadata": {
    "collapsed": false
   },
   "outputs": [
    {
     "data": {
      "image/png": "[encoded data removed]",
      "text/plain": [
       "<matplotlib.figure.Figure at 0x10ae77208>"
      ]
     },
     "metadata": {},
     "output_type": "display_data"
    }
   ],
   "source": [
    "#plt.plot(sal['instBudget'], sal['instSize'])\n",
    "plt.scatter(mergedData['instbudget'], mergedData['instsize'])\n",
    "plt.show()"
   ]
  },
  {
   "cell_type": "code",
   "execution_count": 123,
   "metadata": {
    "collapsed": false
   },
   "outputs": [],
   "source": [
    "# create dummy variables for each of the categorical features\n",
    "# DOC: http://pandas.pydata.org/pandas-docs/stable/generated/pandas.get_dummies.html\n",
    "\n",
    "# extract dummy variables for each!!!! sooooo nice!\n",
    "Function_dummies = pd.get_dummies(X_categorical['function'])\n",
    "gender_dummies = pd.get_dummies(X_categorical['gender'])\n",
    "race_dummies = pd.get_dummies(X_categorical['race'])\n",
    "highestDegree_dummies = pd.get_dummies(X_categorical['highestdegree'])\n",
    "Category_dummies = pd.get_dummies(X_categorical['category'])\n",
    "instType_dummies = pd.get_dummies(X_categorical['insttype'])\n",
    "\n",
    "X_dummy_features = pd.concat([Function_dummies, gender_dummies, race_dummies, highestDegree_dummies, Category_dummies, instType_dummies], axis=1)\n",
    "\n",
    "# convert to ndarray\n",
    "X_dummy_features = X_dummy_features.as_matrix()"
   ]
  },
  {
   "cell_type": "code",
   "execution_count": 124,
   "metadata": {
    "collapsed": false
   },
   "outputs": [],
   "source": [
    "# impute missing values in numerical features\n",
    "# DOC: http://scikit-learn.org/stable/modules/preprocessing.html\n",
    "\n",
    "from sklearn.preprocessing import Imputer\n",
    "imp = Imputer()\n",
    "imp.fit(X_numeric)\n",
    "X_numeric_imputed = imp.transform(X_numeric)"
   ]
  },
  {
   "cell_type": "code",
   "execution_count": 125,
   "metadata": {
    "collapsed": false
   },
   "outputs": [
    {
     "data": {
      "text/plain": [
       "(2185, 118)"
      ]
     },
     "execution_count": 125,
     "metadata": {},
     "output_type": "execute_result"
    }
   ],
   "source": [
    "X = np.concatenate((X_dummy_features, X_numeric_imputed), axis=1)\n",
    "X.shape"
   ]
  },
  {
   "cell_type": "code",
   "execution_count": 126,
   "metadata": {
    "collapsed": true
   },
   "outputs": [],
   "source": [
    "# y is salary\n",
    "y = mergedData.iloc[:, 7].values"
   ]
  },
  {
   "cell_type": "code",
   "execution_count": 127,
   "metadata": {
    "collapsed": false
   },
   "outputs": [],
   "source": [
    "# create training and test sets\n",
    "from sklearn.cross_validation import train_test_split\n",
    "\n",
    "X_train, X_test, y_train, y_test = train_test_split(X, y, test_size=0.3, random_state=0)"
   ]
  },
  {
   "cell_type": "code",
   "execution_count": 128,
   "metadata": {
    "collapsed": true
   },
   "outputs": [],
   "source": [
    "from sklearn.preprocessing import StandardScaler\n",
    "\n",
    "sc = StandardScaler()\n",
    "X_train_std = sc.fit_transform(X_train)\n",
    "X_test_std = sc.fit_transform(X_test)"
   ]
  },
  {
   "cell_type": "code",
   "execution_count": 129,
   "metadata": {
    "collapsed": false
   },
   "outputs": [
    {
     "name": "stdout",
     "output_type": "stream",
     "text": [
      "\n",
      "Eigenvalues \n",
      "[  4.08129236e+01   6.22955115e+00   4.43671492e+00   2.92422843e+00\n",
      "   2.52094936e+00   2.45840472e+00   2.15837205e+00   2.08491796e+00\n",
      "   1.90810649e+00   1.67773694e+00   1.58323033e+00   1.49840419e+00\n",
      "   1.43411886e+00   1.32007641e+00   1.28480627e+00   1.25626667e+00\n",
      "   1.23952662e+00   1.22636819e+00   1.15856436e+00   1.13316459e+00\n",
      "   1.12395011e+00   6.37040660e-01   7.01333180e-01   6.90341496e-01\n",
      "   5.97314464e-01   5.89475919e-01   7.56019954e-01   7.45444834e-01\n",
      "   1.09328001e+00   1.08280915e+00   8.40422444e-01   5.15160858e-01\n",
      "   8.47680150e-01   8.71988365e-01   1.07333234e+00   1.06706147e+00\n",
      "   4.91766967e-01   8.89801317e-01   1.05889075e+00   9.00864285e-01\n",
      "   9.20754274e-01   9.29378606e-01   1.04576868e+00   1.03905566e+00\n",
      "   9.45452739e-01   1.03487297e+00   1.02588945e+00   9.67326990e-01\n",
      "   9.83495785e-01   1.01518268e+00   9.90090422e-01   1.00017792e+00\n",
      "   4.35798855e-01   1.00892862e+00   1.00451960e+00   1.01184317e+00\n",
      "   3.92381026e-01   9.61791571e-01   3.53174321e-01   3.25983593e-01\n",
      "   3.08209421e-01   2.89952827e-01   2.70437868e-01   2.38161101e-01\n",
      "   2.52336058e-01   1.89813168e-01   1.81833337e-01   1.74924040e-01\n",
      "   1.61449940e-01   1.55005152e-01   1.29752916e-01   1.22881186e-01\n",
      "   1.02235884e-01   9.89015867e-02   8.46814091e-02   7.32310508e-02\n",
      "   6.86331980e-02   6.31979994e-02   6.28612849e-02   5.74725199e-02\n",
      "   5.57421207e-02   5.32121745e-02   5.01157514e-02   4.35255556e-02\n",
      "   4.43216662e-02   3.47373834e-02   3.39465688e-02   2.91499396e-02\n",
      "   2.70280191e-02   2.62863630e-02   2.45794570e-02   2.35911509e-02\n",
      "   2.23757235e-02   2.12528999e-02   2.86468540e-03   1.84440259e-02\n",
      "   1.71196818e-02   1.52656116e-02   3.44739523e-03   3.99595437e-03\n",
      "   4.42194735e-03   9.78692737e-03   1.17519948e-02   6.28265043e-03\n",
      "   1.13371659e-02   1.77385091e-02   7.92348589e-03   1.25341610e-02\n",
      "   1.32152013e-02   5.06878084e-03   7.38811398e-03   5.35440999e-03\n",
      "   6.70263613e-03   8.46728920e-03   1.51627574e-15  -1.48298282e-15\n",
      "  -8.92459710e-16   5.82452750e-16]\n",
      "(118,)\n"
     ]
    }
   ],
   "source": [
    "cov_mat = np.cov(X_train_std.T)\n",
    "eigen_vals, eigen_vecs = np.linalg.eig(cov_mat)\n",
    "\n",
    "print('\\nEigenvalues \\n%s' % eigen_vals)\n",
    "print(eigen_vals.shape)"
   ]
  },
  {
   "cell_type": "code",
   "execution_count": 130,
   "metadata": {
    "collapsed": true
   },
   "outputs": [],
   "source": [
    "np.savetxt('cov.csv', cov_mat, delimiter=',')"
   ]
  },
  {
   "cell_type": "code",
   "execution_count": 131,
   "metadata": {
    "collapsed": true
   },
   "outputs": [],
   "source": [
    "tot = sum(eigen_vals)\n",
    "var_exp = [(i / tot) for i in sorted(eigen_vals, reverse=True)]\n",
    "cum_var_exp = np.cumsum(var_exp)"
   ]
  },
  {
   "cell_type": "code",
   "execution_count": 132,
   "metadata": {
    "collapsed": false
   },
   "outputs": [
    {
     "data": {
      "image/png": "[encoded data removed]",
      "text/plain": [
       "<matplotlib.figure.Figure at 0x10aa6d5c0>"
      ]
     },
     "metadata": {},
     "output_type": "display_data"
    }
   ],
   "source": [
    "plt.bar(range(1, len(var_exp)+1), var_exp, alpha=0.5, align='center', label='individual explained variance')\n",
    "plt.step(range(1, len(var_exp)+1), cum_var_exp, where='mid', label='cumulative explained variance')\n",
    "plt.ylabel('Explained variance ratio')\n",
    "plt.xlabel('Principal components')\n",
    "plt.legend(loc='best')\n",
    "plt.tight_layout()\n",
    "# plt.savefig('./figures/pca1.png', dpi=300)\n",
    "plt.show()"
   ]
  },
  {
   "cell_type": "code",
   "execution_count": 133,
   "metadata": {
    "collapsed": false
   },
   "outputs": [
    {
     "name": "stdout",
     "output_type": "stream",
     "text": [
      "[ 0.34564603  0.05275828  0.03757469  0.02476539  0.02135001  0.02082031\n",
      "  0.01827933  0.01765724]\n",
      "8\n"
     ]
    }
   ],
   "source": [
    "# http://scikit-learn.org/stable/modules/generated/sklearn.decomposition.PCA.html\n",
    "from sklearn.decomposition import PCA\n",
    "pca = PCA(n_components=8)\n",
    "X_train_pca = pca.fit_transform(X_train_std)\n",
    "X_test_pca = pca.transform(X_test_std)\n",
    "print(pca.explained_variance_ratio_)\n",
    "print(len(pca.explained_variance_ratio_))"
   ]
  },
  {
   "cell_type": "code",
   "execution_count": 134,
   "metadata": {
    "collapsed": false
   },
   "outputs": [
    {
     "data": {
      "image/png": "[encoded data removed]",
      "text/plain": [
       "<matplotlib.figure.Figure at 0x10a8b68d0>"
      ]
     },
     "metadata": {},
     "output_type": "display_data"
    }
   ],
   "source": [
    "plt.bar(range(1, len(pca.explained_variance_ratio_)+1), pca.explained_variance_ratio_, alpha=0.5, align='center')\n",
    "plt.step(range(1, len(pca.explained_variance_ratio_)+1), np.cumsum(pca.explained_variance_ratio_), where='mid')\n",
    "plt.ylabel('Explained variance ratio')\n",
    "plt.xlabel('Principal components')\n",
    "plt.show()"
   ]
  },
  {
   "cell_type": "code",
   "execution_count": 135,
   "metadata": {
    "collapsed": true
   },
   "outputs": [],
   "source": [
    "# keep track of variance on test data, to graph\n",
    "var_to_graph = {}\n",
    "# bring residual sum of squares from regression1.ipynb\n",
    "var_to_graph['simpReg'] = 265376883.08"
   ]
  },
  {
   "cell_type": "code",
   "execution_count": 136,
   "metadata": {
    "collapsed": true
   },
   "outputs": [],
   "source": [
    "from sklearn import datasets, linear_model\n",
    "# DOC: http://scikit-learn.org/stable/modules/generated/sklearn.linear_model.LinearRegression.html"
   ]
  },
  {
   "cell_type": "code",
   "execution_count": 138,
   "metadata": {
    "collapsed": false
   },
   "outputs": [
    {
     "name": "stdout",
     "output_type": "stream",
     "text": [
      "Intercept: \n",
      " 30965.059893\n",
      "Coefficients: \n",
      " [ -2.66896978e+03  -1.33996426e+04  -1.65979193e+04  -1.81086920e+04\n",
      "  -1.26522373e+04  -5.31261232e+03  -1.69271155e+04  -1.91257966e+04\n",
      "  -1.61784237e+04  -1.73413563e+04  -1.24433480e+04  -1.06748683e+04\n",
      "  -1.89794505e+04  -2.12309331e+04  -1.49196676e+04  -2.00913728e+04\n",
      "  -1.59840097e+04  -2.00627244e+04  -1.22972148e+04  -1.49811805e+04\n",
      "  -1.02574124e+04  -9.58824078e+03  -1.63853879e+04  -1.48211563e+04\n",
      "  -1.71765221e+04  -1.59692865e+04  -1.78643334e+04  -1.87848828e+04\n",
      "   1.07363234e+03  -2.94583345e+02  -1.93252479e+03   2.23867499e+03\n",
      "  -2.63925176e+03   4.36145140e+02  -3.57007530e+03   5.25976604e+03\n",
      "  -1.11738361e+03   4.56444370e+03   9.53337587e+03   2.02530366e+04\n",
      "   1.35067186e+04   1.78483539e+03   1.86664623e+03  -1.86664623e+03\n",
      "   4.32732128e+03   1.77403294e+03   1.45894150e+03   6.64773415e+02\n",
      "  -1.23325817e+02   7.20805211e+00   2.38450406e+01   2.50280250e+02\n",
      "   1.85643214e+01   4.87484880e+02   1.85368116e+02   2.43250619e+03\n",
      "  -2.15163984e+03   2.82825774e+00  -8.32051310e+01  -6.51818132e+01\n",
      "   4.84435992e+00   9.26541358e-02   2.56997814e-04   1.48666212e-01\n",
      "   1.17728430e+00  -3.06154407e+00  -4.38259546e+00   7.61476549e+00\n",
      "   2.32439832e+00   4.66184964e-01   3.66578366e+00  -1.31896534e+00\n",
      "  -3.65445196e+00  -1.50227634e+00  -3.16934119e+00   8.61801283e+00\n",
      "  -3.95183316e+00  -2.75005782e+00   1.85737995e+00  -7.73038038e+00\n",
      "   1.25367553e+01  -1.59352840e+01  -1.03435201e+00  -2.24174639e+00\n",
      "  -3.21735668e+01  -1.15957894e+00   2.84632214e+01   1.96967562e+01\n",
      "   2.05444456e-01  -1.88200661e+01   1.33096882e+01  -7.67251818e+00\n",
      "   2.30332424e+01  -2.66148078e+00  -3.71695921e+00   1.24168691e+00\n",
      "   3.75728209e+00   5.81113411e+00  -8.47780436e+00  -8.88789860e+00\n",
      "   1.54266478e+00   1.09514071e+01  -2.03569720e+01   4.28464192e+00\n",
      "   3.56331581e+01   1.58602921e+01  -5.00281875e+00  -2.74465098e+01\n",
      "  -1.67349269e+00  -8.87727410e+00   7.92957410e+00  -9.55553308e+00\n",
      "   1.90998456e+02   4.77569397e+00  -4.77573827e+00  -8.96839839e+01\n",
      "   5.46858789e+00   6.93514531e-02]\n",
      "Residual sum of squares, training data: 81656322.07\n",
      "Residual sum of squares, test data: 95114115.57\n",
      "Variance score, training data: 0.77\n",
      "Variance score, test data: 0.68\n",
      "Distribution of prediction error on training data:\n"
     ]
    },
    {
     "data": {
      "image/png": "[encoded data removed]",
      "text/plain": [
       "<matplotlib.figure.Figure at 0x10e87eac8>"
      ]
     },
     "metadata": {},
     "output_type": "display_data"
    },
    {
     "name": "stdout",
     "output_type": "stream",
     "text": [
      "Distribution of prediction error on test data:\n"
     ]
    },
    {
     "data": {
      "image/png": "[encoded data removed]",
      "text/plain": [
       "<matplotlib.figure.Figure at 0x10d41b438>"
      ]
     },
     "metadata": {},
     "output_type": "display_data"
    }
   ],
   "source": [
    "# Create linear regression object\n",
    "regr = linear_model.LinearRegression()\n",
    "\n",
    "# Train the model using the training sets\n",
    "X_train_no_intercept = X_train\n",
    "X_train = X_train.reshape(-1, X_train.shape[1])\n",
    "regr.fit(X_train, y_train)\n",
    "\n",
    "# The intercept\n",
    "print('Intercept: \\n', regr.intercept_)\n",
    "# The coefficients\n",
    "print('Coefficients: \\n', regr.coef_)\n",
    "# The mean square error\n",
    "print(\"Residual sum of squares, training data: %.2f\"\n",
    "      % np.mean((regr.predict(X_train) - y_train) ** 2))\n",
    "print(\"Residual sum of squares, test data: %.2f\"\n",
    "      % np.mean((regr.predict(X_test) - y_test) ** 2))\n",
    "var_to_graph['multReg_linear'] = np.mean((regr.predict(X_test) - y_test) ** 2)\n",
    "# Explained variance score: 1 is perfect prediction\n",
    "print('Variance score, training data: %.2f' % regr.score(X_train, y_train))\n",
    "print('Variance score, test data: %.2f' % regr.score(X_test, y_test))\n",
    "#vector of prediction error\n",
    "print('Distribution of prediction error on training data:')\n",
    "predError = regr.predict(X_train) - y_train\n",
    "plt.hist(predError)\n",
    "plt.show()\n",
    "\n",
    "print('Distribution of prediction error on test data:')\n",
    "predError = regr.predict(X_test) - y_test\n",
    "plt.hist(predError)\n",
    "plt.show()"
   ]
  },
  {
   "cell_type": "code",
   "execution_count": 146,
   "metadata": {
    "collapsed": true
   },
   "outputs": [],
   "source": [
    "from sklearn.preprocessing import PolynomialFeatures\n",
    "# DOC: http://scikit-learn.org/stable/modules/preprocessing.html\n",
    "\n",
    "poly = PolynomialFeatures(2)\n",
    "X_poly = poly.fit_transform(X)"
   ]
  },
  {
   "cell_type": "code",
   "execution_count": 147,
   "metadata": {
    "collapsed": false
   },
   "outputs": [],
   "source": [
    "# create training and test sets\n",
    "from sklearn.cross_validation import train_test_split\n",
    "\n",
    "X_train, X_test, y_train, y_test = train_test_split(\n",
    "         X_poly, y, test_size=0.3, random_state=0)"
   ]
  },
  {
   "cell_type": "code",
   "execution_count": 149,
   "metadata": {
    "collapsed": false
   },
   "outputs": [
    {
     "name": "stdout",
     "output_type": "stream",
     "text": [
      "Intercept: \n",
      " 56622.5117695\n",
      "Coefficients: \n",
      " [  9.56367611e+02  -2.93934665e+04  -4.51546870e+04 ...,  -3.27026218e+01\n",
      "  -4.09111174e-03   6.18731859e-05]\n",
      "Residual sum of squares, training data: 0.00\n",
      "Residual sum of squares, test data: 1091516632311.28\n",
      "Variance score, training data: 1.00\n",
      "Variance score, test data: -3697.91\n",
      "Distribution of prediction error on training data:\n"
     ]
    },
    {
     "data": {
      "image/png": "[encoded data removed]",
      "text/plain": [
       "<matplotlib.figure.Figure at 0x125143198>"
      ]
     },
     "metadata": {},
     "output_type": "display_data"
    },
    {
     "name": "stdout",
     "output_type": "stream",
     "text": [
      "Distribution of prediction error on test data:\n"
     ]
    },
    {
     "data": {
      "image/png": "[encoded data removed]",
      "text/plain": [
       "<matplotlib.figure.Figure at 0x10ae92828>"
      ]
     },
     "metadata": {},
     "output_type": "display_data"
    }
   ],
   "source": [
    "## POLYNOMINAL \n",
    "# Create linear regression object\n",
    "poly = linear_model.LinearRegression(normalize=True)\n",
    "\n",
    "# Train the model using the training sets\n",
    "X_train_no_intercept = X_train\n",
    "X_train = X_train.reshape(-1, X_train.shape[1])\n",
    "poly.fit(X_train, y_train)\n",
    "\n",
    "# The intercept\n",
    "print('Intercept: \\n', poly.intercept_)\n",
    "# The coefficients\n",
    "print('Coefficients: \\n', poly.coef_)\n",
    "# The mean square error\n",
    "print(\"Residual sum of squares, training data: %.2f\"\n",
    "      % np.mean((poly.predict(X_train) - y_train) ** 2))\n",
    "print(\"Residual sum of squares, test data: %.2f\"\n",
    "      % np.mean((poly.predict(X_test) - y_test) ** 2))\n",
    "var_to_graph['multReg_poly'] = np.mean((poly.predict(X_test) - y_test) ** 2)\n",
    "# Explained variance score: 1 is perfect prediction\n",
    "print('Variance score, training data: %.2f' % poly.score(X_train, y_train))\n",
    "print('Variance score, test data: %.2f' % poly.score(X_test, y_test))\n",
    "#vector of prediction error\n",
    "print('Distribution of prediction error on training data:')\n",
    "predError = poly.predict(X_train) - y_train\n",
    "plt.hist(predError)\n",
    "plt.show()\n",
    "\n",
    "print('Distribution of prediction error on test data:')\n",
    "predError = poly.predict(X_test) - y_test\n",
    "plt.hist(predError)\n",
    "plt.show()"
   ]
  },
  {
   "cell_type": "code",
   "execution_count": null,
   "metadata": {
    "collapsed": true
   },
   "outputs": [],
   "source": []
  },
  {
   "cell_type": "code",
   "execution_count": 143,
   "metadata": {
    "collapsed": false
   },
   "outputs": [
    {
     "name": "stdout",
     "output_type": "stream",
     "text": [
      "Intercept: \n",
      " 21425.4580004\n",
      "Coefficients: \n",
      " [  9.64901867e+03  -5.70758332e+02  -3.74607805e+03  -4.96759712e+03\n",
      "   7.29593570e+00   7.25970953e+03  -4.26614202e+03  -5.71372930e+03\n",
      "  -3.30747919e+03  -2.64910539e+03   3.11533071e+02   1.88661949e+03\n",
      "  -6.04077457e+03  -7.79375529e+03  -2.09759033e+03  -4.70111627e+03\n",
      "  -2.70890484e+03  -7.32706567e+03   2.61608171e+02  -2.28592044e+03\n",
      "   1.26254305e+03   2.92351955e+03  -3.53683995e+03  -1.94095273e+03\n",
      "  -4.29094081e+03  -3.18588144e+03  -4.46988347e+03  -5.99102685e+03\n",
      "   2.40286950e+03   1.01348306e+03  -1.59082447e+03   2.45416326e+03\n",
      "  -1.95988164e+03   7.81941644e+02  -3.03625354e+03   4.55155447e+03\n",
      "  -5.94194620e+02   1.09276670e+03   5.94080331e+03   1.58429613e+04\n",
      "   9.93268924e+03  -1.61174131e+03   1.91201299e+03  -1.91201299e+03\n",
      "   2.64002070e+03  -2.62366498e+01   1.50065106e+03   6.67739611e+02\n",
      "  -1.27534925e+02   6.37293716e+00   2.18153059e+01   2.07345905e+02\n",
      "  -8.96539693e+00   5.15081993e+02   1.83411794e+02   2.66636092e+03\n",
      "  -2.30700947e+03  -6.21381796e+00  -7.90720077e+01  -7.35138544e+01\n",
      "   4.67625970e+00   1.96028381e-01   2.58134218e-04   1.47517745e-01\n",
      "   1.06261208e+00  -2.20289125e+00  -4.17642911e+00   6.18095959e+00\n",
      "   1.14855747e+00   9.17574022e-01   3.69160974e+00  -1.31388089e+00\n",
      "  -2.63645085e+00  -2.64578366e+00  -2.70533564e+00   6.27628520e+00\n",
      "  -5.15956809e+00  -2.06847830e+00   1.94888895e+00  -8.60113432e+00\n",
      "   1.10674803e+01  -1.53522926e+01   2.33065278e+00   1.40083611e-01\n",
      "  -3.31107941e+01  -1.36872932e+00   2.67415636e+01   2.19605106e+01\n",
      "   2.64267909e-01  -1.63564375e+01   1.04685282e+01  -8.44963740e+00\n",
      "   2.35613494e+01  -3.07467455e+00  -3.20745091e+00   6.93173266e-01\n",
      "   3.42920268e+00   6.19684707e+00  -8.42728416e+00  -7.18401951e+00\n",
      "   2.56656396e+00   1.37792779e+01  -1.92310187e+01   3.78763415e+00\n",
      "   3.34007677e+01   1.43171951e+01  -9.87389043e+00  -2.64903272e+01\n",
      "  -2.37383204e+00  -6.89961001e+00   7.87766956e+00  -8.24582733e+00\n",
      "   2.08886138e+02   2.09154784e-01  -2.09260616e-01  -8.43417704e+01\n",
      "   5.80782874e+00   7.64155238e-02]\n",
      "Residual sum of squares, training data: 82254041.25\n",
      "Residual sum of squares, test data: 94148204.69\n",
      "Variance score, training data: 0.77\n",
      "Variance score, test data: 0.68\n",
      "Distribution of prediction error on training data:\n"
     ]
    },
    {
     "data": {
      "image/png": "[encoded data removed]",
      "text/plain": [
       "<matplotlib.figure.Figure at 0x10315e828>"
      ]
     },
     "metadata": {},
     "output_type": "display_data"
    },
    {
     "name": "stdout",
     "output_type": "stream",
     "text": [
      "Distribution of prediction error on test data:\n"
     ]
    },
    {
     "data": {
      "image/png": "[encoded data removed]",
      "text/plain": [
       "<matplotlib.figure.Figure at 0x10ae6fe80>"
      ]
     },
     "metadata": {},
     "output_type": "display_data"
    }
   ],
   "source": [
    "## RIDGE REGRESSION\n",
    "# DOC: http://scikit-learn.org/stable/modules/generated/sklearn.linear_model.Ridge.html\n",
    "\n",
    "# create training and test sets\n",
    "from sklearn.cross_validation import train_test_split\n",
    "\n",
    "X_train, X_test, y_train, y_test = train_test_split(\n",
    "         X, y, test_size=0.3, random_state=0)\n",
    "\n",
    "# Create linear regression object\n",
    "regr = linear_model.Ridge()\n",
    "\n",
    "# Train the model using the training sets\n",
    "X_train_no_intercept = X_train\n",
    "X_train = X_train.reshape(-1, X_train.shape[1])\n",
    "regr.fit(X_train, y_train)\n",
    "\n",
    "# The intercept\n",
    "print('Intercept: \\n', regr.intercept_)\n",
    "# The coefficients\n",
    "print('Coefficients: \\n', regr.coef_)\n",
    "# The mean square error\n",
    "print(\"Residual sum of squares, training data: %.2f\"\n",
    "      % np.mean((regr.predict(X_train) - y_train) ** 2))\n",
    "print(\"Residual sum of squares, test data: %.2f\"\n",
    "      % np.mean((regr.predict(X_test) - y_test) ** 2))\n",
    "var_to_graph['multReg_ridge'] = np.mean((regr.predict(X_test) - y_test) ** 2)\n",
    "# Explained variance score: 1 is perfect prediction\n",
    "print('Variance score, training data: %.2f' % regr.score(X_train, y_train))\n",
    "print('Variance score, test data: %.2f' % regr.score(X_test, y_test))\n",
    "#vector of prediction error\n",
    "print('Distribution of prediction error on training data:')\n",
    "predError = regr.predict(X_train) - y_train\n",
    "plt.hist(predError)\n",
    "plt.show()\n",
    "\n",
    "print('Distribution of prediction error on test data:')\n",
    "predError = regr.predict(X_test) - y_test\n",
    "plt.hist(predError)\n",
    "plt.show()"
   ]
  },
  {
   "cell_type": "code",
   "execution_count": 145,
   "metadata": {
    "collapsed": false
   },
   "outputs": [
    {
     "name": "stdout",
     "output_type": "stream",
     "text": [
      "Intercept: \n",
      " 30617.5791547\n",
      "Residual sum of squares, training data: 108125051.68\n",
      "Residual sum of squares, test data: 101865712.32\n",
      "Variance score, training data: 0.70\n",
      "Variance score, test data: 0.65\n",
      "Distribution of prediction error on training data:\n"
     ]
    },
    {
     "data": {
      "image/png": "[encoded data removed]",
      "text/plain": [
       "<matplotlib.figure.Figure at 0x125143a58>"
      ]
     },
     "metadata": {},
     "output_type": "display_data"
    },
    {
     "name": "stdout",
     "output_type": "stream",
     "text": [
      "Distribution of prediction error on test data:\n"
     ]
    },
    {
     "data": {
      "image/png": "[encoded data removed]",
      "text/plain": [
       "<matplotlib.figure.Figure at 0x10e80b7b8>"
      ]
     },
     "metadata": {},
     "output_type": "display_data"
    }
   ],
   "source": [
    "## RIDGE REGRESSION with normalization\n",
    "# DOC: http://scikit-learn.org/stable/modules/generated/sklearn.linear_model.Ridge.html\n",
    "\n",
    "# create training and test sets\n",
    "from sklearn.cross_validation import train_test_split\n",
    "\n",
    "X_train, X_test, y_train, y_test = train_test_split(\n",
    "         X, y, test_size=0.3, random_state=0)\n",
    "\n",
    "# Create linear regression object\n",
    "regr = linear_model.Ridge(normalize=True)\n",
    "\n",
    "# Train the model using the training sets\n",
    "X_train_no_intercept = X_train\n",
    "X_train = X_train.reshape(-1, X_train.shape[1])\n",
    "regr.fit(X_train, y_train)\n",
    "\n",
    "# The intercept\n",
    "print('Intercept: \\n', regr.intercept_)\n",
    "# The coefficients\n",
    "#print('Coefficients: \\n', regr.coef_)\n",
    "# The mean square error\n",
    "print(\"Residual sum of squares, training data: %.2f\"\n",
    "      % np.mean((regr.predict(X_train) - y_train) ** 2))\n",
    "print(\"Residual sum of squares, test data: %.2f\"\n",
    "      % np.mean((regr.predict(X_test) - y_test) ** 2))\n",
    "var_to_graph['multReg_ridge'] = np.mean((regr.predict(X_test) - y_test) ** 2)\n",
    "# Explained variance score: 1 is perfect prediction\n",
    "print('Variance score, training data: %.2f' % regr.score(X_train, y_train))\n",
    "print('Variance score, test data: %.2f' % regr.score(X_test, y_test))\n",
    "#vector of prediction error\n",
    "print('Distribution of prediction error on training data:')\n",
    "predError = regr.predict(X_train) - y_train\n",
    "plt.hist(predError)\n",
    "plt.show()\n",
    "\n",
    "print('Distribution of prediction error on test data:')\n",
    "predError = regr.predict(X_test) - y_test\n",
    "plt.hist(predError)\n",
    "plt.show()"
   ]
  },
  {
   "cell_type": "code",
   "execution_count": 85,
   "metadata": {
    "collapsed": false
   },
   "outputs": [
    {
     "data": {
      "image/png": "[encoded data removed]",
      "text/plain": [
       "<matplotlib.figure.Figure at 0x10d6a7710>"
      ]
     },
     "metadata": {},
     "output_type": "display_data"
    }
   ],
   "source": [
    "# bar graph of dict with Residual Sum of Squares on test datasets\n",
    "\n",
    "#var_to_graph['multReg_poly'] = 0\n",
    "plt.bar(range(len(var_to_graph)), var_to_graph.values(), align='center')\n",
    "plt.xticks(range(len(var_to_graph)), var_to_graph.keys())\n",
    "\n",
    "plt.show()"
   ]
  },
  {
   "cell_type": "code",
   "execution_count": null,
   "metadata": {
    "collapsed": true
   },
   "outputs": [],
   "source": []
  },
  {
   "cell_type": "code",
   "execution_count": null,
   "metadata": {
    "collapsed": true
   },
   "outputs": [],
   "source": []
  },
  {
   "cell_type": "code",
   "execution_count": null,
   "metadata": {
    "collapsed": true
   },
   "outputs": [],
   "source": []
  }
 ],
 "metadata": {
  "kernelspec": {
   "display_name": "Python 3",
   "language": "python",
   "name": "python3"
  },
  "language_info": {
   "codemirror_mode": {
    "name": "ipython",
    "version": 3
   },
   "file_extension": ".py",
   "mimetype": "text/x-python",
   "name": "python",
   "nbconvert_exporter": "python",
   "pygments_lexer": "ipython3",
   "version": "3.5.1"
  }
 },
 "nbformat": 4,
 "nbformat_minor": 0
}
