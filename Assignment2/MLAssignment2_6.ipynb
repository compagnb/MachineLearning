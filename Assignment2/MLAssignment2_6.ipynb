{
 "cells": [
  {
   "cell_type": "code",
   "execution_count": 1,
   "metadata": {
    "collapsed": true
   },
   "outputs": [],
   "source": [
    "import numpy as np\n",
    "import pandas as pd\n",
    "import matplotlib.pyplot as plt\n",
    "%matplotlib inline"
   ]
  },
  {
   "cell_type": "code",
   "execution_count": 2,
   "metadata": {
    "collapsed": true
   },
   "outputs": [],
   "source": [
    "#Jaime's dataset\n",
    "salData = pd.read_csv('mergedSalaries.csv')"
   ]
  },
  {
   "cell_type": "code",
   "execution_count": 3,
   "metadata": {
    "collapsed": false
   },
   "outputs": [
    {
     "data": {
      "text/html": [
       "<div>\n",
       "<table border=\"1\" class=\"dataframe\">\n",
       "  <thead>\n",
       "    <tr style=\"text-align: right;\">\n",
       "      <th></th>\n",
       "      <th>Unnamed: 0</th>\n",
       "      <th>function</th>\n",
       "      <th>sup1</th>\n",
       "      <th>sup2</th>\n",
       "      <th>sup3</th>\n",
       "      <th>sup4</th>\n",
       "      <th>sup5</th>\n",
       "      <th>salary</th>\n",
       "      <th>gender</th>\n",
       "      <th>disabled</th>\n",
       "      <th>...</th>\n",
       "      <th>sex_by_age:__female:_67_to_69_years_</th>\n",
       "      <th>sex_by_age:__female:_70_to_74_years_</th>\n",
       "      <th>sex_by_age:__female:_75_to_79_years_</th>\n",
       "      <th>sex_by_age:__female:_80_to_84_years_</th>\n",
       "      <th>sex_by_age:__female:_85_years_and_over_</th>\n",
       "      <th>commute_over_60</th>\n",
       "      <th>full_time</th>\n",
       "      <th>part_time</th>\n",
       "      <th>high_rent_burden</th>\n",
       "      <th>extreme_rent_burden</th>\n",
       "    </tr>\n",
       "  </thead>\n",
       "  <tbody>\n",
       "    <tr>\n",
       "      <th>0</th>\n",
       "      <td>2211</td>\n",
       "      <td>position22</td>\n",
       "      <td>0</td>\n",
       "      <td>0</td>\n",
       "      <td>0</td>\n",
       "      <td>4</td>\n",
       "      <td>1</td>\n",
       "      <td>49088</td>\n",
       "      <td>Man</td>\n",
       "      <td>False</td>\n",
       "      <td>...</td>\n",
       "      <td>0</td>\n",
       "      <td>0</td>\n",
       "      <td>0</td>\n",
       "      <td>0</td>\n",
       "      <td>0</td>\n",
       "      <td>0</td>\n",
       "      <td>65.276074</td>\n",
       "      <td>34.723926</td>\n",
       "      <td>37.5</td>\n",
       "      <td>37.5</td>\n",
       "    </tr>\n",
       "    <tr>\n",
       "      <th>1</th>\n",
       "      <td>2212</td>\n",
       "      <td>position15</td>\n",
       "      <td>0</td>\n",
       "      <td>0</td>\n",
       "      <td>0</td>\n",
       "      <td>0</td>\n",
       "      <td>0</td>\n",
       "      <td>48131</td>\n",
       "      <td>Man</td>\n",
       "      <td>True</td>\n",
       "      <td>...</td>\n",
       "      <td>0</td>\n",
       "      <td>0</td>\n",
       "      <td>0</td>\n",
       "      <td>0</td>\n",
       "      <td>0</td>\n",
       "      <td>0</td>\n",
       "      <td>65.276074</td>\n",
       "      <td>34.723926</td>\n",
       "      <td>37.5</td>\n",
       "      <td>37.5</td>\n",
       "    </tr>\n",
       "    <tr>\n",
       "      <th>2</th>\n",
       "      <td>2216</td>\n",
       "      <td>position20</td>\n",
       "      <td>1</td>\n",
       "      <td>0</td>\n",
       "      <td>1</td>\n",
       "      <td>6</td>\n",
       "      <td>1</td>\n",
       "      <td>51625</td>\n",
       "      <td>Man</td>\n",
       "      <td>False</td>\n",
       "      <td>...</td>\n",
       "      <td>0</td>\n",
       "      <td>0</td>\n",
       "      <td>0</td>\n",
       "      <td>0</td>\n",
       "      <td>0</td>\n",
       "      <td>0</td>\n",
       "      <td>65.276074</td>\n",
       "      <td>34.723926</td>\n",
       "      <td>37.5</td>\n",
       "      <td>37.5</td>\n",
       "    </tr>\n",
       "    <tr>\n",
       "      <th>3</th>\n",
       "      <td>2217</td>\n",
       "      <td>position6</td>\n",
       "      <td>0</td>\n",
       "      <td>0</td>\n",
       "      <td>1</td>\n",
       "      <td>30</td>\n",
       "      <td>5</td>\n",
       "      <td>54225</td>\n",
       "      <td>Woman</td>\n",
       "      <td>False</td>\n",
       "      <td>...</td>\n",
       "      <td>0</td>\n",
       "      <td>0</td>\n",
       "      <td>0</td>\n",
       "      <td>0</td>\n",
       "      <td>0</td>\n",
       "      <td>0</td>\n",
       "      <td>65.276074</td>\n",
       "      <td>34.723926</td>\n",
       "      <td>37.5</td>\n",
       "      <td>37.5</td>\n",
       "    </tr>\n",
       "    <tr>\n",
       "      <th>4</th>\n",
       "      <td>2218</td>\n",
       "      <td>position10</td>\n",
       "      <td>0</td>\n",
       "      <td>0</td>\n",
       "      <td>0</td>\n",
       "      <td>7</td>\n",
       "      <td>0</td>\n",
       "      <td>67495</td>\n",
       "      <td>Woman</td>\n",
       "      <td>False</td>\n",
       "      <td>...</td>\n",
       "      <td>0</td>\n",
       "      <td>0</td>\n",
       "      <td>0</td>\n",
       "      <td>0</td>\n",
       "      <td>0</td>\n",
       "      <td>0</td>\n",
       "      <td>65.276074</td>\n",
       "      <td>34.723926</td>\n",
       "      <td>37.5</td>\n",
       "      <td>37.5</td>\n",
       "    </tr>\n",
       "  </tbody>\n",
       "</table>\n",
       "<p>5 rows × 124 columns</p>\n",
       "</div>"
      ],
      "text/plain": [
       "   Unnamed: 0    function  sup1  sup2  sup3  sup4  sup5  salary gender  \\\n",
       "0        2211  position22     0     0     0     4     1   49088    Man   \n",
       "1        2212  position15     0     0     0     0     0   48131    Man   \n",
       "2        2216  position20     1     0     1     6     1   51625    Man   \n",
       "3        2217   position6     0     0     1    30     5   54225  Woman   \n",
       "4        2218  position10     0     0     0     7     0   67495  Woman   \n",
       "\n",
       "  disabled         ...          sex_by_age:__female:_67_to_69_years_  \\\n",
       "0    False         ...                                             0   \n",
       "1     True         ...                                             0   \n",
       "2    False         ...                                             0   \n",
       "3    False         ...                                             0   \n",
       "4    False         ...                                             0   \n",
       "\n",
       "   sex_by_age:__female:_70_to_74_years_  sex_by_age:__female:_75_to_79_years_  \\\n",
       "0                                     0                                     0   \n",
       "1                                     0                                     0   \n",
       "2                                     0                                     0   \n",
       "3                                     0                                     0   \n",
       "4                                     0                                     0   \n",
       "\n",
       "   sex_by_age:__female:_80_to_84_years_  \\\n",
       "0                                     0   \n",
       "1                                     0   \n",
       "2                                     0   \n",
       "3                                     0   \n",
       "4                                     0   \n",
       "\n",
       "  sex_by_age:__female:_85_years_and_over_ commute_over_60  full_time  \\\n",
       "0                                       0               0  65.276074   \n",
       "1                                       0               0  65.276074   \n",
       "2                                       0               0  65.276074   \n",
       "3                                       0               0  65.276074   \n",
       "4                                       0               0  65.276074   \n",
       "\n",
       "   part_time  high_rent_burden  extreme_rent_burden  \n",
       "0  34.723926              37.5                 37.5  \n",
       "1  34.723926              37.5                 37.5  \n",
       "2  34.723926              37.5                 37.5  \n",
       "3  34.723926              37.5                 37.5  \n",
       "4  34.723926              37.5                 37.5  \n",
       "\n",
       "[5 rows x 124 columns]"
      ]
     },
     "execution_count": 3,
     "metadata": {},
     "output_type": "execute_result"
    }
   ],
   "source": [
    "salData.head(5)"
   ]
  },
  {
   "cell_type": "code",
   "execution_count": 4,
   "metadata": {
    "collapsed": false
   },
   "outputs": [
    {
     "data": {
      "text/plain": [
       "Unnamed: 0                                    1110.500000\n",
       "sup1                                             1.431593\n",
       "sup2                                             0.763726\n",
       "sup3                                             0.624212\n",
       "sup4                                            49.639514\n",
       "sup5                                             3.945995\n",
       "salary                                       48756.163901\n",
       "disabled                                         0.013051\n",
       "yearsinposition                                  5.689307\n",
       "yearsinprofession                                9.327103\n",
       "age                                             38.260094\n",
       "cred1                                            0.069307\n",
       "cred2                                            0.031503\n",
       "inst1                                           16.674617\n",
       "inst2                                            6.648965\n",
       "inst3                                            3.680468\n",
       "inst4                                          336.729523\n",
       "inst5                                           40.371737\n",
       "instbudget                                 4826742.328460\n",
       "zip                                          56712.063006\n",
       "instsize                                     25194.286552\n",
       "b19013_001                                   48670.322905\n",
       "no_male_hs_p                                     7.880182\n",
       "no_female_hs_p                                   8.354468\n",
       "at_least_hs_male_p                              92.119818\n",
       "at_least_hs_female_p                            91.645532\n",
       "at_least_bach_male_p                            47.259724\n",
       "at_least_bach_female_p                          48.690321\n",
       "male_unemployment                                6.188552\n",
       "female_unemployment                              6.154348\n",
       "                                                ...      \n",
       "sex_by_age:__male:_85_years_and_over_           92.784627\n",
       "sex_by_age:__female:_                        10111.229833\n",
       "sex_by_age:__female:_under_5_years_            477.404871\n",
       "sex_by_age:__female:_5_to_9_years_             428.936834\n",
       "sex_by_age:__female:_10_to_14_years_           411.923896\n",
       "sex_by_age:__female:_15_to_17_years_           294.162861\n",
       "sex_by_age:__female:_18_and_19_years_         1437.153729\n",
       "sex_by_age:__female:_20_years_                 549.543379\n",
       "sex_by_age:__female:_21_years_                 476.490107\n",
       "sex_by_age:__female:_22_to_24_years_           718.789954\n",
       "sex_by_age:__female:_25_to_29_years_           743.124810\n",
       "sex_by_age:__female:_30_to_34_years_           541.089802\n",
       "sex_by_age:__female:_35_to_39_years_           505.652207\n",
       "sex_by_age:__female:_40_to_44_years_           501.490107\n",
       "sex_by_age:__female:_45_to_49_years_           510.817352\n",
       "sex_by_age:__female:_50_to_54_years_           536.961187\n",
       "sex_by_age:__female:_55_to_59_years_           491.843988\n",
       "sex_by_age:__female:_60_and_61_years_          188.231355\n",
       "sex_by_age:__female:_62_to_64_years_           224.789193\n",
       "sex_by_age:__female:_65_and_66_years_          125.289954\n",
       "sex_by_age:__female:_67_to_69_years_           154.544901\n",
       "sex_by_age:__female:_70_to_74_years_           228.536530\n",
       "sex_by_age:__female:_75_to_79_years_           189.363014\n",
       "sex_by_age:__female:_80_to_84_years_           171.121766\n",
       "sex_by_age:__female:_85_years_and_over_        203.968037\n",
       "commute_over_60                                  4.083454\n",
       "full_time                                       46.706917\n",
       "part_time                                       53.293083\n",
       "high_rent_burden                                56.853816\n",
       "extreme_rent_burden                             37.304541\n",
       "dtype: float64"
      ]
     },
     "execution_count": 4,
     "metadata": {},
     "output_type": "execute_result"
    }
   ],
   "source": [
    "salData.mean()"
   ]
  },
  {
   "cell_type": "code",
   "execution_count": 5,
   "metadata": {
    "collapsed": false
   },
   "outputs": [
    {
     "data": {
      "text/html": [
       "<div>\n",
       "<table border=\"1\" class=\"dataframe\">\n",
       "  <thead>\n",
       "    <tr style=\"text-align: right;\">\n",
       "      <th></th>\n",
       "      <th>Zip Code Pop</th>\n",
       "      <th>2010 Census Population</th>\n",
       "      <th>zip</th>\n",
       "    </tr>\n",
       "  </thead>\n",
       "  <tbody>\n",
       "    <tr>\n",
       "      <th>0</th>\n",
       "      <td>1001</td>\n",
       "      <td>16769</td>\n",
       "      <td>1001</td>\n",
       "    </tr>\n",
       "    <tr>\n",
       "      <th>1</th>\n",
       "      <td>1002</td>\n",
       "      <td>29049</td>\n",
       "      <td>1002</td>\n",
       "    </tr>\n",
       "    <tr>\n",
       "      <th>2</th>\n",
       "      <td>1003</td>\n",
       "      <td>10372</td>\n",
       "      <td>1003</td>\n",
       "    </tr>\n",
       "    <tr>\n",
       "      <th>3</th>\n",
       "      <td>1005</td>\n",
       "      <td>5079</td>\n",
       "      <td>1005</td>\n",
       "    </tr>\n",
       "    <tr>\n",
       "      <th>4</th>\n",
       "      <td>1007</td>\n",
       "      <td>14649</td>\n",
       "      <td>1007</td>\n",
       "    </tr>\n",
       "  </tbody>\n",
       "</table>\n",
       "</div>"
      ],
      "text/plain": [
       "   Zip Code Pop  2010 Census Population   zip\n",
       "0          1001                   16769  1001\n",
       "1          1002                   29049  1002\n",
       "2          1003                   10372  1003\n",
       "3          1005                    5079  1005\n",
       "4          1007                   14649  1007"
      ]
     },
     "execution_count": 5,
     "metadata": {},
     "output_type": "execute_result"
    }
   ],
   "source": [
    "popData = pd.read_csv('population.csv')\n",
    "popData['zip'] = popData['Zip Code Pop']\n",
    "popData.head()"
   ]
  },
  {
   "cell_type": "code",
   "execution_count": 6,
   "metadata": {
    "collapsed": true
   },
   "outputs": [],
   "source": [
    "# eliminate rows with missing Y values (NaN)\n",
    "salData['missingSalary'] = pd.isnull(salData['salary'])\n",
    "salData2 = salData[(salData.missingSalary == False)]"
   ]
  },
  {
   "cell_type": "code",
   "execution_count": 7,
   "metadata": {
    "collapsed": false
   },
   "outputs": [
    {
     "data": {
      "text/html": [
       "<div>\n",
       "<table border=\"1\" class=\"dataframe\">\n",
       "  <thead>\n",
       "    <tr style=\"text-align: right;\">\n",
       "      <th></th>\n",
       "      <th>Unnamed: 0</th>\n",
       "      <th>function</th>\n",
       "      <th>sup1</th>\n",
       "      <th>sup2</th>\n",
       "      <th>sup3</th>\n",
       "      <th>sup4</th>\n",
       "      <th>sup5</th>\n",
       "      <th>salary</th>\n",
       "      <th>gender</th>\n",
       "      <th>disabled</th>\n",
       "      <th>...</th>\n",
       "      <th>sex_by_age:__female:_70_to_74_years_</th>\n",
       "      <th>sex_by_age:__female:_75_to_79_years_</th>\n",
       "      <th>sex_by_age:__female:_80_to_84_years_</th>\n",
       "      <th>sex_by_age:__female:_85_years_and_over_</th>\n",
       "      <th>commute_over_60</th>\n",
       "      <th>full_time</th>\n",
       "      <th>part_time</th>\n",
       "      <th>high_rent_burden</th>\n",
       "      <th>extreme_rent_burden</th>\n",
       "      <th>missingSalary</th>\n",
       "    </tr>\n",
       "  </thead>\n",
       "  <tbody>\n",
       "    <tr>\n",
       "      <th>0</th>\n",
       "      <td>2211</td>\n",
       "      <td>position22</td>\n",
       "      <td>0</td>\n",
       "      <td>0</td>\n",
       "      <td>0</td>\n",
       "      <td>4</td>\n",
       "      <td>1</td>\n",
       "      <td>49088</td>\n",
       "      <td>Man</td>\n",
       "      <td>False</td>\n",
       "      <td>...</td>\n",
       "      <td>0</td>\n",
       "      <td>0</td>\n",
       "      <td>0</td>\n",
       "      <td>0</td>\n",
       "      <td>0</td>\n",
       "      <td>65.276074</td>\n",
       "      <td>34.723926</td>\n",
       "      <td>37.5</td>\n",
       "      <td>37.5</td>\n",
       "      <td>False</td>\n",
       "    </tr>\n",
       "    <tr>\n",
       "      <th>1</th>\n",
       "      <td>2212</td>\n",
       "      <td>position15</td>\n",
       "      <td>0</td>\n",
       "      <td>0</td>\n",
       "      <td>0</td>\n",
       "      <td>0</td>\n",
       "      <td>0</td>\n",
       "      <td>48131</td>\n",
       "      <td>Man</td>\n",
       "      <td>True</td>\n",
       "      <td>...</td>\n",
       "      <td>0</td>\n",
       "      <td>0</td>\n",
       "      <td>0</td>\n",
       "      <td>0</td>\n",
       "      <td>0</td>\n",
       "      <td>65.276074</td>\n",
       "      <td>34.723926</td>\n",
       "      <td>37.5</td>\n",
       "      <td>37.5</td>\n",
       "      <td>False</td>\n",
       "    </tr>\n",
       "    <tr>\n",
       "      <th>2</th>\n",
       "      <td>2216</td>\n",
       "      <td>position20</td>\n",
       "      <td>1</td>\n",
       "      <td>0</td>\n",
       "      <td>1</td>\n",
       "      <td>6</td>\n",
       "      <td>1</td>\n",
       "      <td>51625</td>\n",
       "      <td>Man</td>\n",
       "      <td>False</td>\n",
       "      <td>...</td>\n",
       "      <td>0</td>\n",
       "      <td>0</td>\n",
       "      <td>0</td>\n",
       "      <td>0</td>\n",
       "      <td>0</td>\n",
       "      <td>65.276074</td>\n",
       "      <td>34.723926</td>\n",
       "      <td>37.5</td>\n",
       "      <td>37.5</td>\n",
       "      <td>False</td>\n",
       "    </tr>\n",
       "    <tr>\n",
       "      <th>3</th>\n",
       "      <td>2217</td>\n",
       "      <td>position6</td>\n",
       "      <td>0</td>\n",
       "      <td>0</td>\n",
       "      <td>1</td>\n",
       "      <td>30</td>\n",
       "      <td>5</td>\n",
       "      <td>54225</td>\n",
       "      <td>Woman</td>\n",
       "      <td>False</td>\n",
       "      <td>...</td>\n",
       "      <td>0</td>\n",
       "      <td>0</td>\n",
       "      <td>0</td>\n",
       "      <td>0</td>\n",
       "      <td>0</td>\n",
       "      <td>65.276074</td>\n",
       "      <td>34.723926</td>\n",
       "      <td>37.5</td>\n",
       "      <td>37.5</td>\n",
       "      <td>False</td>\n",
       "    </tr>\n",
       "    <tr>\n",
       "      <th>4</th>\n",
       "      <td>2218</td>\n",
       "      <td>position10</td>\n",
       "      <td>0</td>\n",
       "      <td>0</td>\n",
       "      <td>0</td>\n",
       "      <td>7</td>\n",
       "      <td>0</td>\n",
       "      <td>67495</td>\n",
       "      <td>Woman</td>\n",
       "      <td>False</td>\n",
       "      <td>...</td>\n",
       "      <td>0</td>\n",
       "      <td>0</td>\n",
       "      <td>0</td>\n",
       "      <td>0</td>\n",
       "      <td>0</td>\n",
       "      <td>65.276074</td>\n",
       "      <td>34.723926</td>\n",
       "      <td>37.5</td>\n",
       "      <td>37.5</td>\n",
       "      <td>False</td>\n",
       "    </tr>\n",
       "  </tbody>\n",
       "</table>\n",
       "<p>5 rows × 125 columns</p>\n",
       "</div>"
      ],
      "text/plain": [
       "   Unnamed: 0    function  sup1  sup2  sup3  sup4  sup5  salary gender  \\\n",
       "0        2211  position22     0     0     0     4     1   49088    Man   \n",
       "1        2212  position15     0     0     0     0     0   48131    Man   \n",
       "2        2216  position20     1     0     1     6     1   51625    Man   \n",
       "3        2217   position6     0     0     1    30     5   54225  Woman   \n",
       "4        2218  position10     0     0     0     7     0   67495  Woman   \n",
       "\n",
       "  disabled      ...       sex_by_age:__female:_70_to_74_years_  \\\n",
       "0    False      ...                                          0   \n",
       "1     True      ...                                          0   \n",
       "2    False      ...                                          0   \n",
       "3    False      ...                                          0   \n",
       "4    False      ...                                          0   \n",
       "\n",
       "   sex_by_age:__female:_75_to_79_years_  sex_by_age:__female:_80_to_84_years_  \\\n",
       "0                                     0                                     0   \n",
       "1                                     0                                     0   \n",
       "2                                     0                                     0   \n",
       "3                                     0                                     0   \n",
       "4                                     0                                     0   \n",
       "\n",
       "   sex_by_age:__female:_85_years_and_over_ commute_over_60  full_time  \\\n",
       "0                                        0               0  65.276074   \n",
       "1                                        0               0  65.276074   \n",
       "2                                        0               0  65.276074   \n",
       "3                                        0               0  65.276074   \n",
       "4                                        0               0  65.276074   \n",
       "\n",
       "   part_time  high_rent_burden  extreme_rent_burden  missingSalary  \n",
       "0  34.723926              37.5                 37.5          False  \n",
       "1  34.723926              37.5                 37.5          False  \n",
       "2  34.723926              37.5                 37.5          False  \n",
       "3  34.723926              37.5                 37.5          False  \n",
       "4  34.723926              37.5                 37.5          False  \n",
       "\n",
       "[5 rows x 125 columns]"
      ]
     },
     "execution_count": 7,
     "metadata": {},
     "output_type": "execute_result"
    }
   ],
   "source": [
    "salData2.head()"
   ]
  },
  {
   "cell_type": "code",
   "execution_count": 8,
   "metadata": {
    "collapsed": false
   },
   "outputs": [],
   "source": [
    "mergedData = pd.merge(salData2, popData, how='left', on = 'zip')"
   ]
  },
  {
   "cell_type": "code",
   "execution_count": 9,
   "metadata": {
    "collapsed": false
   },
   "outputs": [
    {
     "data": {
      "text/plain": [
       "['Unnamed: 0',\n",
       " 'function',\n",
       " 'sup1',\n",
       " 'sup2',\n",
       " 'sup3',\n",
       " 'sup4',\n",
       " 'sup5',\n",
       " 'salary',\n",
       " 'gender',\n",
       " 'disabled',\n",
       " 'race',\n",
       " 'yearsinposition',\n",
       " 'yearsinprofession',\n",
       " 'age',\n",
       " 'cred1',\n",
       " 'cred2',\n",
       " 'highestdegree',\n",
       " 'inst1',\n",
       " 'inst2',\n",
       " 'inst3',\n",
       " 'inst4',\n",
       " 'inst5',\n",
       " 'instbudget',\n",
       " 'city',\n",
       " 'state',\n",
       " 'zip',\n",
       " 'country',\n",
       " 'category',\n",
       " 'instsize',\n",
       " 'insttype',\n",
       " 'median',\n",
       " 'mean',\n",
       " 'pop',\n",
       " 'b19013_001',\n",
       " 'no_male_hs_p',\n",
       " 'no_female_hs_p',\n",
       " 'at_least_hs_male_p',\n",
       " 'at_least_hs_female_p',\n",
       " 'at_least_bach_male_p',\n",
       " 'at_least_bach_female_p',\n",
       " 'male_unemployment',\n",
       " 'female_unemployment',\n",
       " 'snap',\n",
       " 'renter',\n",
       " 'median_rent',\n",
       " 'foreign_born',\n",
       " 'value_for_owner-occupied_housing_units:__total:_',\n",
       " 'value_for_owner-occupied_housing_units:__less_than_$10,000_',\n",
       " 'value_for_owner-occupied_housing_units:__$10,000_to_$14,999_',\n",
       " 'value_for_owner-occupied_housing_units:__$15,000_to_$19,999_',\n",
       " 'value_for_owner-occupied_housing_units:__$20,000_to_$24,999_',\n",
       " 'value_for_owner-occupied_housing_units:__$25,000_to_$29,999_',\n",
       " 'value_for_owner-occupied_housing_units:__$30,000_to_$34,999_',\n",
       " 'value_for_owner-occupied_housing_units:__$35,000_to_$39,999_',\n",
       " 'value_for_owner-occupied_housing_units:__$40,000_to_$49,999_',\n",
       " 'value_for_owner-occupied_housing_units:__$50,000_to_$59,999_',\n",
       " 'value_for_owner-occupied_housing_units:__$60,000_to_$69,999_',\n",
       " 'value_for_owner-occupied_housing_units:__$70,000_to_$79,999_',\n",
       " 'value_for_owner-occupied_housing_units:__$80,000_to_$89,999_',\n",
       " 'value_for_owner-occupied_housing_units:__$90,000_to_$99,999_',\n",
       " 'value_for_owner-occupied_housing_units:__$100,000_to_$124,999_',\n",
       " 'value_for_owner-occupied_housing_units:__$125,000_to_$149,999_',\n",
       " 'value_for_owner-occupied_housing_units:__$150,000_to_$174,999_',\n",
       " 'value_for_owner-occupied_housing_units:__$175,000_to_$199,999_',\n",
       " 'value_for_owner-occupied_housing_units:__$200,000_to_$249,999_',\n",
       " 'value_for_owner-occupied_housing_units:__$250,000_to_$299,999_',\n",
       " 'value_for_owner-occupied_housing_units:__$300,000_to_$399,999_',\n",
       " 'value_for_owner-occupied_housing_units:__$400,000_to_$499,999_',\n",
       " 'value_for_owner-occupied_housing_units:__$500,000_to_$749,999_',\n",
       " 'value_for_owner-occupied_housing_units:__$750,000_to_$999,999_',\n",
       " 'value_for_owner-occupied_housing_units:__$1,000,000_or_more_',\n",
       " 'sex_by_age:__male:_',\n",
       " 'sex_by_age:__male:_under_5_years_',\n",
       " 'sex_by_age:__male:_5_to_9_years_',\n",
       " 'sex_by_age:__male:_10_to_14_years_',\n",
       " 'sex_by_age:__male:_15_to_17_years_',\n",
       " 'sex_by_age:__male:_18_and_19_years_',\n",
       " 'sex_by_age:__male:_20_years_',\n",
       " 'sex_by_age:__male:_21_years_',\n",
       " 'sex_by_age:__male:_22_to_24_years_',\n",
       " 'sex_by_age:__male:_25_to_29_years_',\n",
       " 'sex_by_age:__male:_30_to_34_years_',\n",
       " 'sex_by_age:__male:_35_to_39_years_',\n",
       " 'sex_by_age:__male:_40_to_44_years_',\n",
       " 'sex_by_age:__male:_45_to_49_years_',\n",
       " 'sex_by_age:__male:_50_to_54_years_',\n",
       " 'sex_by_age:__male:_55_to_59_years_',\n",
       " 'sex_by_age:__male:_60_and_61_years_',\n",
       " 'sex_by_age:__male:_62_to_64_years_',\n",
       " 'sex_by_age:__male:_65_and_66_years_',\n",
       " 'sex_by_age:__male:_67_to_69_years_',\n",
       " 'sex_by_age:__male:_70_to_74_years_',\n",
       " 'sex_by_age:__male:_75_to_79_years_',\n",
       " 'sex_by_age:__male:_80_to_84_years_',\n",
       " 'sex_by_age:__male:_85_years_and_over_',\n",
       " 'sex_by_age:__female:_',\n",
       " 'sex_by_age:__female:_under_5_years_',\n",
       " 'sex_by_age:__female:_5_to_9_years_',\n",
       " 'sex_by_age:__female:_10_to_14_years_',\n",
       " 'sex_by_age:__female:_15_to_17_years_',\n",
       " 'sex_by_age:__female:_18_and_19_years_',\n",
       " 'sex_by_age:__female:_20_years_',\n",
       " 'sex_by_age:__female:_21_years_',\n",
       " 'sex_by_age:__female:_22_to_24_years_',\n",
       " 'sex_by_age:__female:_25_to_29_years_',\n",
       " 'sex_by_age:__female:_30_to_34_years_',\n",
       " 'sex_by_age:__female:_35_to_39_years_',\n",
       " 'sex_by_age:__female:_40_to_44_years_',\n",
       " 'sex_by_age:__female:_45_to_49_years_',\n",
       " 'sex_by_age:__female:_50_to_54_years_',\n",
       " 'sex_by_age:__female:_55_to_59_years_',\n",
       " 'sex_by_age:__female:_60_and_61_years_',\n",
       " 'sex_by_age:__female:_62_to_64_years_',\n",
       " 'sex_by_age:__female:_65_and_66_years_',\n",
       " 'sex_by_age:__female:_67_to_69_years_',\n",
       " 'sex_by_age:__female:_70_to_74_years_',\n",
       " 'sex_by_age:__female:_75_to_79_years_',\n",
       " 'sex_by_age:__female:_80_to_84_years_',\n",
       " 'sex_by_age:__female:_85_years_and_over_',\n",
       " 'commute_over_60',\n",
       " 'full_time',\n",
       " 'part_time',\n",
       " 'high_rent_burden',\n",
       " 'extreme_rent_burden',\n",
       " 'missingSalary',\n",
       " 'Zip Code Pop',\n",
       " '2010 Census Population']"
      ]
     },
     "execution_count": 9,
     "metadata": {},
     "output_type": "execute_result"
    }
   ],
   "source": [
    "list(mergedData.columns.values)"
   ]
  },
  {
   "cell_type": "code",
   "execution_count": 10,
   "metadata": {
    "collapsed": false
   },
   "outputs": [],
   "source": [
    "# list of X vars to include\n",
    "#put features in a list to deal with them programatically\n",
    "X_numeric_features = [\n",
    "#     'sup1', \n",
    "#     'sup2', \n",
    "#     'sup3', \n",
    "#     'sup4', \n",
    "#     'sup5', \n",
    "    'disabled', \n",
    "    'yearsinposition', \n",
    "    'yearsinprofession', \n",
    "    'age', \n",
    "    'cred1', \n",
    "    'cred2', \n",
    "    'inst1', \n",
    "    'inst2', \n",
    "    'inst3', \n",
    "    'inst4', \n",
    "    'inst5',\n",
    "    'instbudget', \n",
    "    'instsize',\n",
    "    'sex_by_age:__male:_',\n",
    "    'sex_by_age:__male:_under_5_years_',\n",
    "    'sex_by_age:__male:_5_to_9_years_',\n",
    "    'sex_by_age:__male:_10_to_14_years_',\n",
    "    'sex_by_age:__male:_15_to_17_years_',\n",
    "    'sex_by_age:__male:_18_and_19_years_',\n",
    "    'sex_by_age:__male:_20_years_',\n",
    "    'sex_by_age:__male:_21_years_',\n",
    "    'sex_by_age:__male:_22_to_24_years_',\n",
    "    'sex_by_age:__male:_25_to_29_years_',\n",
    "    'sex_by_age:__male:_30_to_34_years_',\n",
    "    'sex_by_age:__male:_35_to_39_years_',\n",
    "    'sex_by_age:__male:_40_to_44_years_',\n",
    "    'sex_by_age:__male:_45_to_49_years_',\n",
    "    'sex_by_age:__male:_50_to_54_years_',\n",
    "    'sex_by_age:__male:_55_to_59_years_',\n",
    "    'sex_by_age:__male:_60_and_61_years_',\n",
    "    'sex_by_age:__male:_62_to_64_years_',\n",
    "    'sex_by_age:__male:_65_and_66_years_',\n",
    "    'sex_by_age:__male:_67_to_69_years_',\n",
    "    'sex_by_age:__male:_70_to_74_years_',\n",
    "    'sex_by_age:__male:_75_to_79_years_',\n",
    "    'sex_by_age:__male:_80_to_84_years_',\n",
    "    'sex_by_age:__male:_85_years_and_over_',\n",
    "    'sex_by_age:__female:_',\n",
    "    'sex_by_age:__female:_under_5_years_',\n",
    "    'sex_by_age:__female:_5_to_9_years_',\n",
    "    'sex_by_age:__female:_10_to_14_years_',\n",
    "    'sex_by_age:__female:_15_to_17_years_',\n",
    "    'sex_by_age:__female:_18_and_19_years_',\n",
    "    'sex_by_age:__female:_20_years_',\n",
    "    'sex_by_age:__female:_21_years_',\n",
    "    'sex_by_age:__female:_22_to_24_years_',\n",
    "    'sex_by_age:__female:_25_to_29_years_',\n",
    "    'sex_by_age:__female:_30_to_34_years_',\n",
    "    'sex_by_age:__female:_35_to_39_years_',\n",
    "    'sex_by_age:__female:_40_to_44_years_',\n",
    "    'sex_by_age:__female:_45_to_49_years_',\n",
    "    'sex_by_age:__female:_50_to_54_years_',\n",
    "    'sex_by_age:__female:_55_to_59_years_',\n",
    "    'sex_by_age:__female:_60_and_61_years_',\n",
    "    'sex_by_age:__female:_62_to_64_years_',\n",
    "    'sex_by_age:__female:_65_and_66_years_',\n",
    "    'sex_by_age:__female:_67_to_69_years_',\n",
    "    'sex_by_age:__female:_70_to_74_years_',\n",
    "    'sex_by_age:__female:_75_to_79_years_',\n",
    "    'sex_by_age:__female:_80_to_84_years_',\n",
    "    'sex_by_age:__female:_85_years_and_over_',\n",
    "    'commute_over_60',\n",
    "    'full_time',\n",
    "    'part_time',\n",
    "    'high_rent_burden',\n",
    "    'extreme_rent_burden','2010 Census Population']\n",
    "X_numeric = mergedData[X_numeric_features]\n",
    "X_categorical_features = ['function', 'gender', 'race', 'highestdegree', 'category', 'insttype']\n",
    "X_categorical = mergedData[X_categorical_features]"
   ]
  },
  {
   "cell_type": "code",
   "execution_count": 11,
   "metadata": {
    "collapsed": false
   },
   "outputs": [
    {
     "data": {
      "image/png": "[encoded data removed]",
      "text/plain": [
       "<matplotlib.figure.Figure at 0x10ad02eb8>"
      ]
     },
     "metadata": {},
     "output_type": "display_data"
    }
   ],
   "source": [
    "#plt.plot(sal['instBudget'], sal['instSize'])\n",
    "plt.scatter(mergedData['instbudget'], mergedData['instsize'])\n",
    "plt.show()"
   ]
  },
  {
   "cell_type": "code",
   "execution_count": 12,
   "metadata": {
    "collapsed": false
   },
   "outputs": [],
   "source": [
    "# create dummy variables for each of the categorical features\n",
    "# DOC: http://pandas.pydata.org/pandas-docs/stable/generated/pandas.get_dummies.html\n",
    "\n",
    "# extract dummy variables for each!!!! sooooo nice!\n",
    "Function_dummies = pd.get_dummies(X_categorical['function'])\n",
    "gender_dummies = pd.get_dummies(X_categorical['gender'])\n",
    "race_dummies = pd.get_dummies(X_categorical['race'])\n",
    "highestDegree_dummies = pd.get_dummies(X_categorical['highestdegree'])\n",
    "Category_dummies = pd.get_dummies(X_categorical['category'])\n",
    "instType_dummies = pd.get_dummies(X_categorical['insttype'])\n",
    "\n",
    "X_dummy_features = pd.concat([Function_dummies, gender_dummies, race_dummies, highestDegree_dummies, Category_dummies, instType_dummies], axis=1)\n",
    "\n",
    "# convert to ndarray\n",
    "X_dummy_features = X_dummy_features.as_matrix()"
   ]
  },
  {
   "cell_type": "code",
   "execution_count": 13,
   "metadata": {
    "collapsed": false
   },
   "outputs": [],
   "source": [
    "# impute missing values in numerical features\n",
    "# DOC: http://scikit-learn.org/stable/modules/preprocessing.html\n",
    "\n",
    "from sklearn.preprocessing import Imputer\n",
    "imp = Imputer()\n",
    "imp.fit(X_numeric)\n",
    "X_numeric_imputed = imp.transform(X_numeric)"
   ]
  },
  {
   "cell_type": "code",
   "execution_count": 14,
   "metadata": {
    "collapsed": false
   },
   "outputs": [
    {
     "data": {
      "text/plain": [
       "(2185, 113)"
      ]
     },
     "execution_count": 14,
     "metadata": {},
     "output_type": "execute_result"
    }
   ],
   "source": [
    "X = np.concatenate((X_dummy_features, X_numeric_imputed), axis=1)\n",
    "X.shape"
   ]
  },
  {
   "cell_type": "code",
   "execution_count": 15,
   "metadata": {
    "collapsed": true
   },
   "outputs": [],
   "source": [
    "# y is salary\n",
    "y = mergedData.iloc[:, 7].values"
   ]
  },
  {
   "cell_type": "code",
   "execution_count": 16,
   "metadata": {
    "collapsed": false
   },
   "outputs": [],
   "source": [
    "# create training and test sets\n",
    "from sklearn.cross_validation import train_test_split\n",
    "\n",
    "X_train, X_test, y_train, y_test = train_test_split(X, y, test_size=0.3, random_state=0)"
   ]
  },
  {
   "cell_type": "code",
   "execution_count": 17,
   "metadata": {
    "collapsed": true
   },
   "outputs": [],
   "source": [
    "from sklearn.preprocessing import StandardScaler\n",
    "\n",
    "sc = StandardScaler()\n",
    "X_train_std = sc.fit_transform(X_train)\n",
    "X_test_std = sc.fit_transform(X_test)"
   ]
  },
  {
   "cell_type": "code",
   "execution_count": 18,
   "metadata": {
    "collapsed": false
   },
   "outputs": [
    {
     "name": "stdout",
     "output_type": "stream",
     "text": [
      "\n",
      "Eigenvalues \n",
      "[  4.08023369e+01   6.17961385e+00   3.15613745e+00   2.90788096e+00\n",
      "   2.46237186e+00   2.32650575e+00   2.09172656e+00   2.02075982e+00\n",
      "   1.86553827e+00   1.61776779e+00   1.51802962e+00   1.43962932e+00\n",
      "   1.39725555e+00   1.26936227e+00   1.25420783e+00   1.21237350e+00\n",
      "   1.19351984e+00   1.14605455e+00   5.61172259e-01   6.27220251e-01\n",
      "   5.07515414e-01   6.93326576e-01   7.48868978e-01   7.21544549e-01\n",
      "   7.32448855e-01   1.11979322e+00   1.11732747e+00   8.02838856e-01\n",
      "   4.62193473e-01   1.09051059e+00   8.52800087e-01   8.71021904e-01\n",
      "   1.07758693e+00   8.79655569e-01   1.07138257e+00   9.09384563e-01\n",
      "   8.97466411e-01   9.21451476e-01   1.06373619e+00   1.05813184e+00\n",
      "   9.40827895e-01   9.53481487e-01   1.04302106e+00   1.03888097e+00\n",
      "   9.76313032e-01   1.02734253e+00   9.85775616e-01   1.01954551e+00\n",
      "   9.96635318e-01   4.01790105e-01   3.60557653e-01   1.01658661e+00\n",
      "   1.00625505e+00   1.01123559e+00   1.00916630e+00   3.21623981e-01\n",
      "   3.08251567e-01   1.00374226e+00   2.74627833e-01   2.55082952e-01\n",
      "   2.28176448e-01   1.87156174e-01   1.79615902e-01   1.71600878e-01\n",
      "   1.55328326e-01   1.31407063e-01   1.24688576e-01   1.04316569e-01\n",
      "   9.90877462e-02   8.48657984e-02   7.37062981e-02   6.88239139e-02\n",
      "   6.38422160e-02   6.29524613e-02   5.81717154e-02   5.58479924e-02\n",
      "   5.32456967e-02   5.01912056e-02   4.38837540e-02   4.44155491e-02\n",
      "   3.48599531e-02   3.39918606e-02   2.92460049e-02   2.70988248e-02\n",
      "   2.63997512e-02   2.47274828e-02   2.36866229e-02   2.23841778e-02\n",
      "   2.12857354e-02   2.87764028e-03   3.48760861e-03   1.85266271e-02\n",
      "   1.71929226e-02   1.77992674e-02   1.52784863e-02   4.01285886e-03\n",
      "   4.43102463e-03   1.32987392e-02   9.82492704e-03   1.17617475e-02\n",
      "   1.13771295e-02   1.25990335e-02   6.31127423e-03   5.07942760e-03\n",
      "   5.36203795e-03   7.93593756e-03   7.39664318e-03   6.71375860e-03\n",
      "   8.48808111e-03   1.47704519e-15  -1.60686507e-15  -9.52516461e-16\n",
      "   3.54515899e-16]\n",
      "(113,)\n"
     ]
    }
   ],
   "source": [
    "cov_mat = np.cov(X_train_std.T)\n",
    "eigen_vals, eigen_vecs = np.linalg.eig(cov_mat)\n",
    "\n",
    "print('\\nEigenvalues \\n%s' % eigen_vals)\n",
    "print(eigen_vals.shape)"
   ]
  },
  {
   "cell_type": "code",
   "execution_count": 19,
   "metadata": {
    "collapsed": true
   },
   "outputs": [],
   "source": [
    "np.savetxt('cov.csv', cov_mat, delimiter=',')"
   ]
  },
  {
   "cell_type": "code",
   "execution_count": 20,
   "metadata": {
    "collapsed": true
   },
   "outputs": [],
   "source": [
    "tot = sum(eigen_vals)\n",
    "var_exp = [(i / tot) for i in sorted(eigen_vals, reverse=True)]\n",
    "cum_var_exp = np.cumsum(var_exp)"
   ]
  },
  {
   "cell_type": "code",
   "execution_count": 21,
   "metadata": {
    "collapsed": false
   },
   "outputs": [
    {
     "data": {
      "image/png": "[encoded data removed]",
      "text/plain": [
       "<matplotlib.figure.Figure at 0x10c6aa9e8>"
      ]
     },
     "metadata": {},
     "output_type": "display_data"
    }
   ],
   "source": [
    "plt.bar(range(1, len(var_exp)+1), var_exp, alpha=0.5, align='center', label='individual explained variance')\n",
    "plt.step(range(1, len(var_exp)+1), cum_var_exp, where='mid', label='cumulative explained variance')\n",
    "plt.ylabel('Explained variance ratio')\n",
    "plt.xlabel('Principal components')\n",
    "plt.legend(loc='best')\n",
    "plt.tight_layout()\n",
    "# plt.savefig('./figures/pca1.png', dpi=300)\n",
    "plt.show()"
   ]
  },
  {
   "cell_type": "code",
   "execution_count": 22,
   "metadata": {
    "collapsed": false
   },
   "outputs": [
    {
     "name": "stdout",
     "output_type": "stream",
     "text": [
      "[ 0.36084647  0.05465108  0.02791215  0.02571663  0.02177665  0.02057508\n",
      "  0.01849875  0.01787113]\n",
      "8\n"
     ]
    }
   ],
   "source": [
    "# http://scikit-learn.org/stable/modules/generated/sklearn.decomposition.PCA.html\n",
    "from sklearn.decomposition import PCA\n",
    "pca = PCA(n_components=8)\n",
    "X_train_pca = pca.fit_transform(X_train_std)\n",
    "X_test_pca = pca.transform(X_test_std)\n",
    "print(pca.explained_variance_ratio_)\n",
    "print(len(pca.explained_variance_ratio_))"
   ]
  },
  {
   "cell_type": "code",
   "execution_count": 23,
   "metadata": {
    "collapsed": false
   },
   "outputs": [
    {
     "data": {
      "image/png": "[encoded data removed]",
      "text/plain": [
       "<matplotlib.figure.Figure at 0x10d6054a8>"
      ]
     },
     "metadata": {},
     "output_type": "display_data"
    }
   ],
   "source": [
    "plt.bar(range(1, len(pca.explained_variance_ratio_)+1), pca.explained_variance_ratio_, alpha=0.5, align='center')\n",
    "plt.step(range(1, len(pca.explained_variance_ratio_)+1), np.cumsum(pca.explained_variance_ratio_), where='mid')\n",
    "plt.ylabel('Explained variance ratio')\n",
    "plt.xlabel('Principal components')\n",
    "plt.show()"
   ]
  },
  {
   "cell_type": "code",
   "execution_count": 24,
   "metadata": {
    "collapsed": true
   },
   "outputs": [],
   "source": [
    "# keep track of variance on test data, to graph\n",
    "var_to_graph = {}\n",
    "# bring residual sum of squares from regression1.ipynb\n",
    "var_to_graph['simpReg'] = 265376883.08"
   ]
  },
  {
   "cell_type": "code",
   "execution_count": 25,
   "metadata": {
    "collapsed": true
   },
   "outputs": [],
   "source": [
    "from sklearn import datasets, linear_model\n",
    "# DOC: http://scikit-learn.org/stable/modules/generated/sklearn.linear_model.LinearRegression.html"
   ]
  },
  {
   "cell_type": "code",
   "execution_count": 27,
   "metadata": {
    "collapsed": false
   },
   "outputs": [
    {
     "name": "stdout",
     "output_type": "stream",
     "text": [
      "Intercept: \n",
      " 30821.3753347\n",
      "Coefficients: \n",
      " [  6.36881848e+03  -1.75981513e+04  -2.12592002e+04  -2.22752115e+04\n",
      "  -1.38247221e+04  -1.10561988e+04  -2.04919732e+04  -2.55705158e+04\n",
      "  -2.01730379e+04  -2.58802247e+04  -1.52354972e+04  -2.71924384e+03\n",
      "  -2.38786184e+04  -2.51953330e+04  -1.96427689e+04  -2.77240294e+04\n",
      "  -2.18034585e+04  -2.50193249e+04  -2.09680286e+04  -2.00670519e+04\n",
      "  -1.59385052e+04  -8.60709178e+03  -2.11028628e+04  -2.01135269e+04\n",
      "  -2.06414769e+04  -1.92472745e+04  -2.17620369e+04  -2.24352888e+04\n",
      "   3.09123124e+02  -1.68535645e+03  -1.89308055e+03   1.56400785e+03\n",
      "  -2.56334531e+03   7.17045178e+02  -3.78683618e+03   5.60444014e+03\n",
      "  -4.52785354e+02   4.65147128e+03   9.98384208e+03   2.22430637e+04\n",
      "   1.43904880e+04   1.18434688e+03   2.95423867e+03  -2.95423867e+03\n",
      "   2.61136902e+03   3.21109764e+02  -1.36051452e+01  -1.24327310e+02\n",
      "   6.52192726e+02   2.32656962e+02   3.78150113e+03  -1.07656540e+03\n",
      "   6.90677156e+01  -5.11250786e+01  -7.71702627e+00   5.39936879e+00\n",
      "   2.57088904e+00   3.58081452e-04   1.77373613e-01   1.04869410e+00\n",
      "  -5.17760509e+00  -5.19712827e+00   1.40143201e+01   3.54632328e+00\n",
      "   4.70616803e-02   4.80591630e+00  -5.02410932e-01   1.93432867e-01\n",
      "  -1.43515616e+00  -4.84898473e+00   3.11047755e+00  -8.70832791e+00\n",
      "  -2.63096447e-01   2.58984113e+00  -9.13128979e+00   1.46138462e+01\n",
      "  -2.34424598e+01   1.15668791e+01  -1.57238106e-01  -3.57930501e+01\n",
      "  -7.00638452e+00   2.91867123e+01   1.90370149e+01   5.51914783e-01\n",
      "  -2.14195437e+01   1.80385045e+01  -1.28551788e+01   2.03796480e+01\n",
      "  -2.75152938e+00  -3.98831440e+00   1.76731907e+00  -6.55790009e-01\n",
      "   8.12593510e+00  -7.95038590e+00  -6.87236669e+00   8.60165262e+00\n",
      "   1.11607125e+01  -2.76233326e+01   5.56544970e+00   4.18498105e+01\n",
      "   1.32228315e+01   1.64177546e+00  -3.55298220e+01   5.47334941e+00\n",
      "  -1.23699413e+01   4.29348212e+00  -7.55235375e+00   1.87163453e+02\n",
      "   3.87827753e+00  -3.87833607e+00  -1.12161223e+02   3.84674817e+01\n",
      "   7.36424929e-02]\n",
      "Residual sum of squares, training data: 108925616.66\n",
      "Residual sum of squares, test data: 128956969.03\n",
      "Variance score, training data: 0.69\n",
      "Variance score, test data: 0.56\n",
      "Distribution of prediction error on training data:\n"
     ]
    },
    {
     "data": {
      "image/png": "[encoded data removed]",
      "text/plain": [
       "<matplotlib.figure.Figure at 0x10c6280b8>"
      ]
     },
     "metadata": {},
     "output_type": "display_data"
    },
    {
     "name": "stdout",
     "output_type": "stream",
     "text": [
      "Distribution of prediction error on test data:\n"
     ]
    },
    {
     "data": {
      "image/png": "[encoded data removed]",
      "text/plain": [
       "<matplotlib.figure.Figure at 0x10c7bf550>"
      ]
     },
     "metadata": {},
     "output_type": "display_data"
    }
   ],
   "source": [
    "# Create linear regression object\n",
    "regr = linear_model.LinearRegression()\n",
    "\n",
    "# Train the model using the training sets\n",
    "X_train_no_intercept = X_train\n",
    "X_train = X_train.reshape(-1, X_train.shape[1])\n",
    "regr.fit(X_train, y_train)\n",
    "\n",
    "# The intercept\n",
    "print('Intercept: \\n', regr.intercept_)\n",
    "# The coefficients\n",
    "print('Coefficients: \\n', regr.coef_)\n",
    "# The mean square error\n",
    "print(\"Residual sum of squares, training data: %.2f\"\n",
    "      % np.mean((regr.predict(X_train) - y_train) ** 2))\n",
    "print(\"Residual sum of squares, test data: %.2f\"\n",
    "      % np.mean((regr.predict(X_test) - y_test) ** 2))\n",
    "var_to_graph['multReg_linear'] = np.mean((regr.predict(X_test) - y_test) ** 2)\n",
    "# Explained variance score: 1 is perfect prediction\n",
    "print('Variance score, training data: %.2f' % regr.score(X_train, y_train))\n",
    "print('Variance score, test data: %.2f' % regr.score(X_test, y_test))\n",
    "#vector of prediction error\n",
    "print('Distribution of prediction error on training data:')\n",
    "predError = regr.predict(X_train) - y_train\n",
    "plt.hist(predError)\n",
    "plt.show()\n",
    "\n",
    "print('Distribution of prediction error on test data:')\n",
    "predError = regr.predict(X_test) - y_test\n",
    "plt.hist(predError)\n",
    "plt.show()"
   ]
  },
  {
   "cell_type": "code",
   "execution_count": 28,
   "metadata": {
    "collapsed": true
   },
   "outputs": [],
   "source": [
    "from sklearn.preprocessing import PolynomialFeatures\n",
    "# DOC: http://scikit-learn.org/stable/modules/preprocessing.html\n",
    "\n",
    "poly = PolynomialFeatures(2)\n",
    "X_poly = poly.fit_transform(X)"
   ]
  },
  {
   "cell_type": "code",
   "execution_count": 29,
   "metadata": {
    "collapsed": false
   },
   "outputs": [],
   "source": [
    "# create training and test sets\n",
    "from sklearn.cross_validation import train_test_split\n",
    "\n",
    "X_train, X_test, y_train, y_test = train_test_split(\n",
    "         X_poly, y, test_size=0.3, random_state=0)"
   ]
  },
  {
   "cell_type": "code",
   "execution_count": 31,
   "metadata": {
    "collapsed": false
   },
   "outputs": [
    {
     "name": "stdout",
     "output_type": "stream",
     "text": [
      "Intercept: \n",
      " 33864941170.9\n",
      "Coefficients: \n",
      " [  3.31435635e+09   3.82750886e+08  -3.13626316e+08 ...,  -2.27634146e+06\n",
      "  -4.26525007e+03   7.95921827e-01]\n",
      "Residual sum of squares, training data: 5434331.48\n",
      "Residual sum of squares, test data: 6561694598140839936.00\n",
      "Variance score, training data: 0.98\n",
      "Variance score, test data: -22236169086.52\n",
      "Distribution of prediction error on training data:\n"
     ]
    },
    {
     "data": {
      "image/png": "[encoded data removed]",
      "text/plain": [
       "<matplotlib.figure.Figure at 0x10c85ba58>"
      ]
     },
     "metadata": {},
     "output_type": "display_data"
    },
    {
     "name": "stdout",
     "output_type": "stream",
     "text": [
      "Distribution of prediction error on test data:\n"
     ]
    },
    {
     "data": {
      "image/png": "[encoded data removed]",
      "text/plain": [
       "<matplotlib.figure.Figure at 0x10d92ef28>"
      ]
     },
     "metadata": {},
     "output_type": "display_data"
    }
   ],
   "source": [
    "## POLYNOMINAL \n",
    "# Create linear regression object\n",
    "poly = linear_model.LinearRegression(normalize=True)\n",
    "\n",
    "# Train the model using the training sets\n",
    "X_train_no_intercept = X_train\n",
    "X_train = X_train.reshape(-1, X_train.shape[1])\n",
    "poly.fit(X_train, y_train)\n",
    "\n",
    "# The intercept\n",
    "print('Intercept: \\n', poly.intercept_)\n",
    "# The coefficients\n",
    "print('Coefficients: \\n', poly.coef_)\n",
    "# The mean square error\n",
    "print(\"Residual sum of squares, training data: %.2f\"\n",
    "      % np.mean((poly.predict(X_train) - y_train) ** 2))\n",
    "print(\"Residual sum of squares, test data: %.2f\"\n",
    "      % np.mean((poly.predict(X_test) - y_test) ** 2))\n",
    "var_to_graph['multReg_poly'] = np.mean((poly.predict(X_test) - y_test) ** 2)\n",
    "# Explained variance score: 1 is perfect prediction\n",
    "print('Variance score, training data: %.2f' % poly.score(X_train, y_train))\n",
    "print('Variance score, test data: %.2f' % poly.score(X_test, y_test))\n",
    "#vector of prediction error\n",
    "print('Distribution of prediction error on training data:')\n",
    "predError = poly.predict(X_train) - y_train\n",
    "plt.hist(predError)\n",
    "plt.show()\n",
    "\n",
    "print('Distribution of prediction error on test data:')\n",
    "predError = poly.predict(X_test) - y_test\n",
    "plt.hist(predError)\n",
    "plt.show()"
   ]
  },
  {
   "cell_type": "code",
   "execution_count": null,
   "metadata": {
    "collapsed": true
   },
   "outputs": [],
   "source": []
  },
  {
   "cell_type": "code",
   "execution_count": 33,
   "metadata": {
    "collapsed": false
   },
   "outputs": [
    {
     "name": "stdout",
     "output_type": "stream",
     "text": [
      "Intercept: \n",
      " 18341.2429597\n",
      "Coefficients: \n",
      " [  2.15374948e+04  -1.81583599e+03  -5.47535734e+03  -6.18531735e+03\n",
      "   1.65749508e+03   4.70988005e+03  -4.94844795e+03  -9.00396715e+03\n",
      "  -4.36651910e+03  -6.36175169e+03   4.65757284e+02   1.24057981e+04\n",
      "  -8.00364459e+03  -8.77239953e+03  -3.88322033e+03  -7.76627031e+03\n",
      "  -5.34247164e+03  -9.35106560e+03  -4.66813128e+03  -4.35593532e+03\n",
      "  -1.55090417e+02   6.74667197e+03  -5.33274162e+03  -4.23917736e+03\n",
      "  -4.84485682e+03  -3.53570131e+03  -5.31840052e+03  -6.78482849e+03\n",
      "   2.05641696e+03   1.48655651e+01  -1.65929521e+03   1.67263866e+03\n",
      "  -1.99045584e+03   9.57995025e+02  -3.35604161e+03   4.70611462e+03\n",
      "   3.54860123e+00   7.16564730e+02   5.93369405e+03   1.72815123e+04\n",
      "   1.03988627e+04  -2.65389988e+03   2.85856196e+03  -2.85856196e+03\n",
      "   1.10013583e+03  -1.34099711e+03  -7.46040106e+01  -1.61616369e+02\n",
      "   6.91050427e+02   2.32890538e+02   4.07604840e+03  -1.19435208e+03\n",
      "   6.18122278e+01  -4.65204340e+01  -1.76279684e+01   5.02742868e+00\n",
      "   2.67456147e+00   3.54662878e-04   1.75529259e-01   9.07952534e-01\n",
      "  -4.25064063e+00  -4.82949920e+00   1.24105983e+01   2.07605697e+00\n",
      "   6.38179413e-01   4.93215696e+00  -5.35940927e-01   1.45093207e+00\n",
      "  -2.84871221e+00  -4.20554124e+00   2.81803546e-02  -1.02245806e+01\n",
      "   5.19931896e-01   2.77469399e+00  -1.02381146e+01   1.27880403e+01\n",
      "  -2.30445949e+01   1.59006309e+01   3.02762903e+00  -3.68118541e+01\n",
      "  -7.45463594e+00   2.68992598e+01   2.19054850e+01   6.20750569e-01\n",
      "  -1.83236489e+01   1.44656027e+01  -1.38890859e+01   2.09663881e+01\n",
      "  -3.31270213e+00  -3.36482166e+00   1.13647617e+00  -1.08505590e+00\n",
      "   8.63116280e+00  -7.93625144e+00  -4.69004360e+00   1.00249262e+01\n",
      "   1.45893465e+01  -2.62794852e+01   5.04941942e+00   3.89385670e+01\n",
      "   1.13770240e+01  -4.28738826e+00  -3.44446422e+01   4.53694890e+00\n",
      "  -9.76919066e+00   4.00615577e+00  -5.71898156e+00   2.13434029e+02\n",
      "  -1.52445229e+00   1.52431666e+00  -1.06018679e+02   3.89455067e+01\n",
      "   8.23497524e-02]\n",
      "Residual sum of squares, training data: 109841427.33\n",
      "Residual sum of squares, test data: 127527064.17\n",
      "Variance score, training data: 0.69\n",
      "Variance score, test data: 0.57\n",
      "Distribution of prediction error on training data:\n"
     ]
    },
    {
     "data": {
      "image/png": "[encoded data removed]",
      "text/plain": [
       "<matplotlib.figure.Figure at 0x10df442b0>"
      ]
     },
     "metadata": {},
     "output_type": "display_data"
    },
    {
     "name": "stdout",
     "output_type": "stream",
     "text": [
      "Distribution of prediction error on test data:\n"
     ]
    },
    {
     "data": {
      "image/png": "[encoded data removed]",
      "text/plain": [
       "<matplotlib.figure.Figure at 0x125e02630>"
      ]
     },
     "metadata": {},
     "output_type": "display_data"
    }
   ],
   "source": [
    "## RIDGE REGRESSION\n",
    "# DOC: http://scikit-learn.org/stable/modules/generated/sklearn.linear_model.Ridge.html\n",
    "\n",
    "# create training and test sets\n",
    "from sklearn.cross_validation import train_test_split\n",
    "\n",
    "X_train, X_test, y_train, y_test = train_test_split(\n",
    "         X, y, test_size=0.3, random_state=0)\n",
    "\n",
    "# Create linear regression object\n",
    "regr = linear_model.Ridge()\n",
    "\n",
    "# Train the model using the training sets\n",
    "X_train_no_intercept = X_train\n",
    "X_train = X_train.reshape(-1, X_train.shape[1])\n",
    "regr.fit(X_train, y_train)\n",
    "\n",
    "# The intercept\n",
    "print('Intercept: \\n', regr.intercept_)\n",
    "# The coefficients\n",
    "print('Coefficients: \\n', regr.coef_)\n",
    "# The mean square error\n",
    "print(\"Residual sum of squares, training data: %.2f\"\n",
    "      % np.mean((regr.predict(X_train) - y_train) ** 2))\n",
    "print(\"Residual sum of squares, test data: %.2f\"\n",
    "      % np.mean((regr.predict(X_test) - y_test) ** 2))\n",
    "var_to_graph['multReg_ridge'] = np.mean((regr.predict(X_test) - y_test) ** 2)\n",
    "# Explained variance score: 1 is perfect prediction\n",
    "print('Variance score, training data: %.2f' % regr.score(X_train, y_train))\n",
    "print('Variance score, test data: %.2f' % regr.score(X_test, y_test))\n",
    "#vector of prediction error\n",
    "print('Distribution of prediction error on training data:')\n",
    "predError = regr.predict(X_train) - y_train\n",
    "plt.hist(predError)\n",
    "plt.show()\n",
    "\n",
    "print('Distribution of prediction error on test data:')\n",
    "predError = regr.predict(X_test) - y_test\n",
    "plt.hist(predError)\n",
    "plt.show()"
   ]
  },
  {
   "cell_type": "code",
   "execution_count": 35,
   "metadata": {
    "collapsed": false
   },
   "outputs": [
    {
     "name": "stdout",
     "output_type": "stream",
     "text": [
      "Intercept: \n",
      " 28940.1512563\n",
      "Residual sum of squares, training data: 147086123.46\n",
      "Residual sum of squares, test data: 128811609.83\n",
      "Variance score, training data: 0.59\n",
      "Variance score, test data: 0.56\n",
      "Distribution of prediction error on training data:\n"
     ]
    },
    {
     "data": {
      "image/png": "[encoded data removed]",
      "text/plain": [
       "<matplotlib.figure.Figure at 0x10c89c668>"
      ]
     },
     "metadata": {},
     "output_type": "display_data"
    },
    {
     "name": "stdout",
     "output_type": "stream",
     "text": [
      "Distribution of prediction error on test data:\n"
     ]
    },
    {
     "data": {
      "image/png": "[encoded data removed]",
      "text/plain": [
       "<matplotlib.figure.Figure at 0x125e0c9e8>"
      ]
     },
     "metadata": {},
     "output_type": "display_data"
    }
   ],
   "source": [
    "## RIDGE REGRESSION with normalization\n",
    "# DOC: http://scikit-learn.org/stable/modules/generated/sklearn.linear_model.Ridge.html\n",
    "\n",
    "# create training and test sets\n",
    "from sklearn.cross_validation import train_test_split\n",
    "\n",
    "X_train, X_test, y_train, y_test = train_test_split(\n",
    "         X, y, test_size=0.3, random_state=0)\n",
    "\n",
    "# Create linear regression object\n",
    "regr = linear_model.Ridge(normalize=True)\n",
    "\n",
    "# Train the model using the training sets\n",
    "X_train_no_intercept = X_train\n",
    "X_train = X_train.reshape(-1, X_train.shape[1])\n",
    "regr.fit(X_train, y_train)\n",
    "\n",
    "# The intercept\n",
    "print('Intercept: \\n', regr.intercept_)\n",
    "# The coefficients\n",
    "#print('Coefficients: \\n', regr.coef_)\n",
    "# The mean square error\n",
    "print(\"Residual sum of squares, training data: %.2f\"\n",
    "      % np.mean((regr.predict(X_train) - y_train) ** 2))\n",
    "print(\"Residual sum of squares, test data: %.2f\"\n",
    "      % np.mean((regr.predict(X_test) - y_test) ** 2))\n",
    "var_to_graph['multReg_ridge'] = np.mean((regr.predict(X_test) - y_test) ** 2)\n",
    "# Explained variance score: 1 is perfect prediction\n",
    "print('Variance score, training data: %.2f' % regr.score(X_train, y_train))\n",
    "print('Variance score, test data: %.2f' % regr.score(X_test, y_test))\n",
    "#vector of prediction error\n",
    "print('Distribution of prediction error on training data:')\n",
    "predError = regr.predict(X_train) - y_train\n",
    "plt.hist(predError)\n",
    "plt.show()\n",
    "\n",
    "print('Distribution of prediction error on test data:')\n",
    "predError = regr.predict(X_test) - y_test\n",
    "plt.hist(predError)\n",
    "plt.show()"
   ]
  },
  {
   "cell_type": "code",
   "execution_count": 36,
   "metadata": {
    "collapsed": false
   },
   "outputs": [
    {
     "data": {
      "image/png": "[encoded data removed]",
      "text/plain": [
       "<matplotlib.figure.Figure at 0x10df578d0>"
      ]
     },
     "metadata": {},
     "output_type": "display_data"
    }
   ],
   "source": [
    "# bar graph of dict with Residual Sum of Squares on test datasets\n",
    "\n",
    "#var_to_graph['multReg_poly'] = 0\n",
    "plt.bar(range(len(var_to_graph)), var_to_graph.values(), align='center')\n",
    "plt.xticks(range(len(var_to_graph)), var_to_graph.keys())\n",
    "\n",
    "plt.show()"
   ]
  },
  {
   "cell_type": "code",
   "execution_count": null,
   "metadata": {
    "collapsed": true
   },
   "outputs": [],
   "source": []
  },
  {
   "cell_type": "code",
   "execution_count": null,
   "metadata": {
    "collapsed": true
   },
   "outputs": [],
   "source": []
  },
  {
   "cell_type": "code",
   "execution_count": null,
   "metadata": {
    "collapsed": true
   },
   "outputs": [],
   "source": []
  }
 ],
 "metadata": {
  "kernelspec": {
   "display_name": "Python 3",
   "language": "python",
   "name": "python3"
  },
  "language_info": {
   "codemirror_mode": {
    "name": "ipython",
    "version": 3
   },
   "file_extension": ".py",
   "mimetype": "text/x-python",
   "name": "python",
   "nbconvert_exporter": "python",
   "pygments_lexer": "ipython3",
   "version": "3.5.1"
  }
 },
 "nbformat": 4,
 "nbformat_minor": 0
}
