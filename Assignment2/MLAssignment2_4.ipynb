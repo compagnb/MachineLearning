{
 "cells": [
  {
   "cell_type": "code",
   "execution_count": 1,
   "metadata": {
    "collapsed": true
   },
   "outputs": [],
   "source": [
    "import numpy as np\n",
    "import pandas as pd\n",
    "import matplotlib.pyplot as plt\n",
    "%matplotlib inline"
   ]
  },
  {
   "cell_type": "code",
   "execution_count": 2,
   "metadata": {
    "collapsed": true
   },
   "outputs": [],
   "source": [
    "#Jaime's dataset\n",
    "salData = pd.read_csv('mergedSalaries.csv')"
   ]
  },
  {
   "cell_type": "code",
   "execution_count": 3,
   "metadata": {
    "collapsed": false
   },
   "outputs": [
    {
     "data": {
      "text/html": [
       "<div>\n",
       "<table border=\"1\" class=\"dataframe\">\n",
       "  <thead>\n",
       "    <tr style=\"text-align: right;\">\n",
       "      <th></th>\n",
       "      <th>Unnamed: 0</th>\n",
       "      <th>function</th>\n",
       "      <th>sup1</th>\n",
       "      <th>sup2</th>\n",
       "      <th>sup3</th>\n",
       "      <th>sup4</th>\n",
       "      <th>sup5</th>\n",
       "      <th>salary</th>\n",
       "      <th>gender</th>\n",
       "      <th>disabled</th>\n",
       "      <th>...</th>\n",
       "      <th>sex_by_age:__female:_67_to_69_years_</th>\n",
       "      <th>sex_by_age:__female:_70_to_74_years_</th>\n",
       "      <th>sex_by_age:__female:_75_to_79_years_</th>\n",
       "      <th>sex_by_age:__female:_80_to_84_years_</th>\n",
       "      <th>sex_by_age:__female:_85_years_and_over_</th>\n",
       "      <th>commute_over_60</th>\n",
       "      <th>full_time</th>\n",
       "      <th>part_time</th>\n",
       "      <th>high_rent_burden</th>\n",
       "      <th>extreme_rent_burden</th>\n",
       "    </tr>\n",
       "  </thead>\n",
       "  <tbody>\n",
       "    <tr>\n",
       "      <th>0</th>\n",
       "      <td>2211</td>\n",
       "      <td>position22</td>\n",
       "      <td>0</td>\n",
       "      <td>0</td>\n",
       "      <td>0</td>\n",
       "      <td>4</td>\n",
       "      <td>1</td>\n",
       "      <td>49088</td>\n",
       "      <td>Man</td>\n",
       "      <td>False</td>\n",
       "      <td>...</td>\n",
       "      <td>0</td>\n",
       "      <td>0</td>\n",
       "      <td>0</td>\n",
       "      <td>0</td>\n",
       "      <td>0</td>\n",
       "      <td>0</td>\n",
       "      <td>65.276074</td>\n",
       "      <td>34.723926</td>\n",
       "      <td>37.5</td>\n",
       "      <td>37.5</td>\n",
       "    </tr>\n",
       "    <tr>\n",
       "      <th>1</th>\n",
       "      <td>2212</td>\n",
       "      <td>position15</td>\n",
       "      <td>0</td>\n",
       "      <td>0</td>\n",
       "      <td>0</td>\n",
       "      <td>0</td>\n",
       "      <td>0</td>\n",
       "      <td>48131</td>\n",
       "      <td>Man</td>\n",
       "      <td>True</td>\n",
       "      <td>...</td>\n",
       "      <td>0</td>\n",
       "      <td>0</td>\n",
       "      <td>0</td>\n",
       "      <td>0</td>\n",
       "      <td>0</td>\n",
       "      <td>0</td>\n",
       "      <td>65.276074</td>\n",
       "      <td>34.723926</td>\n",
       "      <td>37.5</td>\n",
       "      <td>37.5</td>\n",
       "    </tr>\n",
       "    <tr>\n",
       "      <th>2</th>\n",
       "      <td>2216</td>\n",
       "      <td>position20</td>\n",
       "      <td>1</td>\n",
       "      <td>0</td>\n",
       "      <td>1</td>\n",
       "      <td>6</td>\n",
       "      <td>1</td>\n",
       "      <td>51625</td>\n",
       "      <td>Man</td>\n",
       "      <td>False</td>\n",
       "      <td>...</td>\n",
       "      <td>0</td>\n",
       "      <td>0</td>\n",
       "      <td>0</td>\n",
       "      <td>0</td>\n",
       "      <td>0</td>\n",
       "      <td>0</td>\n",
       "      <td>65.276074</td>\n",
       "      <td>34.723926</td>\n",
       "      <td>37.5</td>\n",
       "      <td>37.5</td>\n",
       "    </tr>\n",
       "    <tr>\n",
       "      <th>3</th>\n",
       "      <td>2217</td>\n",
       "      <td>position6</td>\n",
       "      <td>0</td>\n",
       "      <td>0</td>\n",
       "      <td>1</td>\n",
       "      <td>30</td>\n",
       "      <td>5</td>\n",
       "      <td>54225</td>\n",
       "      <td>Woman</td>\n",
       "      <td>False</td>\n",
       "      <td>...</td>\n",
       "      <td>0</td>\n",
       "      <td>0</td>\n",
       "      <td>0</td>\n",
       "      <td>0</td>\n",
       "      <td>0</td>\n",
       "      <td>0</td>\n",
       "      <td>65.276074</td>\n",
       "      <td>34.723926</td>\n",
       "      <td>37.5</td>\n",
       "      <td>37.5</td>\n",
       "    </tr>\n",
       "    <tr>\n",
       "      <th>4</th>\n",
       "      <td>2218</td>\n",
       "      <td>position10</td>\n",
       "      <td>0</td>\n",
       "      <td>0</td>\n",
       "      <td>0</td>\n",
       "      <td>7</td>\n",
       "      <td>0</td>\n",
       "      <td>67495</td>\n",
       "      <td>Woman</td>\n",
       "      <td>False</td>\n",
       "      <td>...</td>\n",
       "      <td>0</td>\n",
       "      <td>0</td>\n",
       "      <td>0</td>\n",
       "      <td>0</td>\n",
       "      <td>0</td>\n",
       "      <td>0</td>\n",
       "      <td>65.276074</td>\n",
       "      <td>34.723926</td>\n",
       "      <td>37.5</td>\n",
       "      <td>37.5</td>\n",
       "    </tr>\n",
       "  </tbody>\n",
       "</table>\n",
       "<p>5 rows × 124 columns</p>\n",
       "</div>"
      ],
      "text/plain": [
       "   Unnamed: 0    function  sup1  sup2  sup3  sup4  sup5  salary gender  \\\n",
       "0        2211  position22     0     0     0     4     1   49088    Man   \n",
       "1        2212  position15     0     0     0     0     0   48131    Man   \n",
       "2        2216  position20     1     0     1     6     1   51625    Man   \n",
       "3        2217   position6     0     0     1    30     5   54225  Woman   \n",
       "4        2218  position10     0     0     0     7     0   67495  Woman   \n",
       "\n",
       "  disabled         ...          sex_by_age:__female:_67_to_69_years_  \\\n",
       "0    False         ...                                             0   \n",
       "1     True         ...                                             0   \n",
       "2    False         ...                                             0   \n",
       "3    False         ...                                             0   \n",
       "4    False         ...                                             0   \n",
       "\n",
       "   sex_by_age:__female:_70_to_74_years_  sex_by_age:__female:_75_to_79_years_  \\\n",
       "0                                     0                                     0   \n",
       "1                                     0                                     0   \n",
       "2                                     0                                     0   \n",
       "3                                     0                                     0   \n",
       "4                                     0                                     0   \n",
       "\n",
       "   sex_by_age:__female:_80_to_84_years_  \\\n",
       "0                                     0   \n",
       "1                                     0   \n",
       "2                                     0   \n",
       "3                                     0   \n",
       "4                                     0   \n",
       "\n",
       "  sex_by_age:__female:_85_years_and_over_ commute_over_60  full_time  \\\n",
       "0                                       0               0  65.276074   \n",
       "1                                       0               0  65.276074   \n",
       "2                                       0               0  65.276074   \n",
       "3                                       0               0  65.276074   \n",
       "4                                       0               0  65.276074   \n",
       "\n",
       "   part_time  high_rent_burden  extreme_rent_burden  \n",
       "0  34.723926              37.5                 37.5  \n",
       "1  34.723926              37.5                 37.5  \n",
       "2  34.723926              37.5                 37.5  \n",
       "3  34.723926              37.5                 37.5  \n",
       "4  34.723926              37.5                 37.5  \n",
       "\n",
       "[5 rows x 124 columns]"
      ]
     },
     "execution_count": 3,
     "metadata": {},
     "output_type": "execute_result"
    }
   ],
   "source": [
    "salData.head(5)"
   ]
  },
  {
   "cell_type": "code",
   "execution_count": 4,
   "metadata": {
    "collapsed": false
   },
   "outputs": [
    {
     "data": {
      "text/plain": [
       "Unnamed: 0                                    1110.500000\n",
       "sup1                                             1.431593\n",
       "sup2                                             0.763726\n",
       "sup3                                             0.624212\n",
       "sup4                                            49.639514\n",
       "sup5                                             3.945995\n",
       "salary                                       48756.163901\n",
       "disabled                                         0.013051\n",
       "yearsinposition                                  5.689307\n",
       "yearsinprofession                                9.327103\n",
       "age                                             38.260094\n",
       "cred1                                            0.069307\n",
       "cred2                                            0.031503\n",
       "inst1                                           16.674617\n",
       "inst2                                            6.648965\n",
       "inst3                                            3.680468\n",
       "inst4                                          336.729523\n",
       "inst5                                           40.371737\n",
       "instbudget                                 4826742.328460\n",
       "zip                                          56712.063006\n",
       "instsize                                     25194.286552\n",
       "b19013_001                                   48670.322905\n",
       "no_male_hs_p                                     7.880182\n",
       "no_female_hs_p                                   8.354468\n",
       "at_least_hs_male_p                              92.119818\n",
       "at_least_hs_female_p                            91.645532\n",
       "at_least_bach_male_p                            47.259724\n",
       "at_least_bach_female_p                          48.690321\n",
       "male_unemployment                                6.188552\n",
       "female_unemployment                              6.154348\n",
       "                                                ...      \n",
       "sex_by_age:__male:_85_years_and_over_           92.784627\n",
       "sex_by_age:__female:_                        10111.229833\n",
       "sex_by_age:__female:_under_5_years_            477.404871\n",
       "sex_by_age:__female:_5_to_9_years_             428.936834\n",
       "sex_by_age:__female:_10_to_14_years_           411.923896\n",
       "sex_by_age:__female:_15_to_17_years_           294.162861\n",
       "sex_by_age:__female:_18_and_19_years_         1437.153729\n",
       "sex_by_age:__female:_20_years_                 549.543379\n",
       "sex_by_age:__female:_21_years_                 476.490107\n",
       "sex_by_age:__female:_22_to_24_years_           718.789954\n",
       "sex_by_age:__female:_25_to_29_years_           743.124810\n",
       "sex_by_age:__female:_30_to_34_years_           541.089802\n",
       "sex_by_age:__female:_35_to_39_years_           505.652207\n",
       "sex_by_age:__female:_40_to_44_years_           501.490107\n",
       "sex_by_age:__female:_45_to_49_years_           510.817352\n",
       "sex_by_age:__female:_50_to_54_years_           536.961187\n",
       "sex_by_age:__female:_55_to_59_years_           491.843988\n",
       "sex_by_age:__female:_60_and_61_years_          188.231355\n",
       "sex_by_age:__female:_62_to_64_years_           224.789193\n",
       "sex_by_age:__female:_65_and_66_years_          125.289954\n",
       "sex_by_age:__female:_67_to_69_years_           154.544901\n",
       "sex_by_age:__female:_70_to_74_years_           228.536530\n",
       "sex_by_age:__female:_75_to_79_years_           189.363014\n",
       "sex_by_age:__female:_80_to_84_years_           171.121766\n",
       "sex_by_age:__female:_85_years_and_over_        203.968037\n",
       "commute_over_60                                  4.083454\n",
       "full_time                                       46.706917\n",
       "part_time                                       53.293083\n",
       "high_rent_burden                                56.853816\n",
       "extreme_rent_burden                             37.304541\n",
       "dtype: float64"
      ]
     },
     "execution_count": 4,
     "metadata": {},
     "output_type": "execute_result"
    }
   ],
   "source": [
    "salData.mean()"
   ]
  },
  {
   "cell_type": "code",
   "execution_count": 5,
   "metadata": {
    "collapsed": false
   },
   "outputs": [
    {
     "data": {
      "text/html": [
       "<div>\n",
       "<table border=\"1\" class=\"dataframe\">\n",
       "  <thead>\n",
       "    <tr style=\"text-align: right;\">\n",
       "      <th></th>\n",
       "      <th>Zip Code Pop</th>\n",
       "      <th>2010 Census Population</th>\n",
       "      <th>zip</th>\n",
       "    </tr>\n",
       "  </thead>\n",
       "  <tbody>\n",
       "    <tr>\n",
       "      <th>0</th>\n",
       "      <td>1001</td>\n",
       "      <td>16769</td>\n",
       "      <td>1001</td>\n",
       "    </tr>\n",
       "    <tr>\n",
       "      <th>1</th>\n",
       "      <td>1002</td>\n",
       "      <td>29049</td>\n",
       "      <td>1002</td>\n",
       "    </tr>\n",
       "    <tr>\n",
       "      <th>2</th>\n",
       "      <td>1003</td>\n",
       "      <td>10372</td>\n",
       "      <td>1003</td>\n",
       "    </tr>\n",
       "    <tr>\n",
       "      <th>3</th>\n",
       "      <td>1005</td>\n",
       "      <td>5079</td>\n",
       "      <td>1005</td>\n",
       "    </tr>\n",
       "    <tr>\n",
       "      <th>4</th>\n",
       "      <td>1007</td>\n",
       "      <td>14649</td>\n",
       "      <td>1007</td>\n",
       "    </tr>\n",
       "  </tbody>\n",
       "</table>\n",
       "</div>"
      ],
      "text/plain": [
       "   Zip Code Pop  2010 Census Population   zip\n",
       "0          1001                   16769  1001\n",
       "1          1002                   29049  1002\n",
       "2          1003                   10372  1003\n",
       "3          1005                    5079  1005\n",
       "4          1007                   14649  1007"
      ]
     },
     "execution_count": 5,
     "metadata": {},
     "output_type": "execute_result"
    }
   ],
   "source": [
    "popData = pd.read_csv('population.csv')\n",
    "popData['zip'] = popData['Zip Code Pop']\n",
    "popData.head()"
   ]
  },
  {
   "cell_type": "code",
   "execution_count": 6,
   "metadata": {
    "collapsed": true
   },
   "outputs": [],
   "source": [
    "# eliminate rows with missing Y values (NaN)\n",
    "salData['missingSalary'] = pd.isnull(salData['salary'])\n",
    "salData2 = salData[(salData.missingSalary == False)]"
   ]
  },
  {
   "cell_type": "code",
   "execution_count": 7,
   "metadata": {
    "collapsed": false
   },
   "outputs": [
    {
     "data": {
      "text/html": [
       "<div>\n",
       "<table border=\"1\" class=\"dataframe\">\n",
       "  <thead>\n",
       "    <tr style=\"text-align: right;\">\n",
       "      <th></th>\n",
       "      <th>Unnamed: 0</th>\n",
       "      <th>function</th>\n",
       "      <th>sup1</th>\n",
       "      <th>sup2</th>\n",
       "      <th>sup3</th>\n",
       "      <th>sup4</th>\n",
       "      <th>sup5</th>\n",
       "      <th>salary</th>\n",
       "      <th>gender</th>\n",
       "      <th>disabled</th>\n",
       "      <th>...</th>\n",
       "      <th>sex_by_age:__female:_70_to_74_years_</th>\n",
       "      <th>sex_by_age:__female:_75_to_79_years_</th>\n",
       "      <th>sex_by_age:__female:_80_to_84_years_</th>\n",
       "      <th>sex_by_age:__female:_85_years_and_over_</th>\n",
       "      <th>commute_over_60</th>\n",
       "      <th>full_time</th>\n",
       "      <th>part_time</th>\n",
       "      <th>high_rent_burden</th>\n",
       "      <th>extreme_rent_burden</th>\n",
       "      <th>missingSalary</th>\n",
       "    </tr>\n",
       "  </thead>\n",
       "  <tbody>\n",
       "    <tr>\n",
       "      <th>0</th>\n",
       "      <td>2211</td>\n",
       "      <td>position22</td>\n",
       "      <td>0</td>\n",
       "      <td>0</td>\n",
       "      <td>0</td>\n",
       "      <td>4</td>\n",
       "      <td>1</td>\n",
       "      <td>49088</td>\n",
       "      <td>Man</td>\n",
       "      <td>False</td>\n",
       "      <td>...</td>\n",
       "      <td>0</td>\n",
       "      <td>0</td>\n",
       "      <td>0</td>\n",
       "      <td>0</td>\n",
       "      <td>0</td>\n",
       "      <td>65.276074</td>\n",
       "      <td>34.723926</td>\n",
       "      <td>37.5</td>\n",
       "      <td>37.5</td>\n",
       "      <td>False</td>\n",
       "    </tr>\n",
       "    <tr>\n",
       "      <th>1</th>\n",
       "      <td>2212</td>\n",
       "      <td>position15</td>\n",
       "      <td>0</td>\n",
       "      <td>0</td>\n",
       "      <td>0</td>\n",
       "      <td>0</td>\n",
       "      <td>0</td>\n",
       "      <td>48131</td>\n",
       "      <td>Man</td>\n",
       "      <td>True</td>\n",
       "      <td>...</td>\n",
       "      <td>0</td>\n",
       "      <td>0</td>\n",
       "      <td>0</td>\n",
       "      <td>0</td>\n",
       "      <td>0</td>\n",
       "      <td>65.276074</td>\n",
       "      <td>34.723926</td>\n",
       "      <td>37.5</td>\n",
       "      <td>37.5</td>\n",
       "      <td>False</td>\n",
       "    </tr>\n",
       "    <tr>\n",
       "      <th>2</th>\n",
       "      <td>2216</td>\n",
       "      <td>position20</td>\n",
       "      <td>1</td>\n",
       "      <td>0</td>\n",
       "      <td>1</td>\n",
       "      <td>6</td>\n",
       "      <td>1</td>\n",
       "      <td>51625</td>\n",
       "      <td>Man</td>\n",
       "      <td>False</td>\n",
       "      <td>...</td>\n",
       "      <td>0</td>\n",
       "      <td>0</td>\n",
       "      <td>0</td>\n",
       "      <td>0</td>\n",
       "      <td>0</td>\n",
       "      <td>65.276074</td>\n",
       "      <td>34.723926</td>\n",
       "      <td>37.5</td>\n",
       "      <td>37.5</td>\n",
       "      <td>False</td>\n",
       "    </tr>\n",
       "    <tr>\n",
       "      <th>3</th>\n",
       "      <td>2217</td>\n",
       "      <td>position6</td>\n",
       "      <td>0</td>\n",
       "      <td>0</td>\n",
       "      <td>1</td>\n",
       "      <td>30</td>\n",
       "      <td>5</td>\n",
       "      <td>54225</td>\n",
       "      <td>Woman</td>\n",
       "      <td>False</td>\n",
       "      <td>...</td>\n",
       "      <td>0</td>\n",
       "      <td>0</td>\n",
       "      <td>0</td>\n",
       "      <td>0</td>\n",
       "      <td>0</td>\n",
       "      <td>65.276074</td>\n",
       "      <td>34.723926</td>\n",
       "      <td>37.5</td>\n",
       "      <td>37.5</td>\n",
       "      <td>False</td>\n",
       "    </tr>\n",
       "    <tr>\n",
       "      <th>4</th>\n",
       "      <td>2218</td>\n",
       "      <td>position10</td>\n",
       "      <td>0</td>\n",
       "      <td>0</td>\n",
       "      <td>0</td>\n",
       "      <td>7</td>\n",
       "      <td>0</td>\n",
       "      <td>67495</td>\n",
       "      <td>Woman</td>\n",
       "      <td>False</td>\n",
       "      <td>...</td>\n",
       "      <td>0</td>\n",
       "      <td>0</td>\n",
       "      <td>0</td>\n",
       "      <td>0</td>\n",
       "      <td>0</td>\n",
       "      <td>65.276074</td>\n",
       "      <td>34.723926</td>\n",
       "      <td>37.5</td>\n",
       "      <td>37.5</td>\n",
       "      <td>False</td>\n",
       "    </tr>\n",
       "  </tbody>\n",
       "</table>\n",
       "<p>5 rows × 125 columns</p>\n",
       "</div>"
      ],
      "text/plain": [
       "   Unnamed: 0    function  sup1  sup2  sup3  sup4  sup5  salary gender  \\\n",
       "0        2211  position22     0     0     0     4     1   49088    Man   \n",
       "1        2212  position15     0     0     0     0     0   48131    Man   \n",
       "2        2216  position20     1     0     1     6     1   51625    Man   \n",
       "3        2217   position6     0     0     1    30     5   54225  Woman   \n",
       "4        2218  position10     0     0     0     7     0   67495  Woman   \n",
       "\n",
       "  disabled      ...       sex_by_age:__female:_70_to_74_years_  \\\n",
       "0    False      ...                                          0   \n",
       "1     True      ...                                          0   \n",
       "2    False      ...                                          0   \n",
       "3    False      ...                                          0   \n",
       "4    False      ...                                          0   \n",
       "\n",
       "   sex_by_age:__female:_75_to_79_years_  sex_by_age:__female:_80_to_84_years_  \\\n",
       "0                                     0                                     0   \n",
       "1                                     0                                     0   \n",
       "2                                     0                                     0   \n",
       "3                                     0                                     0   \n",
       "4                                     0                                     0   \n",
       "\n",
       "   sex_by_age:__female:_85_years_and_over_ commute_over_60  full_time  \\\n",
       "0                                        0               0  65.276074   \n",
       "1                                        0               0  65.276074   \n",
       "2                                        0               0  65.276074   \n",
       "3                                        0               0  65.276074   \n",
       "4                                        0               0  65.276074   \n",
       "\n",
       "   part_time  high_rent_burden  extreme_rent_burden  missingSalary  \n",
       "0  34.723926              37.5                 37.5          False  \n",
       "1  34.723926              37.5                 37.5          False  \n",
       "2  34.723926              37.5                 37.5          False  \n",
       "3  34.723926              37.5                 37.5          False  \n",
       "4  34.723926              37.5                 37.5          False  \n",
       "\n",
       "[5 rows x 125 columns]"
      ]
     },
     "execution_count": 7,
     "metadata": {},
     "output_type": "execute_result"
    }
   ],
   "source": [
    "salData2.head()"
   ]
  },
  {
   "cell_type": "code",
   "execution_count": 8,
   "metadata": {
    "collapsed": false
   },
   "outputs": [],
   "source": [
    "mergedData = pd.merge(salData2, popData, how='left', on = 'zip')"
   ]
  },
  {
   "cell_type": "code",
   "execution_count": 9,
   "metadata": {
    "collapsed": false
   },
   "outputs": [
    {
     "data": {
      "text/plain": [
       "['Unnamed: 0',\n",
       " 'function',\n",
       " 'sup1',\n",
       " 'sup2',\n",
       " 'sup3',\n",
       " 'sup4',\n",
       " 'sup5',\n",
       " 'salary',\n",
       " 'gender',\n",
       " 'disabled',\n",
       " 'race',\n",
       " 'yearsinposition',\n",
       " 'yearsinprofession',\n",
       " 'age',\n",
       " 'cred1',\n",
       " 'cred2',\n",
       " 'highestdegree',\n",
       " 'inst1',\n",
       " 'inst2',\n",
       " 'inst3',\n",
       " 'inst4',\n",
       " 'inst5',\n",
       " 'instbudget',\n",
       " 'city',\n",
       " 'state',\n",
       " 'zip',\n",
       " 'country',\n",
       " 'category',\n",
       " 'instsize',\n",
       " 'insttype',\n",
       " 'median',\n",
       " 'mean',\n",
       " 'pop',\n",
       " 'b19013_001',\n",
       " 'no_male_hs_p',\n",
       " 'no_female_hs_p',\n",
       " 'at_least_hs_male_p',\n",
       " 'at_least_hs_female_p',\n",
       " 'at_least_bach_male_p',\n",
       " 'at_least_bach_female_p',\n",
       " 'male_unemployment',\n",
       " 'female_unemployment',\n",
       " 'snap',\n",
       " 'renter',\n",
       " 'median_rent',\n",
       " 'foreign_born',\n",
       " 'value_for_owner-occupied_housing_units:__total:_',\n",
       " 'value_for_owner-occupied_housing_units:__less_than_$10,000_',\n",
       " 'value_for_owner-occupied_housing_units:__$10,000_to_$14,999_',\n",
       " 'value_for_owner-occupied_housing_units:__$15,000_to_$19,999_',\n",
       " 'value_for_owner-occupied_housing_units:__$20,000_to_$24,999_',\n",
       " 'value_for_owner-occupied_housing_units:__$25,000_to_$29,999_',\n",
       " 'value_for_owner-occupied_housing_units:__$30,000_to_$34,999_',\n",
       " 'value_for_owner-occupied_housing_units:__$35,000_to_$39,999_',\n",
       " 'value_for_owner-occupied_housing_units:__$40,000_to_$49,999_',\n",
       " 'value_for_owner-occupied_housing_units:__$50,000_to_$59,999_',\n",
       " 'value_for_owner-occupied_housing_units:__$60,000_to_$69,999_',\n",
       " 'value_for_owner-occupied_housing_units:__$70,000_to_$79,999_',\n",
       " 'value_for_owner-occupied_housing_units:__$80,000_to_$89,999_',\n",
       " 'value_for_owner-occupied_housing_units:__$90,000_to_$99,999_',\n",
       " 'value_for_owner-occupied_housing_units:__$100,000_to_$124,999_',\n",
       " 'value_for_owner-occupied_housing_units:__$125,000_to_$149,999_',\n",
       " 'value_for_owner-occupied_housing_units:__$150,000_to_$174,999_',\n",
       " 'value_for_owner-occupied_housing_units:__$175,000_to_$199,999_',\n",
       " 'value_for_owner-occupied_housing_units:__$200,000_to_$249,999_',\n",
       " 'value_for_owner-occupied_housing_units:__$250,000_to_$299,999_',\n",
       " 'value_for_owner-occupied_housing_units:__$300,000_to_$399,999_',\n",
       " 'value_for_owner-occupied_housing_units:__$400,000_to_$499,999_',\n",
       " 'value_for_owner-occupied_housing_units:__$500,000_to_$749,999_',\n",
       " 'value_for_owner-occupied_housing_units:__$750,000_to_$999,999_',\n",
       " 'value_for_owner-occupied_housing_units:__$1,000,000_or_more_',\n",
       " 'sex_by_age:__male:_',\n",
       " 'sex_by_age:__male:_under_5_years_',\n",
       " 'sex_by_age:__male:_5_to_9_years_',\n",
       " 'sex_by_age:__male:_10_to_14_years_',\n",
       " 'sex_by_age:__male:_15_to_17_years_',\n",
       " 'sex_by_age:__male:_18_and_19_years_',\n",
       " 'sex_by_age:__male:_20_years_',\n",
       " 'sex_by_age:__male:_21_years_',\n",
       " 'sex_by_age:__male:_22_to_24_years_',\n",
       " 'sex_by_age:__male:_25_to_29_years_',\n",
       " 'sex_by_age:__male:_30_to_34_years_',\n",
       " 'sex_by_age:__male:_35_to_39_years_',\n",
       " 'sex_by_age:__male:_40_to_44_years_',\n",
       " 'sex_by_age:__male:_45_to_49_years_',\n",
       " 'sex_by_age:__male:_50_to_54_years_',\n",
       " 'sex_by_age:__male:_55_to_59_years_',\n",
       " 'sex_by_age:__male:_60_and_61_years_',\n",
       " 'sex_by_age:__male:_62_to_64_years_',\n",
       " 'sex_by_age:__male:_65_and_66_years_',\n",
       " 'sex_by_age:__male:_67_to_69_years_',\n",
       " 'sex_by_age:__male:_70_to_74_years_',\n",
       " 'sex_by_age:__male:_75_to_79_years_',\n",
       " 'sex_by_age:__male:_80_to_84_years_',\n",
       " 'sex_by_age:__male:_85_years_and_over_',\n",
       " 'sex_by_age:__female:_',\n",
       " 'sex_by_age:__female:_under_5_years_',\n",
       " 'sex_by_age:__female:_5_to_9_years_',\n",
       " 'sex_by_age:__female:_10_to_14_years_',\n",
       " 'sex_by_age:__female:_15_to_17_years_',\n",
       " 'sex_by_age:__female:_18_and_19_years_',\n",
       " 'sex_by_age:__female:_20_years_',\n",
       " 'sex_by_age:__female:_21_years_',\n",
       " 'sex_by_age:__female:_22_to_24_years_',\n",
       " 'sex_by_age:__female:_25_to_29_years_',\n",
       " 'sex_by_age:__female:_30_to_34_years_',\n",
       " 'sex_by_age:__female:_35_to_39_years_',\n",
       " 'sex_by_age:__female:_40_to_44_years_',\n",
       " 'sex_by_age:__female:_45_to_49_years_',\n",
       " 'sex_by_age:__female:_50_to_54_years_',\n",
       " 'sex_by_age:__female:_55_to_59_years_',\n",
       " 'sex_by_age:__female:_60_and_61_years_',\n",
       " 'sex_by_age:__female:_62_to_64_years_',\n",
       " 'sex_by_age:__female:_65_and_66_years_',\n",
       " 'sex_by_age:__female:_67_to_69_years_',\n",
       " 'sex_by_age:__female:_70_to_74_years_',\n",
       " 'sex_by_age:__female:_75_to_79_years_',\n",
       " 'sex_by_age:__female:_80_to_84_years_',\n",
       " 'sex_by_age:__female:_85_years_and_over_',\n",
       " 'commute_over_60',\n",
       " 'full_time',\n",
       " 'part_time',\n",
       " 'high_rent_burden',\n",
       " 'extreme_rent_burden',\n",
       " 'missingSalary',\n",
       " 'Zip Code Pop',\n",
       " '2010 Census Population']"
      ]
     },
     "execution_count": 9,
     "metadata": {},
     "output_type": "execute_result"
    }
   ],
   "source": [
    "list(mergedData.columns.values)"
   ]
  },
  {
   "cell_type": "code",
   "execution_count": 10,
   "metadata": {
    "collapsed": false
   },
   "outputs": [],
   "source": [
    "# list of X vars to include\n",
    "#put features in a list to deal with them programatically\n",
    "X_numeric_features = [\n",
    "#     'sup1', \n",
    "#     'sup2', \n",
    "#     'sup3', \n",
    "#     'sup4', \n",
    "#     'sup5', \n",
    "#     'disabled', \n",
    "    'yearsinposition', \n",
    "    'yearsinprofession', \n",
    "#     'age', \n",
    "    'cred1', \n",
    "    'cred2', \n",
    "    'inst1', \n",
    "    'inst2', \n",
    "    'inst3', \n",
    "    'inst4', \n",
    "    'inst5',\n",
    "    'instbudget', \n",
    "    'instsize',\n",
    "    'sex_by_age:__male:_',\n",
    "    'sex_by_age:__male:_under_5_years_',\n",
    "    'sex_by_age:__male:_5_to_9_years_',\n",
    "    'sex_by_age:__male:_10_to_14_years_',\n",
    "    'sex_by_age:__male:_15_to_17_years_',\n",
    "    'sex_by_age:__male:_18_and_19_years_',\n",
    "    'sex_by_age:__male:_20_years_',\n",
    "    'sex_by_age:__male:_21_years_',\n",
    "    'sex_by_age:__male:_22_to_24_years_',\n",
    "    'sex_by_age:__male:_25_to_29_years_',\n",
    "    'sex_by_age:__male:_30_to_34_years_',\n",
    "    'sex_by_age:__male:_35_to_39_years_',\n",
    "    'sex_by_age:__male:_40_to_44_years_',\n",
    "    'sex_by_age:__male:_45_to_49_years_',\n",
    "    'sex_by_age:__male:_50_to_54_years_',\n",
    "    'sex_by_age:__male:_55_to_59_years_',\n",
    "    'sex_by_age:__male:_60_and_61_years_',\n",
    "    'sex_by_age:__male:_62_to_64_years_',\n",
    "    'sex_by_age:__male:_65_and_66_years_',\n",
    "    'sex_by_age:__male:_67_to_69_years_',\n",
    "    'sex_by_age:__male:_70_to_74_years_',\n",
    "    'sex_by_age:__male:_75_to_79_years_',\n",
    "    'sex_by_age:__male:_80_to_84_years_',\n",
    "    'sex_by_age:__male:_85_years_and_over_',\n",
    "    'sex_by_age:__female:_',\n",
    "    'sex_by_age:__female:_under_5_years_',\n",
    "    'sex_by_age:__female:_5_to_9_years_',\n",
    "    'sex_by_age:__female:_10_to_14_years_',\n",
    "    'sex_by_age:__female:_15_to_17_years_',\n",
    "    'sex_by_age:__female:_18_and_19_years_',\n",
    "    'sex_by_age:__female:_20_years_',\n",
    "    'sex_by_age:__female:_21_years_',\n",
    "    'sex_by_age:__female:_22_to_24_years_',\n",
    "    'sex_by_age:__female:_25_to_29_years_',\n",
    "    'sex_by_age:__female:_30_to_34_years_',\n",
    "    'sex_by_age:__female:_35_to_39_years_',\n",
    "    'sex_by_age:__female:_40_to_44_years_',\n",
    "    'sex_by_age:__female:_45_to_49_years_',\n",
    "    'sex_by_age:__female:_50_to_54_years_',\n",
    "    'sex_by_age:__female:_55_to_59_years_',\n",
    "    'sex_by_age:__female:_60_and_61_years_',\n",
    "    'sex_by_age:__female:_62_to_64_years_',\n",
    "    'sex_by_age:__female:_65_and_66_years_',\n",
    "    'sex_by_age:__female:_67_to_69_years_',\n",
    "    'sex_by_age:__female:_70_to_74_years_',\n",
    "    'sex_by_age:__female:_75_to_79_years_',\n",
    "    'sex_by_age:__female:_80_to_84_years_',\n",
    "    'sex_by_age:__female:_85_years_and_over_',\n",
    "#     'commute_over_60',\n",
    "    'full_time',\n",
    "    'part_time',\n",
    "    'high_rent_burden',\n",
    "    'extreme_rent_burden','2010 Census Population']\n",
    "X_numeric = mergedData[X_numeric_features]\n",
    "X_categorical_features = ['function', 'gender', 'race', 'highestdegree', 'category', 'insttype']\n",
    "X_categorical = mergedData[X_categorical_features]"
   ]
  },
  {
   "cell_type": "code",
   "execution_count": 11,
   "metadata": {
    "collapsed": false
   },
   "outputs": [
    {
     "data": {
      "image/png": "[encoded data removed]",
      "text/plain": [
       "<matplotlib.figure.Figure at 0x10ac27f28>"
      ]
     },
     "metadata": {},
     "output_type": "display_data"
    }
   ],
   "source": [
    "#plt.plot(sal['instBudget'], sal['instSize'])\n",
    "plt.scatter(mergedData['instbudget'], mergedData['instsize'])\n",
    "plt.show()"
   ]
  },
  {
   "cell_type": "code",
   "execution_count": 12,
   "metadata": {
    "collapsed": false
   },
   "outputs": [],
   "source": [
    "# create dummy variables for each of the categorical features\n",
    "# DOC: http://pandas.pydata.org/pandas-docs/stable/generated/pandas.get_dummies.html\n",
    "\n",
    "# extract dummy variables for each!!!! sooooo nice!\n",
    "Function_dummies = pd.get_dummies(X_categorical['function'])\n",
    "gender_dummies = pd.get_dummies(X_categorical['gender'])\n",
    "race_dummies = pd.get_dummies(X_categorical['race'])\n",
    "highestDegree_dummies = pd.get_dummies(X_categorical['highestdegree'])\n",
    "Category_dummies = pd.get_dummies(X_categorical['category'])\n",
    "instType_dummies = pd.get_dummies(X_categorical['insttype'])\n",
    "\n",
    "X_dummy_features = pd.concat([Function_dummies, gender_dummies, race_dummies, highestDegree_dummies, Category_dummies, instType_dummies], axis=1)\n",
    "\n",
    "# convert to ndarray\n",
    "X_dummy_features = X_dummy_features.as_matrix()"
   ]
  },
  {
   "cell_type": "code",
   "execution_count": 13,
   "metadata": {
    "collapsed": false
   },
   "outputs": [],
   "source": [
    "# impute missing values in numerical features\n",
    "# DOC: http://scikit-learn.org/stable/modules/preprocessing.html\n",
    "\n",
    "from sklearn.preprocessing import Imputer\n",
    "imp = Imputer()\n",
    "imp.fit(X_numeric)\n",
    "X_numeric_imputed = imp.transform(X_numeric)"
   ]
  },
  {
   "cell_type": "code",
   "execution_count": 14,
   "metadata": {
    "collapsed": false
   },
   "outputs": [],
   "source": [
    "X = np.concatenate((X_dummy_features, X_numeric_imputed), axis=1)"
   ]
  },
  {
   "cell_type": "code",
   "execution_count": 15,
   "metadata": {
    "collapsed": true
   },
   "outputs": [],
   "source": [
    "# y is salary\n",
    "y = mergedData.iloc[:, 7].values"
   ]
  },
  {
   "cell_type": "code",
   "execution_count": 16,
   "metadata": {
    "collapsed": false
   },
   "outputs": [],
   "source": [
    "# create training and test sets\n",
    "from sklearn.cross_validation import train_test_split\n",
    "\n",
    "X_train, X_test, y_train, y_test = train_test_split(X, y, test_size=0.3, random_state=0)"
   ]
  },
  {
   "cell_type": "code",
   "execution_count": 17,
   "metadata": {
    "collapsed": true
   },
   "outputs": [],
   "source": [
    "from sklearn.preprocessing import StandardScaler\n",
    "\n",
    "sc = StandardScaler()\n",
    "X_train_std = sc.fit_transform(X_train)\n",
    "X_test_std = sc.fit_transform(X_test)"
   ]
  },
  {
   "cell_type": "code",
   "execution_count": 18,
   "metadata": {
    "collapsed": false
   },
   "outputs": [
    {
     "name": "stdout",
     "output_type": "stream",
     "text": [
      "\n",
      "Eigenvalues \n",
      "[  4.06492039e+01   6.16997204e+00   2.91420444e+00   2.78097134e+00\n",
      "   2.33338238e+00   2.17359088e+00   2.08407051e+00   1.99833639e+00\n",
      "   1.81856063e+00   1.59816436e+00   1.50303259e+00   1.43542968e+00\n",
      "   1.37432374e+00   1.25078101e+00   1.22734604e+00   1.19953518e+00\n",
      "   1.18754754e+00   1.13141741e+00   6.18944697e-01   5.86732108e-01\n",
      "   5.50293480e-01   4.66307053e-01   6.92285651e-01   7.33773352e-01\n",
      "   7.46486346e-01   7.97159182e-01   1.11051279e+00   1.10983422e+00\n",
      "   8.66696953e-01   8.78416272e-01   1.07837520e+00   8.87960998e-01\n",
      "   8.95236527e-01   1.07099535e+00   1.06643776e+00   9.09991991e-01\n",
      "   9.20419353e-01   9.49171027e-01   1.05329939e+00   9.73949378e-01\n",
      "   1.04124690e+00   1.03811937e+00   9.79278293e-01   3.98249706e-01\n",
      "   1.02614593e+00   1.03244774e+00   1.01644504e+00   9.98356221e-01\n",
      "   9.93587956e-01   3.59558904e-01   1.01106387e+00   1.00880025e+00\n",
      "   1.00631415e+00   1.00427625e+00   3.11240241e-01   2.77864243e-01\n",
      "   2.55805450e-01   2.34943543e-01   1.96721005e-01   1.88469180e-01\n",
      "   1.72078872e-01   1.55866797e-01   1.31598865e-01   1.25234982e-01\n",
      "   1.04652824e-01   1.04417601e-01   8.56910203e-02   7.38796041e-02\n",
      "   6.89690794e-02   6.40950184e-02   6.35736938e-02   5.83912543e-02\n",
      "   5.68843631e-02   5.41665221e-02   5.02832724e-02   4.40735067e-02\n",
      "   4.46933264e-02   3.60025574e-02   3.42897004e-02   2.97660431e-02\n",
      "   2.73149489e-02   2.67974397e-02   2.47389181e-02   2.39832643e-02\n",
      "   2.19433519e-02   1.95145533e-02   1.80942950e-02   2.88405586e-03\n",
      "   3.49584267e-03   2.35640168e-02   4.04392621e-03   4.49157909e-03\n",
      "   1.72527754e-02   1.56243744e-02   5.39665997e-03   1.33674876e-02\n",
      "   5.16422268e-03   6.36856572e-03   1.30114756e-02   1.00647681e-02\n",
      "   1.15336258e-02   1.17787422e-02   7.99913612e-03   8.51244699e-03\n",
      "   7.63757642e-03   6.71925052e-03   6.32573866e-16   3.16397682e-16\n",
      "  -1.22867292e-15  -1.38026847e-15]\n",
      "(110,)\n"
     ]
    }
   ],
   "source": [
    "cov_mat = np.cov(X_train_std.T)\n",
    "eigen_vals, eigen_vecs = np.linalg.eig(cov_mat)\n",
    "\n",
    "print('\\nEigenvalues \\n%s' % eigen_vals)\n",
    "print(eigen_vals.shape)"
   ]
  },
  {
   "cell_type": "code",
   "execution_count": 19,
   "metadata": {
    "collapsed": true
   },
   "outputs": [],
   "source": [
    "np.savetxt('cov.csv', cov_mat, delimiter=',')"
   ]
  },
  {
   "cell_type": "code",
   "execution_count": 20,
   "metadata": {
    "collapsed": true
   },
   "outputs": [],
   "source": [
    "tot = sum(eigen_vals)\n",
    "var_exp = [(i / tot) for i in sorted(eigen_vals, reverse=True)]\n",
    "cum_var_exp = np.cumsum(var_exp)"
   ]
  },
  {
   "cell_type": "code",
   "execution_count": 21,
   "metadata": {
    "collapsed": false
   },
   "outputs": [
    {
     "data": {
      "image/png": "[encoded data removed]",
      "text/plain": [
       "<matplotlib.figure.Figure at 0x10cea6b70>"
      ]
     },
     "metadata": {},
     "output_type": "display_data"
    }
   ],
   "source": [
    "plt.bar(range(1, len(var_exp)+1), var_exp, alpha=0.5, align='center', label='individual explained variance')\n",
    "plt.step(range(1, len(var_exp)+1), cum_var_exp, where='mid', label='cumulative explained variance')\n",
    "plt.ylabel('Explained variance ratio')\n",
    "plt.xlabel('Principal components')\n",
    "plt.legend(loc='best')\n",
    "plt.tight_layout()\n",
    "# plt.savefig('./figures/pca1.png', dpi=300)\n",
    "plt.show()"
   ]
  },
  {
   "cell_type": "code",
   "execution_count": 22,
   "metadata": {
    "collapsed": false
   },
   "outputs": [
    {
     "name": "stdout",
     "output_type": "stream",
     "text": [
      "[ 0.36929653  0.05605397  0.02647544  0.02526502  0.02119869  0.01974699\n",
      "  0.0189337   0.01815481]\n",
      "8\n"
     ]
    }
   ],
   "source": [
    "# http://scikit-learn.org/stable/modules/generated/sklearn.decomposition.PCA.html\n",
    "from sklearn.decomposition import PCA\n",
    "pca = PCA(n_components=8)\n",
    "X_train_pca = pca.fit_transform(X_train_std)\n",
    "X_test_pca = pca.transform(X_test_std)\n",
    "print(pca.explained_variance_ratio_)\n",
    "print(len(pca.explained_variance_ratio_))"
   ]
  },
  {
   "cell_type": "code",
   "execution_count": 23,
   "metadata": {
    "collapsed": false
   },
   "outputs": [
    {
     "data": {
      "image/png": "[encoded data removed]",
      "text/plain": [
       "<matplotlib.figure.Figure at 0x10dedab38>"
      ]
     },
     "metadata": {},
     "output_type": "display_data"
    }
   ],
   "source": [
    "plt.bar(range(1, len(pca.explained_variance_ratio_)+1), pca.explained_variance_ratio_, alpha=0.5, align='center')\n",
    "plt.step(range(1, len(pca.explained_variance_ratio_)+1), np.cumsum(pca.explained_variance_ratio_), where='mid')\n",
    "plt.ylabel('Explained variance ratio')\n",
    "plt.xlabel('Principal components')\n",
    "plt.show()"
   ]
  },
  {
   "cell_type": "code",
   "execution_count": 24,
   "metadata": {
    "collapsed": true
   },
   "outputs": [],
   "source": [
    "# keep track of variance on test data, to graph\n",
    "var_to_graph = {}\n",
    "# bring residual sum of squares from regression1.ipynb\n",
    "var_to_graph['simpReg'] = 265376883.08"
   ]
  },
  {
   "cell_type": "code",
   "execution_count": 25,
   "metadata": {
    "collapsed": true
   },
   "outputs": [],
   "source": [
    "from sklearn import datasets, linear_model\n",
    "# DOC: http://scikit-learn.org/stable/modules/generated/sklearn.linear_model.LinearRegression.html"
   ]
  },
  {
   "cell_type": "code",
   "execution_count": 27,
   "metadata": {
    "collapsed": false
   },
   "outputs": [
    {
     "name": "stdout",
     "output_type": "stream",
     "text": [
      "Intercept: \n",
      " 43197.0171641\n",
      "Coefficients: \n",
      " [  6.09699637e+03  -1.71814599e+04  -2.23190494e+04  -2.23422539e+04\n",
      "  -1.42251976e+04  -1.14863562e+04  -2.11089656e+04  -2.70446624e+04\n",
      "  -2.11205530e+04  -2.78047780e+04  -1.60726604e+04  -2.72647744e+03\n",
      "  -2.46826021e+04  -2.60600323e+04  -1.99901904e+04  -2.61565327e+04\n",
      "  -2.25503426e+04  -2.53407546e+04  -2.21393903e+04  -1.93680085e+04\n",
      "  -1.47806745e+04  -9.04385494e+03  -2.18731891e+04  -2.06938093e+04\n",
      "  -2.15967137e+04  -1.98387294e+04  -2.24105657e+04  -2.39492686e+04\n",
      "   1.13788868e+03  -9.56777172e+02  -1.98576349e+03   1.31540988e+03\n",
      "  -3.35976287e+03   5.91632960e+02  -3.76815301e+03   4.45038739e+03\n",
      "  -1.18985199e+03   4.99800577e+03   8.81693203e+03   2.16889491e+04\n",
      "   1.26631397e+04   1.73112473e+03   3.01131881e+03  -3.01131881e+03\n",
      "  -1.10046132e+03  -2.98047159e+03  -3.35005191e+01   7.93855738e+02\n",
      "   3.60873324e+03  -6.04171042e+02   7.50189997e+01  -4.68443710e+01\n",
      "  -2.46680526e+01   5.37135114e+00   3.22967748e+00   3.47313662e-04\n",
      "   1.78794015e-01   6.90743152e-01  -4.42674358e+00  -6.77722138e+00\n",
      "   1.25923572e+01   4.14458473e+00   1.42387092e-01   4.44585362e+00\n",
      "   5.69490866e-01   3.04520759e-01  -7.86574582e-02  -4.97676732e+00\n",
      "   4.63509769e+00  -7.80530071e+00   2.90393068e-01   3.70974880e+00\n",
      "  -9.00190534e+00   1.70461860e+01  -2.26692443e+01   1.45375668e+01\n",
      "  -5.60372922e+00  -3.86442562e+01  -9.28758155e+00   3.06399901e+01\n",
      "   1.69039723e+01   9.96599937e-01  -2.34145093e+01   1.93549651e+01\n",
      "  -1.18142224e+01   2.16730050e+01  -2.50252142e+00  -5.36863544e+00\n",
      "   2.02979126e+00  -1.59364173e+00   7.26862144e+00  -8.11066557e+00\n",
      "  -7.49958678e+00   7.34377008e+00   1.00408873e+01  -2.79165259e+01\n",
      "   5.07372178e+00   4.03904094e+01   1.03128905e+01   8.21008918e+00\n",
      "  -3.32542268e+01   7.54106265e+00  -1.42081676e+01   7.25194990e+00\n",
      "  -9.81186298e+00   9.06167399e+00  -9.06172405e+00  -1.18222072e+02\n",
      "   3.95446350e+01   7.71544909e-02]\n",
      "Residual sum of squares, training data: 111758193.11\n",
      "Residual sum of squares, test data: 131153799.56\n",
      "Variance score, training data: 0.69\n",
      "Distribution of prediction error on training data:\n"
     ]
    },
    {
     "data": {
      "image/png": "[encoded data removed]",
      "text/plain": [
       "<matplotlib.figure.Figure at 0x10e282e48>"
      ]
     },
     "metadata": {},
     "output_type": "display_data"
    },
    {
     "name": "stdout",
     "output_type": "stream",
     "text": [
      "Distribution of prediction error on test data:\n"
     ]
    },
    {
     "data": {
      "image/png": "[encoded data removed]",
      "text/plain": [
       "<matplotlib.figure.Figure at 0x10cfbf6d8>"
      ]
     },
     "metadata": {},
     "output_type": "display_data"
    }
   ],
   "source": [
    "# Create linear regression object\n",
    "regr = linear_model.LinearRegression()\n",
    "\n",
    "# Train the model using the training sets\n",
    "X_train_no_intercept = X_train\n",
    "X_train = X_train.reshape(-1, X_train.shape[1])\n",
    "regr.fit(X_train, y_train)\n",
    "\n",
    "# The intercept\n",
    "print('Intercept: \\n', regr.intercept_)\n",
    "# The coefficients\n",
    "print('Coefficients: \\n', regr.coef_)\n",
    "# The mean square error\n",
    "print(\"Residual sum of squares, training data: %.2f\"\n",
    "      % np.mean((regr.predict(X_train) - y_train) ** 2))\n",
    "print(\"Residual sum of squares, test data: %.2f\"\n",
    "      % np.mean((regr.predict(X_test) - y_test) ** 2))\n",
    "var_to_graph['multReg_linear'] = np.mean((regr.predict(X_test) - y_test) ** 2)\n",
    "# Explained variance score: 1 is perfect prediction\n",
    "print('Variance score, training data: %.2f' % regr.score(X_train, y_train))\n",
    "#vector of prediction error\n",
    "print('Distribution of prediction error on training data:')\n",
    "predError = regr.predict(X_train) - y_train\n",
    "plt.hist(predError)\n",
    "plt.show()\n",
    "\n",
    "print('Distribution of prediction error on test data:')\n",
    "predError = regr.predict(X_test) - y_test\n",
    "plt.hist(predError)\n",
    "plt.show()"
   ]
  },
  {
   "cell_type": "code",
   "execution_count": 28,
   "metadata": {
    "collapsed": true
   },
   "outputs": [],
   "source": [
    "from sklearn.preprocessing import PolynomialFeatures\n",
    "# DOC: http://scikit-learn.org/stable/modules/preprocessing.html\n",
    "\n",
    "poly = PolynomialFeatures(2)\n",
    "X_poly = poly.fit_transform(X)"
   ]
  },
  {
   "cell_type": "code",
   "execution_count": 29,
   "metadata": {
    "collapsed": false
   },
   "outputs": [],
   "source": [
    "# create training and test sets\n",
    "from sklearn.cross_validation import train_test_split\n",
    "\n",
    "X_train, X_test, y_train, y_test = train_test_split(\n",
    "         X_poly, y, test_size=0.3, random_state=0)"
   ]
  },
  {
   "cell_type": "code",
   "execution_count": 30,
   "metadata": {
    "collapsed": false
   },
   "outputs": [
    {
     "name": "stdout",
     "output_type": "stream",
     "text": [
      "Intercept: \n",
      " 293508956255.0\n",
      "Coefficients: \n",
      " [ -1.26176741e+10   1.54853854e+09   1.70544303e+09 ...,  -1.57997933e+07\n",
      "  -4.30890668e+04   7.54902053e+00]\n",
      "Residual sum of squares, training data: 8602620.01\n",
      "Residual sum of squares, test data: 310013897329754767360.00\n",
      "Variance score, training data: 0.98\n",
      "Distribution of prediction error on training data:\n"
     ]
    },
    {
     "data": {
      "image/png": "[encoded data removed]",
      "text/plain": [
       "<matplotlib.figure.Figure at 0x10d049400>"
      ]
     },
     "metadata": {},
     "output_type": "display_data"
    },
    {
     "name": "stdout",
     "output_type": "stream",
     "text": [
      "Distribution of prediction error on test data:\n"
     ]
    },
    {
     "data": {
      "image/png": "[encoded data removed]",
      "text/plain": [
       "<matplotlib.figure.Figure at 0x10a84e080>"
      ]
     },
     "metadata": {},
     "output_type": "display_data"
    }
   ],
   "source": [
    "## POLYNOMINAL \n",
    "# Create linear regression object\n",
    "poly = linear_model.LinearRegression(normalize=True)\n",
    "\n",
    "# Train the model using the training sets\n",
    "X_train_no_intercept = X_train\n",
    "X_train = X_train.reshape(-1, X_train.shape[1])\n",
    "poly.fit(X_train, y_train)\n",
    "\n",
    "# The intercept\n",
    "print('Intercept: \\n', poly.intercept_)\n",
    "# The coefficients\n",
    "print('Coefficients: \\n', poly.coef_)\n",
    "# The mean square error\n",
    "print(\"Residual sum of squares, training data: %.2f\"\n",
    "      % np.mean((poly.predict(X_train) - y_train) ** 2))\n",
    "print(\"Residual sum of squares, test data: %.2f\"\n",
    "      % np.mean((poly.predict(X_test) - y_test) ** 2))\n",
    "var_to_graph['multReg_poly'] = np.mean((poly.predict(X_test) - y_test) ** 2)\n",
    "# Explained variance score: 1 is perfect prediction\n",
    "print('Variance score, training data: %.2f' % poly.score(X_train, y_train))\n",
    "#vector of prediction error\n",
    "print('Distribution of prediction error on training data:')\n",
    "predError = poly.predict(X_train) - y_train\n",
    "plt.hist(predError)\n",
    "plt.show()\n",
    "\n",
    "print('Distribution of prediction error on test data:')\n",
    "predError = poly.predict(X_test) - y_test\n",
    "plt.hist(predError)\n",
    "plt.show()"
   ]
  },
  {
   "cell_type": "code",
   "execution_count": 31,
   "metadata": {
    "collapsed": false
   },
   "outputs": [
    {
     "name": "stdout",
     "output_type": "stream",
     "text": [
      "Intercept: \n",
      " 29992.4027321\n",
      "Coefficients: \n",
      " [  2.16442835e+04  -1.00854954e+03  -6.12172453e+03  -5.88680076e+03\n",
      "   1.63361464e+03   4.69303681e+03  -5.16284188e+03  -9.98510857e+03\n",
      "  -4.90457060e+03  -7.32003665e+03   9.92602407e+01   1.27663820e+04\n",
      "  -8.40766961e+03  -9.20853906e+03  -3.84669242e+03  -6.45509925e+03\n",
      "  -5.68144270e+03  -9.25846094e+03  -5.33240195e+03  -3.34394256e+03\n",
      "   6.16662957e+02   6.68818303e+03  -5.69061002e+03  -4.41793418e+03\n",
      "  -5.39362332e+03  -3.67072409e+03  -5.53080361e+03  -7.88507545e+03\n",
      "   2.61082175e+03   4.67540638e+02  -1.49097319e+03   1.68623946e+03\n",
      "  -2.44896641e+03   1.08833278e+03  -3.09801967e+03   4.00068997e+03\n",
      "  -4.69765445e+02   1.11465851e+03   4.87777501e+03   1.68340326e+04\n",
      "   8.77802716e+03  -2.01143754e+03   2.80773733e+03  -2.80773733e+03\n",
      "  -2.06522272e+03  -4.11707765e+03  -7.10347327e+01   8.33982693e+02\n",
      "   3.89979903e+03  -7.51207623e+02   6.95200578e+01  -4.13980582e+01\n",
      "  -3.57394960e+01   4.94263657e+00   3.30143351e+00   3.42922231e-04\n",
      "   1.77523898e-01   5.69064759e-01  -3.42174240e+00  -6.61119606e+00\n",
      "   1.08220123e+01   2.64856730e+00   6.83547015e-01   4.57449234e+00\n",
      "   4.78877529e-01   1.60932057e+00  -1.58720604e+00  -4.38854044e+00\n",
      "   1.43124020e+00  -9.56845937e+00   9.25756058e-01   4.08787946e+00\n",
      "  -1.01421076e+01   1.51681917e+01  -2.23139268e+01   1.90903088e+01\n",
      "  -2.05149035e+00  -3.98450996e+01  -9.70991215e+00   2.87198898e+01\n",
      "   1.99683412e+01   1.06372267e+00  -2.03290130e+01   1.57967342e+01\n",
      "  -1.28753580e+01   2.26088964e+01  -3.04115658e+00  -4.74546462e+00\n",
      "   1.39352843e+00  -2.02971516e+00   7.83413502e+00  -8.09735980e+00\n",
      "  -5.13783285e+00   9.00137274e+00   1.34524489e+01  -2.64792456e+01\n",
      "   4.44969099e+00   3.69596268e+01   8.19936495e+00   2.52711555e+00\n",
      "  -3.22229871e+01   6.66375745e+00  -1.14138201e+01   6.65451760e+00\n",
      "  -8.10556533e+00   4.84002344e+00  -4.84017756e+00  -1.12672326e+02\n",
      "   3.90892939e+01   8.62105853e-02]\n",
      "Residual sum of squares, training data: 112718666.74\n",
      "Residual sum of squares, test data: 129815945.17\n",
      "Variance score, training data: 0.68\n",
      "Distribution of prediction error on training data:\n"
     ]
    },
    {
     "data": {
      "image/png": "[encoded data removed]",
      "text/plain": [
       "<matplotlib.figure.Figure at 0x10e289be0>"
      ]
     },
     "metadata": {},
     "output_type": "display_data"
    },
    {
     "name": "stdout",
     "output_type": "stream",
     "text": [
      "Distribution of prediction error on test data:\n"
     ]
    },
    {
     "data": {
      "image/png": "[encoded data removed]",
      "text/plain": [
       "<matplotlib.figure.Figure at 0x10d42af28>"
      ]
     },
     "metadata": {},
     "output_type": "display_data"
    }
   ],
   "source": [
    "## RIDGE REGRESSION\n",
    "# DOC: http://scikit-learn.org/stable/modules/generated/sklearn.linear_model.Ridge.html\n",
    "\n",
    "# create training and test sets\n",
    "from sklearn.cross_validation import train_test_split\n",
    "\n",
    "X_train, X_test, y_train, y_test = train_test_split(\n",
    "         X, y, test_size=0.3, random_state=0)\n",
    "\n",
    "# Create linear regression object\n",
    "regr = linear_model.Ridge()\n",
    "\n",
    "# Train the model using the training sets\n",
    "X_train_no_intercept = X_train\n",
    "X_train = X_train.reshape(-1, X_train.shape[1])\n",
    "regr.fit(X_train, y_train)\n",
    "\n",
    "# The intercept\n",
    "print('Intercept: \\n', regr.intercept_)\n",
    "# The coefficients\n",
    "print('Coefficients: \\n', regr.coef_)\n",
    "# The mean square error\n",
    "print(\"Residual sum of squares, training data: %.2f\"\n",
    "      % np.mean((regr.predict(X_train) - y_train) ** 2))\n",
    "print(\"Residual sum of squares, test data: %.2f\"\n",
    "      % np.mean((regr.predict(X_test) - y_test) ** 2))\n",
    "var_to_graph['multReg_ridge'] = np.mean((regr.predict(X_test) - y_test) ** 2)\n",
    "# Explained variance score: 1 is perfect prediction\n",
    "print('Variance score, training data: %.2f' % regr.score(X_train, y_train))\n",
    "#vector of prediction error\n",
    "print('Distribution of prediction error on training data:')\n",
    "predError = regr.predict(X_train) - y_train\n",
    "plt.hist(predError)\n",
    "plt.show()\n",
    "\n",
    "print('Distribution of prediction error on test data:')\n",
    "predError = regr.predict(X_test) - y_test\n",
    "plt.hist(predError)\n",
    "plt.show()"
   ]
  },
  {
   "cell_type": "code",
   "execution_count": 32,
   "metadata": {
    "collapsed": false
   },
   "outputs": [
    {
     "data": {
      "image/png": "[encoded data removed]",
      "text/plain": [
       "<matplotlib.figure.Figure at 0x10e3d4b38>"
      ]
     },
     "metadata": {},
     "output_type": "display_data"
    }
   ],
   "source": [
    "# bar graph of dict with Residual Sum of Squares on test datasets\n",
    "\n",
    "#var_to_graph['multReg_poly'] = 0\n",
    "plt.bar(range(len(var_to_graph)), var_to_graph.values(), align='center')\n",
    "plt.xticks(range(len(var_to_graph)), var_to_graph.keys())\n",
    "\n",
    "plt.show()"
   ]
  },
  {
   "cell_type": "code",
   "execution_count": null,
   "metadata": {
    "collapsed": true
   },
   "outputs": [],
   "source": []
  }
 ],
 "metadata": {
  "kernelspec": {
   "display_name": "Python 3",
   "language": "python",
   "name": "python3"
  },
  "language_info": {
   "codemirror_mode": {
    "name": "ipython",
    "version": 3
   },
   "file_extension": ".py",
   "mimetype": "text/x-python",
   "name": "python",
   "nbconvert_exporter": "python",
   "pygments_lexer": "ipython3",
   "version": "3.5.1"
  }
 },
 "nbformat": 4,
 "nbformat_minor": 0
}
